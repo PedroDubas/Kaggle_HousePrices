{
  "nbformat": 4,
  "nbformat_minor": 0,
  "metadata": {
    "colab": {
      "name": "House Prices.ipynb",
      "version": "0.3.2",
      "provenance": [],
      "include_colab_link": true
    },
    "kernelspec": {
      "name": "python3",
      "display_name": "Python 3"
    }
  },
  "cells": [
    {
      "cell_type": "markdown",
      "metadata": {
        "id": "view-in-github",
        "colab_type": "text"
      },
      "source": [
        "<a href=\"https://colab.research.google.com/github/PedroDubas/Kaggle_HousePrices/blob/master/House_Prices.ipynb\" target=\"_parent\"><img src=\"https://colab.research.google.com/assets/colab-badge.svg\" alt=\"Open In Colab\"/></a>"
      ]
    },
    {
      "cell_type": "code",
      "metadata": {
        "id": "FpXPxPzNMnm4",
        "colab_type": "code",
        "outputId": "daeb338b-cfaf-4fe0-f3d6-13a38fd15341",
        "colab": {
          "base_uri": "https://localhost:8080/",
          "height": 231
        }
      },
      "source": [
        "!mkdir /root/.kaggle\n",
        "meu_json = '{\"username\":\"kleyer\",\"key\":\"b986abecaefe13f01f8073272b3c6f7e\"}'\n",
        "with open('/root/.kaggle/kaggle.json', 'w+') as f:\n",
        "    f.write(meu_json)"
      ],
      "execution_count": 4,
      "outputs": [
        {
          "output_type": "stream",
          "text": [
            "A sintaxe do comando est  incorreta.\n"
          ],
          "name": "stderr"
        },
        {
          "output_type": "error",
          "ename": "FileNotFoundError",
          "evalue": "ignored",
          "traceback": [
            "\u001b[1;31m---------------------------------------------------------------------------\u001b[0m",
            "\u001b[1;31mFileNotFoundError\u001b[0m                         Traceback (most recent call last)",
            "\u001b[1;32m<ipython-input-4-f13cd5eb1bcd>\u001b[0m in \u001b[0;36m<module>\u001b[1;34m()\u001b[0m\n\u001b[0;32m      1\u001b[0m \u001b[0mget_ipython\u001b[0m\u001b[1;33m(\u001b[0m\u001b[1;33m)\u001b[0m\u001b[1;33m.\u001b[0m\u001b[0msystem\u001b[0m\u001b[1;33m(\u001b[0m\u001b[1;34m'mkdir /root/.kaggle'\u001b[0m\u001b[1;33m)\u001b[0m\u001b[1;33m\u001b[0m\u001b[0m\n\u001b[0;32m      2\u001b[0m \u001b[0mmeu_json\u001b[0m \u001b[1;33m=\u001b[0m \u001b[1;34m'{\"username\":\"kleyer\",\"key\":\"b986abecaefe13f01f8073272b3c6f7e\"}'\u001b[0m\u001b[1;33m\u001b[0m\u001b[0m\n\u001b[1;32m----> 3\u001b[1;33m \u001b[1;32mwith\u001b[0m \u001b[0mopen\u001b[0m\u001b[1;33m(\u001b[0m\u001b[1;34m'/root/.kaggle/kaggle.json'\u001b[0m\u001b[1;33m,\u001b[0m \u001b[1;34m'w+'\u001b[0m\u001b[1;33m)\u001b[0m \u001b[1;32mas\u001b[0m \u001b[0mf\u001b[0m\u001b[1;33m:\u001b[0m\u001b[1;33m\u001b[0m\u001b[0m\n\u001b[0m\u001b[0;32m      4\u001b[0m     \u001b[0mf\u001b[0m\u001b[1;33m.\u001b[0m\u001b[0mwrite\u001b[0m\u001b[1;33m(\u001b[0m\u001b[0mmeu_json\u001b[0m\u001b[1;33m)\u001b[0m\u001b[1;33m\u001b[0m\u001b[0m\n",
            "\u001b[1;31mFileNotFoundError\u001b[0m: [Errno 2] No such file or directory: '/root/.kaggle/kaggle.json'"
          ]
        }
      ]
    },
    {
      "cell_type": "code",
      "metadata": {
        "id": "EyhhXAfoNxSL",
        "colab_type": "code",
        "outputId": "943de414-a66f-41ff-f770-ea239aae9eec",
        "colab": {
          "base_uri": "https://localhost:8080/",
          "height": 357
        }
      },
      "source": [
        "!kaggle competitions download -c house-prices-advanced-regression-techniques"
      ],
      "execution_count": 11,
      "outputs": [
        {
          "output_type": "stream",
          "text": [
            "Downloading sample_submission.csv to C:\\Users\\pedro\n",
            "\n",
            "Downloading test.csv to C:\\Users\\pedro\n",
            "\n",
            "Downloading train.csv to C:\\Users\\pedro\n",
            "\n",
            "Downloading data_description.txt to C:\\Users\\pedro\n",
            "\n"
          ],
          "name": "stdout"
        },
        {
          "output_type": "stream",
          "text": [
            "\n",
            "  0%|          | 0.00/31.2k [00:00<?, ?B/s]\n",
            "100%|##########| 31.2k/31.2k [00:00<00:00, 3.55MB/s]\n",
            "\n",
            "  0%|          | 0.00/441k [00:00<?, ?B/s]\n",
            "100%|##########| 441k/441k [00:00<00:00, 23.8MB/s]\n",
            "\n",
            "  0%|          | 0.00/450k [00:00<?, ?B/s]\n",
            "100%|##########| 450k/450k [00:00<00:00, 41.9MB/s]\n",
            "\n",
            "  0%|          | 0.00/13.1k [00:00<?, ?B/s]\n",
            "100%|##########| 13.1k/13.1k [00:00<00:00, 1.67MB/s]\n"
          ],
          "name": "stderr"
        }
      ]
    },
    {
      "cell_type": "code",
      "metadata": {
        "id": "ByAY1AGQN35P",
        "colab_type": "code",
        "colab": {}
      },
      "source": [
        "\n",
        "dic = {\"SalePrice\": \" the property's sale price in dollars. This is the target variable that you're trying to predict.\",\n",
        "       \"MSSubClass\": \" The building class\",\n",
        "       \"MSZoning\": \" The general zoning classification\",\n",
        "       \"LotFrontage\": \" Linear feet of street connected to property\",\n",
        "       \"LotArea\": \" Lot size in square feet\",\n",
        "       \"Street\": \" Type of road access\",\n",
        "       \"Alley\": \" Type of alley access\",\n",
        "       \"LotShape\": \" General shape of property\",\n",
        "       \"LandContour\": \" Flatness of the property\",\n",
        "       \"Utilities\": \" Type of utilities available\",\n",
        "       \"LotConfig\": \" Lot configuration\",\n",
        "       \"LandSlope\": \" Slope of property\",\n",
        "       \"Neighborhood\": \" Physical locations within Ames city limits\",\n",
        "       \"Condition1\": \" Proximity to main road or railroad\",\n",
        "       \"Condition2\": \" Proximity to main road or railroad (if a second is present)\",\n",
        "       \"BldgType\": \" Type of dwelling\",\n",
        "       \"HouseStyle\": \" Style of dwelling\",\n",
        "       \"OverallQual\": \" Overall material and finish quality\",\n",
        "       \"OverallCond\": \" Overall condition rating\",\n",
        "       \"YearBuilt\": \" Original construction date\",\n",
        "       \"YearRemodAdd\": \" Remodel date\",\n",
        "       \"RoofStyle\": \" Type of roof\",\n",
        "       \"RoofMatl\": \" Roof material\",\n",
        "       \"Exterior1st\": \" Exterior covering on house\",\n",
        "       \"Exterior2nd\": \" Exterior covering on house (if more than one material)\",\n",
        "       \"MasVnrType\": \" Masonry veneer type\",\n",
        "       \"MasVnrArea\": \" Masonry veneer area in square feet\",\n",
        "       \"ExterQual\": \" Exterior material quality\",\n",
        "       \"ExterCond\": \" Present condition of the material on the exterior\",\n",
        "       \"Foundation\": \" Type of foundation\",\n",
        "       \"BsmtQual\": \" Height of the basement\",\n",
        "       \"BsmtCond\": \" General condition of the basement\",\n",
        "       \"BsmtExposure\": \" Walkout or garden level basement walls\",\n",
        "       \"BsmtFinType1\": \" Quality of basement finished area\",\n",
        "       \"BsmtFinSF1\": \" Type 1 finished square feet\",\n",
        "       \"BsmtFinType2\": \" Quality of second finished area (if present)\",\n",
        "       \"BsmtFinSF2\": \" Type 2 finished square feet\",\n",
        "       \"BsmtUnfSF\": \" Unfinished square feet of basement area\",\n",
        "       \"TotalBsmtSF\": \" Total square feet of basement area\",\n",
        "       \"Heating\": \" Type of heating\",\n",
        "       \"HeatingQC\": \" Heating quality and condition\",\n",
        "       \"CentralAir\": \" Central air conditioning\",\n",
        "       \"Electrical\": \" Electrical system\",\n",
        "       \"1stFlrSF\": \" First Floor square feet\",\n",
        "       \"2ndFlrSF\": \" Second floor square feet\",\n",
        "       \"LowQualFinSF\": \" Low quality finished square feet (all floors)\",\n",
        "       \"GrLivArea\": \" Above grade (ground) living area square feet\",\n",
        "       \"BsmtFullBath\": \" Basement full bathrooms\",\n",
        "       \"BsmtHalfBath\": \" Basement half bathrooms\",\n",
        "       \"FullBath\": \" Full bathrooms above grade\",\n",
        "       \"HalfBath\": \" Half baths above grade\",\n",
        "       \"Bedroom\": \" Number of bedrooms above basement level\",\n",
        "       \"Kitchen\": \" Number of kitchens\",\n",
        "       \"KitchenQual\": \" Kitchen quality\",\n",
        "       \"TotRmsAbvGrd\": \" Total rooms above grade (does not include bathrooms)\",\n",
        "       \"Functional\": \" Home functionality rating\",\n",
        "       \"Fireplaces\": \" Number of fireplaces\",\n",
        "       \"FireplaceQu\": \" Fireplace quality\",\n",
        "       \"GarageType\": \" Garage location\",\n",
        "       \"GarageYrBlt\": \" Year garage was built\",\n",
        "       \"GarageFinish\": \" Interior finish of the garage\",\n",
        "       \"GarageCars\": \" Size of garage in car capacity\",\n",
        "       \"GarageArea\": \" Size of garage in square feet\",\n",
        "       \"GarageQual\": \" Garage quality\",\n",
        "       \"GarageCond\": \" Garage condition\",\n",
        "       \"PavedDrive\": \" Paved driveway\",\n",
        "       \"WoodDeckSF\": \" Wood deck area in square feet\",\n",
        "       \"OpenPorchSF\": \" Open porch area in square feet\",\n",
        "       \"EnclosedPorch\": \" Enclosed porch area in square feet\",\n",
        "       \"3SsnPorch\": \" Three season porch area in square feet\",\n",
        "       \"ScreenPorch\": \" Screen porch area in square feet\",\n",
        "       \"PoolArea\": \" Pool area in square feet\",\n",
        "       \"PoolQC\": \" Pool quality\",\n",
        "       \"Fence\": \" Fence quality\",\n",
        "       \"MiscFeature\": \" Miscellaneous feature not covered in other categories\",\n",
        "       \"MiscVal\": \" $Value of miscellaneous feature\",\n",
        "       \"MoSold\": \" Month Sold\",\n",
        "       \"YrSold\": \" Year Sold\",\n",
        "       \"SaleType\": \" Type of sale\",\n",
        "       \"SaleCondition\": \" Condition of sale\"\n",
        "       }"
      ],
      "execution_count": 0,
      "outputs": []
    },
    {
      "cell_type": "code",
      "metadata": {
        "id": "elVcK6KMOo_2",
        "colab_type": "code",
        "colab": {}
      },
      "source": [
        "import pandas as pd\n",
        "import IPython\n",
        "from IPython import display\n",
        "from sklearn.ensemble import RandomForestRegressor, RandomForestClassifier, AdaBoostClassifier,GradientBoostingClassifier, ExtraTreesClassifier, VotingClassifier\n",
        "from sklearn.ensemble import IsolationForest\n",
        "from sklearn.discriminant_analysis import LinearDiscriminantAnalysis\n",
        "from sklearn.linear_model import LogisticRegression\n",
        "from sklearn.neighbors import KNeighborsClassifier\n",
        "from sklearn.tree import DecisionTreeClassifier\n",
        "from sklearn.neural_network import MLPClassifier\n",
        "from sklearn.svm import SVC\n",
        "from sklearn.model_selection import GridSearchCV, cross_val_score, StratifiedKFold, learning_curve, train_test_split\n",
        "from sklearn.feature_selection import RFECV\n",
        "from sklearn.pipeline import Pipeline\n",
        "import sklearn\n",
        "import xgboost as xgb\n",
        "from scipy.stats import norm, skew\n",
        "import seaborn as sns\n",
        "import matplotlib.pyplot as plt\n",
        "import numpy as np\n",
        "import random\n",
        "import time\n",
        "\n",
        "from scipy import stats\n",
        "\n",
        "import warnings\n",
        "warnings.filterwarnings('ignore')\n",
        "# %matplotlib inline\n",
        "pd.set_option('display.float_format', lambda x: '{:.4f}'.format(x))  # Limiting floats output to 2 decimal points\n",
        "\n",
        "seed = 42"
      ],
      "execution_count": 0,
      "outputs": []
    },
    {
      "cell_type": "code",
      "metadata": {
        "id": "yoWaMfKYOrnz",
        "colab_type": "code",
        "outputId": "8438b556-b913-4303-8846-d8a7650b1fda",
        "colab": {
          "base_uri": "https://localhost:8080/",
          "height": 68
        }
      },
      "source": [
        "train = pd.read_csv(\"train.csv\")\n",
        "test = pd.read_csv(\"test.csv\")\n",
        "data = pd.concat([train, test])\n",
        "print(train.shape)\n",
        "print(test.shape)\n",
        "print(data.shape)"
      ],
      "execution_count": 14,
      "outputs": [
        {
          "output_type": "stream",
          "text": [
            "(1460, 81)\n",
            "(1459, 80)\n",
            "(2919, 81)\n"
          ],
          "name": "stdout"
        }
      ]
    },
    {
      "cell_type": "markdown",
      "metadata": {
        "id": "6T2amlO_2nMC",
        "colab_type": "text"
      },
      "source": [
        "#Data Prep"
      ]
    },
    {
      "cell_type": "markdown",
      "metadata": {
        "id": "eLqK9TpQ2nIt",
        "colab_type": "text"
      },
      "source": [
        "##Data Missing"
      ]
    },
    {
      "cell_type": "code",
      "metadata": {
        "id": "nDL4k8mtOwgZ",
        "colab_type": "code",
        "outputId": "6c656321-3125-4b0a-9ffc-c2f41e8d95fa",
        "colab": {
          "base_uri": "https://localhost:8080/",
          "height": 669
        }
      },
      "source": [
        "total = data.isnull().sum().sort_values(ascending=False)\n",
        "percent = (data.isnull().sum() / data.isnull().count()).sort_values(ascending=False)\n",
        "missing_data = pd.concat([total, percent], axis=1, keys=['Total', 'Percent'])\n",
        "missing_data.head(20)"
      ],
      "execution_count": 15,
      "outputs": [
        {
          "output_type": "execute_result",
          "data": {
            "text/plain": [
              "              Total  Percent\n",
              "PoolQC         2909   0.9966\n",
              "MiscFeature    2814   0.9640\n",
              "Alley          2721   0.9322\n",
              "Fence          2348   0.8044\n",
              "SalePrice      1459   0.4998\n",
              "FireplaceQu    1420   0.4865\n",
              "LotFrontage     486   0.1665\n",
              "GarageFinish    159   0.0545\n",
              "GarageCond      159   0.0545\n",
              "GarageQual      159   0.0545\n",
              "GarageYrBlt     159   0.0545\n",
              "GarageType      157   0.0538\n",
              "BsmtCond         82   0.0281\n",
              "BsmtExposure     82   0.0281\n",
              "BsmtQual         81   0.0277\n",
              "BsmtFinType2     80   0.0274\n",
              "BsmtFinType1     79   0.0271\n",
              "MasVnrType       24   0.0082\n",
              "MasVnrArea       23   0.0079\n",
              "MSZoning          4   0.0014"
            ],
            "text/html": [
              "<div>\n",
              "<style scoped>\n",
              "    .dataframe tbody tr th:only-of-type {\n",
              "        vertical-align: middle;\n",
              "    }\n",
              "\n",
              "    .dataframe tbody tr th {\n",
              "        vertical-align: top;\n",
              "    }\n",
              "\n",
              "    .dataframe thead th {\n",
              "        text-align: right;\n",
              "    }\n",
              "</style>\n",
              "<table border=\"1\" class=\"dataframe\">\n",
              "  <thead>\n",
              "    <tr style=\"text-align: right;\">\n",
              "      <th></th>\n",
              "      <th>Total</th>\n",
              "      <th>Percent</th>\n",
              "    </tr>\n",
              "  </thead>\n",
              "  <tbody>\n",
              "    <tr>\n",
              "      <th>PoolQC</th>\n",
              "      <td>2909</td>\n",
              "      <td>0.9966</td>\n",
              "    </tr>\n",
              "    <tr>\n",
              "      <th>MiscFeature</th>\n",
              "      <td>2814</td>\n",
              "      <td>0.9640</td>\n",
              "    </tr>\n",
              "    <tr>\n",
              "      <th>Alley</th>\n",
              "      <td>2721</td>\n",
              "      <td>0.9322</td>\n",
              "    </tr>\n",
              "    <tr>\n",
              "      <th>Fence</th>\n",
              "      <td>2348</td>\n",
              "      <td>0.8044</td>\n",
              "    </tr>\n",
              "    <tr>\n",
              "      <th>SalePrice</th>\n",
              "      <td>1459</td>\n",
              "      <td>0.4998</td>\n",
              "    </tr>\n",
              "    <tr>\n",
              "      <th>FireplaceQu</th>\n",
              "      <td>1420</td>\n",
              "      <td>0.4865</td>\n",
              "    </tr>\n",
              "    <tr>\n",
              "      <th>LotFrontage</th>\n",
              "      <td>486</td>\n",
              "      <td>0.1665</td>\n",
              "    </tr>\n",
              "    <tr>\n",
              "      <th>GarageFinish</th>\n",
              "      <td>159</td>\n",
              "      <td>0.0545</td>\n",
              "    </tr>\n",
              "    <tr>\n",
              "      <th>GarageCond</th>\n",
              "      <td>159</td>\n",
              "      <td>0.0545</td>\n",
              "    </tr>\n",
              "    <tr>\n",
              "      <th>GarageQual</th>\n",
              "      <td>159</td>\n",
              "      <td>0.0545</td>\n",
              "    </tr>\n",
              "    <tr>\n",
              "      <th>GarageYrBlt</th>\n",
              "      <td>159</td>\n",
              "      <td>0.0545</td>\n",
              "    </tr>\n",
              "    <tr>\n",
              "      <th>GarageType</th>\n",
              "      <td>157</td>\n",
              "      <td>0.0538</td>\n",
              "    </tr>\n",
              "    <tr>\n",
              "      <th>BsmtCond</th>\n",
              "      <td>82</td>\n",
              "      <td>0.0281</td>\n",
              "    </tr>\n",
              "    <tr>\n",
              "      <th>BsmtExposure</th>\n",
              "      <td>82</td>\n",
              "      <td>0.0281</td>\n",
              "    </tr>\n",
              "    <tr>\n",
              "      <th>BsmtQual</th>\n",
              "      <td>81</td>\n",
              "      <td>0.0277</td>\n",
              "    </tr>\n",
              "    <tr>\n",
              "      <th>BsmtFinType2</th>\n",
              "      <td>80</td>\n",
              "      <td>0.0274</td>\n",
              "    </tr>\n",
              "    <tr>\n",
              "      <th>BsmtFinType1</th>\n",
              "      <td>79</td>\n",
              "      <td>0.0271</td>\n",
              "    </tr>\n",
              "    <tr>\n",
              "      <th>MasVnrType</th>\n",
              "      <td>24</td>\n",
              "      <td>0.0082</td>\n",
              "    </tr>\n",
              "    <tr>\n",
              "      <th>MasVnrArea</th>\n",
              "      <td>23</td>\n",
              "      <td>0.0079</td>\n",
              "    </tr>\n",
              "    <tr>\n",
              "      <th>MSZoning</th>\n",
              "      <td>4</td>\n",
              "      <td>0.0014</td>\n",
              "    </tr>\n",
              "  </tbody>\n",
              "</table>\n",
              "</div>"
            ]
          },
          "metadata": {
            "tags": []
          },
          "execution_count": 15
        }
      ]
    },
    {
      "cell_type": "code",
      "metadata": {
        "id": "SB8yhvtUOyx3",
        "colab_type": "code",
        "outputId": "5db5e3aa-f314-4e63-9908-cabd58208902",
        "colab": {
          "base_uri": "https://localhost:8080/",
          "height": 34
        }
      },
      "source": [
        "#Colocando o valor mais comum nas variaveis onde esta null\n",
        "common_vars = ['Exterior1st', 'Exterior2nd', 'SaleType', 'Electrical', 'KitchenQual']\n",
        "for var in common_vars:\n",
        "    data[var] = data[var].fillna(data[var].mode()[0])\n",
        "\n",
        "#Colocando o valor mais comum nas variaveis onde esta null\n",
        "data['MSZoning'] = data.groupby('MSSubClass')['MSZoning'].transform(lambda x: x.fillna(x.mode()[0]))\n",
        "\n",
        "for col in ['GarageType', 'GarageFinish', 'GarageQual', 'GarageCond', 'BsmtQual',\n",
        "            'BsmtCond', 'BsmtExposure', 'BsmtFinType1', 'BsmtFinType2', \"PoolQC\"\n",
        "    , 'Alley', 'Fence', 'MiscFeature', 'FireplaceQu', 'MasVnrType', 'Utilities']:\n",
        "    data[col] = data[col].fillna('None')\n",
        "\n",
        "for col in ('GarageYrBlt', 'GarageArea', 'GarageCars', 'MasVnrArea', 'BsmtFinSF1', 'BsmtFinSF2'\n",
        "            , 'BsmtFullBath', 'BsmtHalfBath', 'FullBath', 'HalfBath', 'BsmtUnfSF', 'TotalBsmtSF'):\n",
        "    data[col] = data[col].fillna(0)\n",
        "\n",
        "data['LotFrontage'] = data.groupby('Neighborhood')['LotFrontage'].transform(lambda x: x.fillna(x.median()))\n",
        "print('Features size:', data.shape)\n",
        "\n",
        "data['Functional'] = data['Functional'].fillna('Typ')"
      ],
      "execution_count": 16,
      "outputs": [
        {
          "output_type": "stream",
          "text": [
            "Features size: (2919, 81)\n"
          ],
          "name": "stdout"
        }
      ]
    },
    {
      "cell_type": "code",
      "metadata": {
        "id": "uDtqBz1tO0wq",
        "colab_type": "code",
        "outputId": "528e0deb-4851-495e-9523-d55f1d78ca63",
        "colab": {
          "base_uri": "https://localhost:8080/",
          "height": 359
        }
      },
      "source": [
        "# missing data\n",
        "total = data.isnull().sum().sort_values(ascending=False)\n",
        "percent = (data.isnull().sum() / data.isnull().count()).sort_values(ascending=False)\n",
        "missing_data = pd.concat([total, percent], axis=1, keys=['Total', 'Percent'])\n",
        "missing_data.head(10)"
      ],
      "execution_count": 17,
      "outputs": [
        {
          "output_type": "execute_result",
          "data": {
            "text/plain": [
              "             Total  Percent\n",
              "SalePrice     1459   0.4998\n",
              "FullBath         0   0.0000\n",
              "ExterCond        0   0.0000\n",
              "ExterQual        0   0.0000\n",
              "Exterior1st      0   0.0000\n",
              "Exterior2nd      0   0.0000\n",
              "Fence            0   0.0000\n",
              "FireplaceQu      0   0.0000\n",
              "Fireplaces       0   0.0000\n",
              "Foundation       0   0.0000"
            ],
            "text/html": [
              "<div>\n",
              "<style scoped>\n",
              "    .dataframe tbody tr th:only-of-type {\n",
              "        vertical-align: middle;\n",
              "    }\n",
              "\n",
              "    .dataframe tbody tr th {\n",
              "        vertical-align: top;\n",
              "    }\n",
              "\n",
              "    .dataframe thead th {\n",
              "        text-align: right;\n",
              "    }\n",
              "</style>\n",
              "<table border=\"1\" class=\"dataframe\">\n",
              "  <thead>\n",
              "    <tr style=\"text-align: right;\">\n",
              "      <th></th>\n",
              "      <th>Total</th>\n",
              "      <th>Percent</th>\n",
              "    </tr>\n",
              "  </thead>\n",
              "  <tbody>\n",
              "    <tr>\n",
              "      <th>SalePrice</th>\n",
              "      <td>1459</td>\n",
              "      <td>0.4998</td>\n",
              "    </tr>\n",
              "    <tr>\n",
              "      <th>FullBath</th>\n",
              "      <td>0</td>\n",
              "      <td>0.0000</td>\n",
              "    </tr>\n",
              "    <tr>\n",
              "      <th>ExterCond</th>\n",
              "      <td>0</td>\n",
              "      <td>0.0000</td>\n",
              "    </tr>\n",
              "    <tr>\n",
              "      <th>ExterQual</th>\n",
              "      <td>0</td>\n",
              "      <td>0.0000</td>\n",
              "    </tr>\n",
              "    <tr>\n",
              "      <th>Exterior1st</th>\n",
              "      <td>0</td>\n",
              "      <td>0.0000</td>\n",
              "    </tr>\n",
              "    <tr>\n",
              "      <th>Exterior2nd</th>\n",
              "      <td>0</td>\n",
              "      <td>0.0000</td>\n",
              "    </tr>\n",
              "    <tr>\n",
              "      <th>Fence</th>\n",
              "      <td>0</td>\n",
              "      <td>0.0000</td>\n",
              "    </tr>\n",
              "    <tr>\n",
              "      <th>FireplaceQu</th>\n",
              "      <td>0</td>\n",
              "      <td>0.0000</td>\n",
              "    </tr>\n",
              "    <tr>\n",
              "      <th>Fireplaces</th>\n",
              "      <td>0</td>\n",
              "      <td>0.0000</td>\n",
              "    </tr>\n",
              "    <tr>\n",
              "      <th>Foundation</th>\n",
              "      <td>0</td>\n",
              "      <td>0.0000</td>\n",
              "    </tr>\n",
              "  </tbody>\n",
              "</table>\n",
              "</div>"
            ]
          },
          "metadata": {
            "tags": []
          },
          "execution_count": 17
        }
      ]
    },
    {
      "cell_type": "markdown",
      "metadata": {
        "id": "kj0YgW-03XDD",
        "colab_type": "text"
      },
      "source": [
        "##Dummies"
      ]
    },
    {
      "cell_type": "code",
      "metadata": {
        "id": "L9fcwG6sO7Ws",
        "colab_type": "code",
        "outputId": "6e475688-5cea-4d76-fcbe-589c11808510",
        "colab": {
          "base_uri": "https://localhost:8080/",
          "height": 253
        }
      },
      "source": [
        "categories = ['Street', 'Alley', 'LotConfig', 'LandSlope', 'LandContour', 'Utilities', 'LotShape', 'Neighborhood',\n",
        "              'Condition1', 'Condition2', 'BldgType', 'HouseStyle', 'RoofStyle', 'RoofMatl', 'Exterior1st',\n",
        "              'Exterior2nd',\n",
        "              'MasVnrType', 'Foundation', 'BsmtFinType1', 'BsmtFinType2', 'Heating', 'Fence', 'MiscFeature',\n",
        "              'CentralAir', 'Electrical', 'Functional', 'GarageType', 'GarageFinish', 'PavedDrive', 'SaleType',\n",
        "              'SaleCondition']\n",
        "\n",
        "one_hot = pd.get_dummies(data[categories])\n",
        "one_hot.head()"
      ],
      "execution_count": 18,
      "outputs": [
        {
          "output_type": "execute_result",
          "data": {
            "text/plain": [
              "   Street_Grvl  Street_Pave  Alley_Grvl  Alley_None  Alley_Pave  \\\n",
              "0            0            1           0           1           0   \n",
              "1            0            1           0           1           0   \n",
              "2            0            1           0           1           0   \n",
              "3            0            1           0           1           0   \n",
              "4            0            1           0           1           0   \n",
              "\n",
              "   LotConfig_Corner  LotConfig_CulDSac  LotConfig_FR2  LotConfig_FR3  \\\n",
              "0                 0                  0              0              0   \n",
              "1                 0                  0              1              0   \n",
              "2                 0                  0              0              0   \n",
              "3                 1                  0              0              0   \n",
              "4                 0                  0              1              0   \n",
              "\n",
              "   LotConfig_Inside          ...            SaleType_ConLw  SaleType_New  \\\n",
              "0                 1          ...                         0             0   \n",
              "1                 0          ...                         0             0   \n",
              "2                 1          ...                         0             0   \n",
              "3                 0          ...                         0             0   \n",
              "4                 0          ...                         0             0   \n",
              "\n",
              "   SaleType_Oth  SaleType_WD  SaleCondition_Abnorml  SaleCondition_AdjLand  \\\n",
              "0             0            1                      0                      0   \n",
              "1             0            1                      0                      0   \n",
              "2             0            1                      0                      0   \n",
              "3             0            1                      1                      0   \n",
              "4             0            1                      0                      0   \n",
              "\n",
              "   SaleCondition_Alloca  SaleCondition_Family  SaleCondition_Normal  \\\n",
              "0                     0                     0                     1   \n",
              "1                     0                     0                     1   \n",
              "2                     0                     0                     1   \n",
              "3                     0                     0                     0   \n",
              "4                     0                     0                     1   \n",
              "\n",
              "   SaleCondition_Partial  \n",
              "0                      0  \n",
              "1                      0  \n",
              "2                      0  \n",
              "3                      0  \n",
              "4                      0  \n",
              "\n",
              "[5 rows x 207 columns]"
            ],
            "text/html": [
              "<div>\n",
              "<style scoped>\n",
              "    .dataframe tbody tr th:only-of-type {\n",
              "        vertical-align: middle;\n",
              "    }\n",
              "\n",
              "    .dataframe tbody tr th {\n",
              "        vertical-align: top;\n",
              "    }\n",
              "\n",
              "    .dataframe thead th {\n",
              "        text-align: right;\n",
              "    }\n",
              "</style>\n",
              "<table border=\"1\" class=\"dataframe\">\n",
              "  <thead>\n",
              "    <tr style=\"text-align: right;\">\n",
              "      <th></th>\n",
              "      <th>Street_Grvl</th>\n",
              "      <th>Street_Pave</th>\n",
              "      <th>Alley_Grvl</th>\n",
              "      <th>Alley_None</th>\n",
              "      <th>Alley_Pave</th>\n",
              "      <th>LotConfig_Corner</th>\n",
              "      <th>LotConfig_CulDSac</th>\n",
              "      <th>LotConfig_FR2</th>\n",
              "      <th>LotConfig_FR3</th>\n",
              "      <th>LotConfig_Inside</th>\n",
              "      <th>...</th>\n",
              "      <th>SaleType_ConLw</th>\n",
              "      <th>SaleType_New</th>\n",
              "      <th>SaleType_Oth</th>\n",
              "      <th>SaleType_WD</th>\n",
              "      <th>SaleCondition_Abnorml</th>\n",
              "      <th>SaleCondition_AdjLand</th>\n",
              "      <th>SaleCondition_Alloca</th>\n",
              "      <th>SaleCondition_Family</th>\n",
              "      <th>SaleCondition_Normal</th>\n",
              "      <th>SaleCondition_Partial</th>\n",
              "    </tr>\n",
              "  </thead>\n",
              "  <tbody>\n",
              "    <tr>\n",
              "      <th>0</th>\n",
              "      <td>0</td>\n",
              "      <td>1</td>\n",
              "      <td>0</td>\n",
              "      <td>1</td>\n",
              "      <td>0</td>\n",
              "      <td>0</td>\n",
              "      <td>0</td>\n",
              "      <td>0</td>\n",
              "      <td>0</td>\n",
              "      <td>1</td>\n",
              "      <td>...</td>\n",
              "      <td>0</td>\n",
              "      <td>0</td>\n",
              "      <td>0</td>\n",
              "      <td>1</td>\n",
              "      <td>0</td>\n",
              "      <td>0</td>\n",
              "      <td>0</td>\n",
              "      <td>0</td>\n",
              "      <td>1</td>\n",
              "      <td>0</td>\n",
              "    </tr>\n",
              "    <tr>\n",
              "      <th>1</th>\n",
              "      <td>0</td>\n",
              "      <td>1</td>\n",
              "      <td>0</td>\n",
              "      <td>1</td>\n",
              "      <td>0</td>\n",
              "      <td>0</td>\n",
              "      <td>0</td>\n",
              "      <td>1</td>\n",
              "      <td>0</td>\n",
              "      <td>0</td>\n",
              "      <td>...</td>\n",
              "      <td>0</td>\n",
              "      <td>0</td>\n",
              "      <td>0</td>\n",
              "      <td>1</td>\n",
              "      <td>0</td>\n",
              "      <td>0</td>\n",
              "      <td>0</td>\n",
              "      <td>0</td>\n",
              "      <td>1</td>\n",
              "      <td>0</td>\n",
              "    </tr>\n",
              "    <tr>\n",
              "      <th>2</th>\n",
              "      <td>0</td>\n",
              "      <td>1</td>\n",
              "      <td>0</td>\n",
              "      <td>1</td>\n",
              "      <td>0</td>\n",
              "      <td>0</td>\n",
              "      <td>0</td>\n",
              "      <td>0</td>\n",
              "      <td>0</td>\n",
              "      <td>1</td>\n",
              "      <td>...</td>\n",
              "      <td>0</td>\n",
              "      <td>0</td>\n",
              "      <td>0</td>\n",
              "      <td>1</td>\n",
              "      <td>0</td>\n",
              "      <td>0</td>\n",
              "      <td>0</td>\n",
              "      <td>0</td>\n",
              "      <td>1</td>\n",
              "      <td>0</td>\n",
              "    </tr>\n",
              "    <tr>\n",
              "      <th>3</th>\n",
              "      <td>0</td>\n",
              "      <td>1</td>\n",
              "      <td>0</td>\n",
              "      <td>1</td>\n",
              "      <td>0</td>\n",
              "      <td>1</td>\n",
              "      <td>0</td>\n",
              "      <td>0</td>\n",
              "      <td>0</td>\n",
              "      <td>0</td>\n",
              "      <td>...</td>\n",
              "      <td>0</td>\n",
              "      <td>0</td>\n",
              "      <td>0</td>\n",
              "      <td>1</td>\n",
              "      <td>1</td>\n",
              "      <td>0</td>\n",
              "      <td>0</td>\n",
              "      <td>0</td>\n",
              "      <td>0</td>\n",
              "      <td>0</td>\n",
              "    </tr>\n",
              "    <tr>\n",
              "      <th>4</th>\n",
              "      <td>0</td>\n",
              "      <td>1</td>\n",
              "      <td>0</td>\n",
              "      <td>1</td>\n",
              "      <td>0</td>\n",
              "      <td>0</td>\n",
              "      <td>0</td>\n",
              "      <td>1</td>\n",
              "      <td>0</td>\n",
              "      <td>0</td>\n",
              "      <td>...</td>\n",
              "      <td>0</td>\n",
              "      <td>0</td>\n",
              "      <td>0</td>\n",
              "      <td>1</td>\n",
              "      <td>0</td>\n",
              "      <td>0</td>\n",
              "      <td>0</td>\n",
              "      <td>0</td>\n",
              "      <td>1</td>\n",
              "      <td>0</td>\n",
              "    </tr>\n",
              "  </tbody>\n",
              "</table>\n",
              "<p>5 rows × 207 columns</p>\n",
              "</div>"
            ]
          },
          "metadata": {
            "tags": []
          },
          "execution_count": 18
        }
      ]
    },
    {
      "cell_type": "code",
      "metadata": {
        "id": "mf3qPcOJO9si",
        "colab_type": "code",
        "outputId": "fc5ce9be-8371-40ae-80c8-776402cd2dc4",
        "colab": {
          "base_uri": "https://localhost:8080/",
          "height": 270
        }
      },
      "source": [
        "data = pd.concat([data, one_hot], axis=1)\n",
        "for i in categories:\n",
        "    data = data.drop(i, axis=1)\n",
        "print(data.shape)\n",
        "data.head()"
      ],
      "execution_count": 19,
      "outputs": [
        {
          "output_type": "stream",
          "text": [
            "(2919, 257)\n"
          ],
          "name": "stdout"
        },
        {
          "output_type": "execute_result",
          "data": {
            "text/plain": [
              "   1stFlrSF  2ndFlrSF  3SsnPorch  BedroomAbvGr BsmtCond BsmtExposure  \\\n",
              "0       856       854          0             3       TA           No   \n",
              "1      1262         0          0             3       TA           Gd   \n",
              "2       920       866          0             3       TA           Mn   \n",
              "3       961       756          0             3       Gd           No   \n",
              "4      1145      1053          0             4       TA           Av   \n",
              "\n",
              "   BsmtFinSF1  BsmtFinSF2  BsmtFullBath  BsmtHalfBath          ...            \\\n",
              "0    706.0000      0.0000        1.0000        0.0000          ...             \n",
              "1    978.0000      0.0000        0.0000        1.0000          ...             \n",
              "2    486.0000      0.0000        1.0000        0.0000          ...             \n",
              "3    216.0000      0.0000        1.0000        0.0000          ...             \n",
              "4    655.0000      0.0000        1.0000        0.0000          ...             \n",
              "\n",
              "  SaleType_ConLw  SaleType_New  SaleType_Oth SaleType_WD  \\\n",
              "0              0             0             0           1   \n",
              "1              0             0             0           1   \n",
              "2              0             0             0           1   \n",
              "3              0             0             0           1   \n",
              "4              0             0             0           1   \n",
              "\n",
              "  SaleCondition_Abnorml SaleCondition_AdjLand  SaleCondition_Alloca  \\\n",
              "0                     0                     0                     0   \n",
              "1                     0                     0                     0   \n",
              "2                     0                     0                     0   \n",
              "3                     1                     0                     0   \n",
              "4                     0                     0                     0   \n",
              "\n",
              "   SaleCondition_Family  SaleCondition_Normal  SaleCondition_Partial  \n",
              "0                     0                     1                      0  \n",
              "1                     0                     1                      0  \n",
              "2                     0                     1                      0  \n",
              "3                     0                     0                      0  \n",
              "4                     0                     1                      0  \n",
              "\n",
              "[5 rows x 257 columns]"
            ],
            "text/html": [
              "<div>\n",
              "<style scoped>\n",
              "    .dataframe tbody tr th:only-of-type {\n",
              "        vertical-align: middle;\n",
              "    }\n",
              "\n",
              "    .dataframe tbody tr th {\n",
              "        vertical-align: top;\n",
              "    }\n",
              "\n",
              "    .dataframe thead th {\n",
              "        text-align: right;\n",
              "    }\n",
              "</style>\n",
              "<table border=\"1\" class=\"dataframe\">\n",
              "  <thead>\n",
              "    <tr style=\"text-align: right;\">\n",
              "      <th></th>\n",
              "      <th>1stFlrSF</th>\n",
              "      <th>2ndFlrSF</th>\n",
              "      <th>3SsnPorch</th>\n",
              "      <th>BedroomAbvGr</th>\n",
              "      <th>BsmtCond</th>\n",
              "      <th>BsmtExposure</th>\n",
              "      <th>BsmtFinSF1</th>\n",
              "      <th>BsmtFinSF2</th>\n",
              "      <th>BsmtFullBath</th>\n",
              "      <th>BsmtHalfBath</th>\n",
              "      <th>...</th>\n",
              "      <th>SaleType_ConLw</th>\n",
              "      <th>SaleType_New</th>\n",
              "      <th>SaleType_Oth</th>\n",
              "      <th>SaleType_WD</th>\n",
              "      <th>SaleCondition_Abnorml</th>\n",
              "      <th>SaleCondition_AdjLand</th>\n",
              "      <th>SaleCondition_Alloca</th>\n",
              "      <th>SaleCondition_Family</th>\n",
              "      <th>SaleCondition_Normal</th>\n",
              "      <th>SaleCondition_Partial</th>\n",
              "    </tr>\n",
              "  </thead>\n",
              "  <tbody>\n",
              "    <tr>\n",
              "      <th>0</th>\n",
              "      <td>856</td>\n",
              "      <td>854</td>\n",
              "      <td>0</td>\n",
              "      <td>3</td>\n",
              "      <td>TA</td>\n",
              "      <td>No</td>\n",
              "      <td>706.0000</td>\n",
              "      <td>0.0000</td>\n",
              "      <td>1.0000</td>\n",
              "      <td>0.0000</td>\n",
              "      <td>...</td>\n",
              "      <td>0</td>\n",
              "      <td>0</td>\n",
              "      <td>0</td>\n",
              "      <td>1</td>\n",
              "      <td>0</td>\n",
              "      <td>0</td>\n",
              "      <td>0</td>\n",
              "      <td>0</td>\n",
              "      <td>1</td>\n",
              "      <td>0</td>\n",
              "    </tr>\n",
              "    <tr>\n",
              "      <th>1</th>\n",
              "      <td>1262</td>\n",
              "      <td>0</td>\n",
              "      <td>0</td>\n",
              "      <td>3</td>\n",
              "      <td>TA</td>\n",
              "      <td>Gd</td>\n",
              "      <td>978.0000</td>\n",
              "      <td>0.0000</td>\n",
              "      <td>0.0000</td>\n",
              "      <td>1.0000</td>\n",
              "      <td>...</td>\n",
              "      <td>0</td>\n",
              "      <td>0</td>\n",
              "      <td>0</td>\n",
              "      <td>1</td>\n",
              "      <td>0</td>\n",
              "      <td>0</td>\n",
              "      <td>0</td>\n",
              "      <td>0</td>\n",
              "      <td>1</td>\n",
              "      <td>0</td>\n",
              "    </tr>\n",
              "    <tr>\n",
              "      <th>2</th>\n",
              "      <td>920</td>\n",
              "      <td>866</td>\n",
              "      <td>0</td>\n",
              "      <td>3</td>\n",
              "      <td>TA</td>\n",
              "      <td>Mn</td>\n",
              "      <td>486.0000</td>\n",
              "      <td>0.0000</td>\n",
              "      <td>1.0000</td>\n",
              "      <td>0.0000</td>\n",
              "      <td>...</td>\n",
              "      <td>0</td>\n",
              "      <td>0</td>\n",
              "      <td>0</td>\n",
              "      <td>1</td>\n",
              "      <td>0</td>\n",
              "      <td>0</td>\n",
              "      <td>0</td>\n",
              "      <td>0</td>\n",
              "      <td>1</td>\n",
              "      <td>0</td>\n",
              "    </tr>\n",
              "    <tr>\n",
              "      <th>3</th>\n",
              "      <td>961</td>\n",
              "      <td>756</td>\n",
              "      <td>0</td>\n",
              "      <td>3</td>\n",
              "      <td>Gd</td>\n",
              "      <td>No</td>\n",
              "      <td>216.0000</td>\n",
              "      <td>0.0000</td>\n",
              "      <td>1.0000</td>\n",
              "      <td>0.0000</td>\n",
              "      <td>...</td>\n",
              "      <td>0</td>\n",
              "      <td>0</td>\n",
              "      <td>0</td>\n",
              "      <td>1</td>\n",
              "      <td>1</td>\n",
              "      <td>0</td>\n",
              "      <td>0</td>\n",
              "      <td>0</td>\n",
              "      <td>0</td>\n",
              "      <td>0</td>\n",
              "    </tr>\n",
              "    <tr>\n",
              "      <th>4</th>\n",
              "      <td>1145</td>\n",
              "      <td>1053</td>\n",
              "      <td>0</td>\n",
              "      <td>4</td>\n",
              "      <td>TA</td>\n",
              "      <td>Av</td>\n",
              "      <td>655.0000</td>\n",
              "      <td>0.0000</td>\n",
              "      <td>1.0000</td>\n",
              "      <td>0.0000</td>\n",
              "      <td>...</td>\n",
              "      <td>0</td>\n",
              "      <td>0</td>\n",
              "      <td>0</td>\n",
              "      <td>1</td>\n",
              "      <td>0</td>\n",
              "      <td>0</td>\n",
              "      <td>0</td>\n",
              "      <td>0</td>\n",
              "      <td>1</td>\n",
              "      <td>0</td>\n",
              "    </tr>\n",
              "  </tbody>\n",
              "</table>\n",
              "<p>5 rows × 257 columns</p>\n",
              "</div>"
            ]
          },
          "metadata": {
            "tags": []
          },
          "execution_count": 19
        }
      ]
    },
    {
      "cell_type": "code",
      "metadata": {
        "id": "GOahPfmVO_on",
        "colab_type": "code",
        "outputId": "97f2e2a5-37f8-4ac1-e1db-4136642398e3",
        "colab": {
          "base_uri": "https://localhost:8080/",
          "height": 1000
        }
      },
      "source": [
        "colunas_catg = data.select_dtypes(include='object').columns\n",
        "for coluna in colunas_catg:\n",
        "    print(\"-\" * 5, ' ', coluna, ' ', '-' * 5)\n",
        "    print(dic[coluna])\n",
        "    print(\"Unique: \", data[coluna].unique())\n",
        "    print(\"Na: \", data[coluna].isna().sum())\n",
        "    print('\\n')"
      ],
      "execution_count": 20,
      "outputs": [
        {
          "output_type": "stream",
          "text": [
            "-----   BsmtCond   -----\n",
            " General condition of the basement\n",
            "Unique:  ['TA' 'Gd' 'None' 'Fa' 'Po']\n",
            "Na:  0\n",
            "\n",
            "\n",
            "-----   BsmtExposure   -----\n",
            " Walkout or garden level basement walls\n",
            "Unique:  ['No' 'Gd' 'Mn' 'Av' 'None']\n",
            "Na:  0\n",
            "\n",
            "\n",
            "-----   BsmtQual   -----\n",
            " Height of the basement\n",
            "Unique:  ['Gd' 'TA' 'Ex' 'None' 'Fa']\n",
            "Na:  0\n",
            "\n",
            "\n",
            "-----   ExterCond   -----\n",
            " Present condition of the material on the exterior\n",
            "Unique:  ['TA' 'Gd' 'Fa' 'Po' 'Ex']\n",
            "Na:  0\n",
            "\n",
            "\n",
            "-----   ExterQual   -----\n",
            " Exterior material quality\n",
            "Unique:  ['Gd' 'TA' 'Ex' 'Fa']\n",
            "Na:  0\n",
            "\n",
            "\n",
            "-----   FireplaceQu   -----\n",
            " Fireplace quality\n",
            "Unique:  ['None' 'TA' 'Gd' 'Fa' 'Ex' 'Po']\n",
            "Na:  0\n",
            "\n",
            "\n",
            "-----   GarageCond   -----\n",
            " Garage condition\n",
            "Unique:  ['TA' 'Fa' 'None' 'Gd' 'Po' 'Ex']\n",
            "Na:  0\n",
            "\n",
            "\n",
            "-----   GarageQual   -----\n",
            " Garage quality\n",
            "Unique:  ['TA' 'Fa' 'Gd' 'None' 'Ex' 'Po']\n",
            "Na:  0\n",
            "\n",
            "\n",
            "-----   HeatingQC   -----\n",
            " Heating quality and condition\n",
            "Unique:  ['Ex' 'Gd' 'TA' 'Fa' 'Po']\n",
            "Na:  0\n",
            "\n",
            "\n",
            "-----   KitchenQual   -----\n",
            " Kitchen quality\n",
            "Unique:  ['Gd' 'TA' 'Ex' 'Fa']\n",
            "Na:  0\n",
            "\n",
            "\n",
            "-----   MSZoning   -----\n",
            " The general zoning classification\n",
            "Unique:  ['RL' 'RM' 'C (all)' 'FV' 'RH']\n",
            "Na:  0\n",
            "\n",
            "\n",
            "-----   PoolQC   -----\n",
            " Pool quality\n",
            "Unique:  ['None' 'Ex' 'Fa' 'Gd']\n",
            "Na:  0\n",
            "\n",
            "\n"
          ],
          "name": "stdout"
        }
      ]
    },
    {
      "cell_type": "code",
      "metadata": {
        "id": "CAzUPyhyPCia",
        "colab_type": "code",
        "outputId": "599e6ea4-113d-4cb6-cb3a-875c7f2906d1",
        "colab": {
          "base_uri": "https://localhost:8080/",
          "height": 34
        }
      },
      "source": [
        "for coluna in colunas_catg:\n",
        "    data[coluna] = pd.Categorical(data[coluna]).codes\n",
        "data.shape"
      ],
      "execution_count": 21,
      "outputs": [
        {
          "output_type": "execute_result",
          "data": {
            "text/plain": [
              "(2919, 257)"
            ]
          },
          "metadata": {
            "tags": []
          },
          "execution_count": 21
        }
      ]
    },
    {
      "cell_type": "code",
      "metadata": {
        "id": "-CzVJGDhPEbW",
        "colab_type": "code",
        "colab": {}
      },
      "source": [
        "data = data.astype('float64')"
      ],
      "execution_count": 0,
      "outputs": []
    },
    {
      "cell_type": "code",
      "metadata": {
        "id": "pJ-sm2TdPGW9",
        "colab_type": "code",
        "colab": {}
      },
      "source": [
        "# new features\n",
        "data['ToTalSF'] = data['1stFlrSF'] + data['2ndFlrSF'] + data['TotalBsmtSF']\n",
        "data['ToTalOuterSF'] = data['ToTalSF'] + data['GarageArea'] + data['LotArea']\n",
        "data['Year'] = data['YearRemodAdd'] - data['YearBuilt']\n",
        "data['ToTalSFQ'] = data['ToTalSF'] * data['OverallQual']"
      ],
      "execution_count": 0,
      "outputs": []
    },
    {
      "cell_type": "code",
      "metadata": {
        "id": "3ic1m3eAPJsp",
        "colab_type": "code",
        "outputId": "d9b62844-b02a-4b77-a0b4-0c17c5cc2435",
        "colab": {
          "base_uri": "https://localhost:8080/",
          "height": 51
        }
      },
      "source": [
        "data_na = data.isnull().sum()\n",
        "data_na = data_na[data_na > 0]\n",
        "data_na.sort_values(ascending=False)"
      ],
      "execution_count": 24,
      "outputs": [
        {
          "output_type": "execute_result",
          "data": {
            "text/plain": [
              "SalePrice    1459\n",
              "dtype: int64"
            ]
          },
          "metadata": {
            "tags": []
          },
          "execution_count": 24
        }
      ]
    },
    {
      "cell_type": "code",
      "metadata": {
        "id": "hj3769jFPK9Z",
        "colab_type": "code",
        "outputId": "026218fb-0dd0-4e8b-b9d8-224e7093856b",
        "colab": {
          "base_uri": "https://localhost:8080/",
          "height": 669
        }
      },
      "source": [
        "#Skew para as variaveis continuas\n",
        "continuous = ['LotFrontage', 'LotArea', 'MasVnrArea', 'YearBuilt', 'YearRemodAdd', 'ToTalSF', 'ToTalOuterSF', 'Year',\n",
        "              'ToTalSFQ',\n",
        "              'BsmtFinSF1', 'BsmtFinSF2', 'TotalBsmtSF', '1stFlrSF', '2ndFlrSF', 'GarageYrBlt',\n",
        "              'LowQualFinSF', 'GrLivArea', 'GarageArea', 'MiscVal', 'YrSold']\n",
        "\n",
        "skew_features = data[continuous].apply(lambda x: skew(x.dropna()))\n",
        "skewness = pd.DataFrame({\"Skew\": skew_features})\n",
        "skewness"
      ],
      "execution_count": 25,
      "outputs": [
        {
          "output_type": "execute_result",
          "data": {
            "text/plain": [
              "                Skew\n",
              "LotFrontage   1.5057\n",
              "LotArea      12.8224\n",
              "MasVnrArea    2.6136\n",
              "YearBuilt    -0.5998\n",
              "YearRemodAdd -0.4510\n",
              "ToTalSF       1.5115\n",
              "ToTalOuterSF 11.6401\n",
              "Year          2.0637\n",
              "ToTalSFQ      2.1423\n",
              "BsmtFinSF1    1.4252\n",
              "BsmtFinSF2    4.1461\n",
              "TotalBsmtSF   1.1569\n",
              "1stFlrSF      1.4696\n",
              "2ndFlrSF      0.8617\n",
              "GarageYrBlt  -3.9062\n",
              "LowQualFinSF 12.0888\n",
              "GrLivArea     1.2694\n",
              "GarageArea    0.2393\n",
              "MiscVal      21.9472\n",
              "YrSold        0.1324"
            ],
            "text/html": [
              "<div>\n",
              "<style scoped>\n",
              "    .dataframe tbody tr th:only-of-type {\n",
              "        vertical-align: middle;\n",
              "    }\n",
              "\n",
              "    .dataframe tbody tr th {\n",
              "        vertical-align: top;\n",
              "    }\n",
              "\n",
              "    .dataframe thead th {\n",
              "        text-align: right;\n",
              "    }\n",
              "</style>\n",
              "<table border=\"1\" class=\"dataframe\">\n",
              "  <thead>\n",
              "    <tr style=\"text-align: right;\">\n",
              "      <th></th>\n",
              "      <th>Skew</th>\n",
              "    </tr>\n",
              "  </thead>\n",
              "  <tbody>\n",
              "    <tr>\n",
              "      <th>LotFrontage</th>\n",
              "      <td>1.5057</td>\n",
              "    </tr>\n",
              "    <tr>\n",
              "      <th>LotArea</th>\n",
              "      <td>12.8224</td>\n",
              "    </tr>\n",
              "    <tr>\n",
              "      <th>MasVnrArea</th>\n",
              "      <td>2.6136</td>\n",
              "    </tr>\n",
              "    <tr>\n",
              "      <th>YearBuilt</th>\n",
              "      <td>-0.5998</td>\n",
              "    </tr>\n",
              "    <tr>\n",
              "      <th>YearRemodAdd</th>\n",
              "      <td>-0.4510</td>\n",
              "    </tr>\n",
              "    <tr>\n",
              "      <th>ToTalSF</th>\n",
              "      <td>1.5115</td>\n",
              "    </tr>\n",
              "    <tr>\n",
              "      <th>ToTalOuterSF</th>\n",
              "      <td>11.6401</td>\n",
              "    </tr>\n",
              "    <tr>\n",
              "      <th>Year</th>\n",
              "      <td>2.0637</td>\n",
              "    </tr>\n",
              "    <tr>\n",
              "      <th>ToTalSFQ</th>\n",
              "      <td>2.1423</td>\n",
              "    </tr>\n",
              "    <tr>\n",
              "      <th>BsmtFinSF1</th>\n",
              "      <td>1.4252</td>\n",
              "    </tr>\n",
              "    <tr>\n",
              "      <th>BsmtFinSF2</th>\n",
              "      <td>4.1461</td>\n",
              "    </tr>\n",
              "    <tr>\n",
              "      <th>TotalBsmtSF</th>\n",
              "      <td>1.1569</td>\n",
              "    </tr>\n",
              "    <tr>\n",
              "      <th>1stFlrSF</th>\n",
              "      <td>1.4696</td>\n",
              "    </tr>\n",
              "    <tr>\n",
              "      <th>2ndFlrSF</th>\n",
              "      <td>0.8617</td>\n",
              "    </tr>\n",
              "    <tr>\n",
              "      <th>GarageYrBlt</th>\n",
              "      <td>-3.9062</td>\n",
              "    </tr>\n",
              "    <tr>\n",
              "      <th>LowQualFinSF</th>\n",
              "      <td>12.0888</td>\n",
              "    </tr>\n",
              "    <tr>\n",
              "      <th>GrLivArea</th>\n",
              "      <td>1.2694</td>\n",
              "    </tr>\n",
              "    <tr>\n",
              "      <th>GarageArea</th>\n",
              "      <td>0.2393</td>\n",
              "    </tr>\n",
              "    <tr>\n",
              "      <th>MiscVal</th>\n",
              "      <td>21.9472</td>\n",
              "    </tr>\n",
              "    <tr>\n",
              "      <th>YrSold</th>\n",
              "      <td>0.1324</td>\n",
              "    </tr>\n",
              "  </tbody>\n",
              "</table>\n",
              "</div>"
            ]
          },
          "metadata": {
            "tags": []
          },
          "execution_count": 25
        }
      ]
    },
    {
      "cell_type": "code",
      "metadata": {
        "id": "nSJXiJa5PMOW",
        "colab_type": "code",
        "outputId": "6eb966d0-8551-4afd-8761-159c71f3dff4",
        "colab": {
          "base_uri": "https://localhost:8080/",
          "height": 306
        }
      },
      "source": [
        "print(\"Variaveis mais importantes para SalePrice\")\n",
        "corr = train.corr()\n",
        "corr.sort_values([\"SalePrice\"], ascending=False, inplace=True)\n",
        "print(corr.SalePrice[:15])\n",
        "MostImportant = corr.SalePrice[:40].index\n",
        "MostImportant = MostImportant.drop(['SalePrice'])"
      ],
      "execution_count": 26,
      "outputs": [
        {
          "output_type": "stream",
          "text": [
            "Variaveis mais importantes para SalePrice\n",
            "SalePrice      1.0000\n",
            "OverallQual    0.7910\n",
            "GrLivArea      0.7086\n",
            "GarageCars     0.6404\n",
            "GarageArea     0.6234\n",
            "TotalBsmtSF    0.6136\n",
            "1stFlrSF       0.6059\n",
            "FullBath       0.5607\n",
            "TotRmsAbvGrd   0.5337\n",
            "YearBuilt      0.5229\n",
            "YearRemodAdd   0.5071\n",
            "GarageYrBlt    0.4864\n",
            "MasVnrArea     0.4775\n",
            "Fireplaces     0.4669\n",
            "BsmtFinSF1     0.3864\n",
            "Name: SalePrice, dtype: float64\n"
          ],
          "name": "stdout"
        }
      ]
    },
    {
      "cell_type": "code",
      "metadata": {
        "id": "iJ09NkCYPNiE",
        "colab_type": "code",
        "colab": {}
      },
      "source": [
        "train = data.loc[data.SalePrice.notna()]\n",
        "test = data.loc[data.SalePrice.isna()]"
      ],
      "execution_count": 0,
      "outputs": []
    },
    {
      "cell_type": "markdown",
      "metadata": {
        "id": "na5fw3lOPZYS",
        "colab_type": "text"
      },
      "source": [
        "##Tratando Outliers"
      ]
    },
    {
      "cell_type": "code",
      "metadata": {
        "id": "nktCuDe-PXxG",
        "colab_type": "code",
        "outputId": "aaacfd8b-76cb-445e-c755-0ab5295eb0cc",
        "colab": {
          "base_uri": "https://localhost:8080/",
          "height": 609
        }
      },
      "source": [
        "cols = corr.SalePrice.index[1:7]\n",
        "\n",
        "plt.figure(figsize=(20, 10))\n",
        "index = 231\n",
        "for campo in cols:\n",
        "    plt.subplot(index)\n",
        "    sns.scatterplot(x=campo, y='SalePrice', data=train)\n",
        "    index = index + 1"
      ],
      "execution_count": 28,
      "outputs": [
        {
          "output_type": "display_data",
          "data": {
            "text/plain": [
              "<Figure size 1440x720 with 6 Axes>"
            ],
            "image/png": "[encoded data removed]"
          },
          "metadata": {
            "tags": [],
            "needs_background": "light"
          }
        }
      ]
    },
    {
      "cell_type": "code",
      "metadata": {
        "id": "x37X1oc1PcWV",
        "colab_type": "code",
        "outputId": "a3b95309-5bfb-434b-f43d-0b4719d68088",
        "colab": {
          "base_uri": "https://localhost:8080/",
          "height": 34
        }
      },
      "source": [
        "#data_bkp = train.copy()\n",
        "train.shape\n",
        "\n",
        "#data_bkp.shape"
      ],
      "execution_count": 29,
      "outputs": [
        {
          "output_type": "execute_result",
          "data": {
            "text/plain": [
              "(1460, 261)"
            ]
          },
          "metadata": {
            "tags": []
          },
          "execution_count": 29
        }
      ]
    },
    {
      "cell_type": "code",
      "metadata": {
        "id": "GjguyyERPd9u",
        "colab_type": "code",
        "outputId": "14b74597-a6af-44ba-c291-7ff7277827dc",
        "colab": {
          "base_uri": "https://localhost:8080/",
          "height": 238
        }
      },
      "source": [
        "#Removendo outliers\n",
        "cols = corr.SalePrice.index[1:7]\n",
        "\n",
        "for coluna in cols:\n",
        "    z = np.abs(stats.zscore(train[coluna]))\n",
        "    train = train[(z < 2.6)]  # Bom numero para remover outliers\n",
        "    z = np.abs(stats.zscore(train[coluna]))\n",
        "    train = train[(z > -2.6)]  # Bom numero para remover outliers\n",
        "    print(coluna)\n",
        "    print(len(z))\n",
        "\n",
        "train.shape"
      ],
      "execution_count": 30,
      "outputs": [
        {
          "output_type": "stream",
          "text": [
            "OverallQual\n",
            "1437\n",
            "GrLivArea\n",
            "1414\n",
            "GarageCars\n",
            "1409\n",
            "GarageArea\n",
            "1400\n",
            "TotalBsmtSF\n",
            "1352\n",
            "1stFlrSF\n",
            "1339\n"
          ],
          "name": "stdout"
        },
        {
          "output_type": "execute_result",
          "data": {
            "text/plain": [
              "(1339, 261)"
            ]
          },
          "metadata": {
            "tags": []
          },
          "execution_count": 30
        }
      ]
    },
    {
      "cell_type": "code",
      "metadata": {
        "id": "qLL0HEUwPfgs",
        "colab_type": "code",
        "outputId": "26bc121a-1521-4f55-a30d-87097e17aab3",
        "colab": {
          "base_uri": "https://localhost:8080/",
          "height": 609
        }
      },
      "source": [
        "cols = corr.SalePrice.index[1:7]\n",
        "\n",
        "plt.figure(figsize=(20, 10))\n",
        "index = 231\n",
        "for campo in cols:\n",
        "    plt.subplot(index)\n",
        "    sns.scatterplot(x=campo, y='SalePrice', data=train)\n",
        "    index = index + 1"
      ],
      "execution_count": 31,
      "outputs": [
        {
          "output_type": "display_data",
          "data": {
            "text/plain": [
              "<Figure size 1440x720 with 6 Axes>"
            ],
            "image/png": "[encoded data removed]"
          },
          "metadata": {
            "tags": [],
            "needs_background": "light"
          }
        }
      ]
    },
    {
      "cell_type": "code",
      "metadata": {
        "id": "BpNZBMoENAhk",
        "colab_type": "code",
        "colab": {
          "base_uri": "https://localhost:8080/",
          "height": 170
        },
        "outputId": "5b028daa-7027-4cc0-97b6-782c55df79c2"
      },
      "source": [
        "train['SalePrice'].describe()\n"
      ],
      "execution_count": 32,
      "outputs": [
        {
          "output_type": "execute_result",
          "data": {
            "text/plain": [
              "count     1339.0000\n",
              "mean    174063.4959\n",
              "std      63894.2892\n",
              "min      34900.0000\n",
              "25%     130000.0000\n",
              "50%     160000.0000\n",
              "75%     205000.0000\n",
              "max     446261.0000\n",
              "Name: SalePrice, dtype: float64"
            ]
          },
          "metadata": {
            "tags": []
          },
          "execution_count": 32
        }
      ]
    },
    {
      "cell_type": "code",
      "metadata": {
        "id": "tPWzmcv1NECy",
        "colab_type": "code",
        "colab": {
          "base_uri": "https://localhost:8080/",
          "height": 317
        },
        "outputId": "ce13e092-dc86-46af-9375-b894718494c7"
      },
      "source": [
        "sns.distplot(train['SalePrice']);\n",
        "#skewness and kurtosis\n",
        "print(\"Skewness: %f\" % train['SalePrice'].skew())\n",
        "print(\"Kurtosis: %f\" % train['SalePrice'].kurt())"
      ],
      "execution_count": 33,
      "outputs": [
        {
          "output_type": "stream",
          "text": [
            "Skewness: 1.079181\n",
            "Kurtosis: 1.405098\n"
          ],
          "name": "stdout"
        },
        {
          "output_type": "display_data",
          "data": {
            "text/plain": [
              "<Figure size 432x288 with 1 Axes>"
            ],
            "image/png": "[encoded data removed]"
          },
          "metadata": {
            "tags": [],
            "needs_background": "light"
          }
        }
      ]
    },
    {
      "cell_type": "code",
      "metadata": {
        "id": "zqIA-j2KNOt3",
        "colab_type": "code",
        "colab": {
          "base_uri": "https://localhost:8080/",
          "height": 438
        },
        "outputId": "d7f86273-6ba8-442f-d2bb-135bac13151c"
      },
      "source": [
        "from scipy import stats\n",
        "from scipy.stats import norm, skew #for some statistics\n",
        "\n",
        "\n",
        "fig = plt.figure(figsize=(15,5))\n",
        "plt.subplot(1,2,1)\n",
        "sns.distplot(train['SalePrice'] , fit=norm);\n",
        "\n",
        "(mu, sigma) = norm.fit(train['SalePrice'])\n",
        "print( '\\n mu = {:.2f} and sigma = {:.2f}\\n'.format(mu, sigma))\n",
        "plt.legend(['Normal dist. ($\\mu=$ {:.2f} and $\\sigma=$ {:.2f} )'.format(mu, sigma)], loc='best')\n",
        "\n",
        "plt.ylabel('Frequency')\n",
        "plt.title('SalePrice distribution')\n",
        "plt.subplot(1,2,2)\n",
        "res = stats.probplot(train['SalePrice'], plot=plt)\n",
        "plt.suptitle('Before transformation')\n"
      ],
      "execution_count": 34,
      "outputs": [
        {
          "output_type": "stream",
          "text": [
            "\n",
            " mu = 174063.50 and sigma = 63870.43\n",
            "\n"
          ],
          "name": "stdout"
        },
        {
          "output_type": "execute_result",
          "data": {
            "text/plain": [
              "Text(0.5,0.98,'Before transformation')"
            ]
          },
          "metadata": {
            "tags": []
          },
          "execution_count": 34
        },
        {
          "output_type": "display_data",
          "data": {
            "text/plain": [
              "<Figure size 1080x360 with 2 Axes>"
            ],
            "image/png": "[encoded data removed]"
          },
          "metadata": {
            "tags": [],
            "needs_background": "light"
          }
        }
      ]
    },
    {
      "cell_type": "code",
      "metadata": {
        "id": "5mCKmCamNbxv",
        "colab_type": "code",
        "colab": {
          "base_uri": "https://localhost:8080/",
          "height": 438
        },
        "outputId": "9fa27321-683d-4194-a1b3-e59d1d28f818"
      },
      "source": [
        "# Apply transformation\n",
        "train.SalePrice = np.log1p(train.SalePrice )\n",
        "# New prediction\n",
        "y_train = train.SalePrice.values\n",
        "y_train_orig = train.SalePrice\n",
        "\n",
        "\n",
        "# Plot histogram and probability after transformation\n",
        "fig = plt.figure(figsize=(15,5))\n",
        "plt.subplot(1,2,1)\n",
        "sns.distplot(train['SalePrice'] , fit=norm);\n",
        "(mu, sigma) = norm.fit(train['SalePrice'])\n",
        "print( '\\n mu = {:.2f} and sigma = {:.2f}\\n'.format(mu, sigma))\n",
        "plt.legend(['Normal dist. ($\\mu=$ {:.2f} and $\\sigma=$ {:.2f} )'.format(mu, sigma)],\n",
        "            loc='best')\n",
        "plt.ylabel('Frequency')\n",
        "plt.title('SalePrice distribution')\n",
        "plt.subplot(1,2,2)\n",
        "res = stats.probplot(train['SalePrice'], plot=plt)\n",
        "plt.suptitle('After transformation')"
      ],
      "execution_count": 35,
      "outputs": [
        {
          "output_type": "stream",
          "text": [
            "\n",
            " mu = 12.00 and sigma = 0.36\n",
            "\n"
          ],
          "name": "stdout"
        },
        {
          "output_type": "execute_result",
          "data": {
            "text/plain": [
              "Text(0.5,0.98,'After transformation')"
            ]
          },
          "metadata": {
            "tags": []
          },
          "execution_count": 35
        },
        {
          "output_type": "display_data",
          "data": {
            "text/plain": [
              "<Figure size 1080x360 with 2 Axes>"
            ],
            "image/png": "[encoded data removed]"
          },
          "metadata": {
            "tags": [],
            "needs_background": "light"
          }
        }
      ]
    },
    {
      "cell_type": "code",
      "metadata": {
        "id": "hefSwIoRPkBu",
        "colab_type": "code",
        "outputId": "fab2fe9b-a467-47f7-da18-67ed8bf0f8d1",
        "colab": {
          "base_uri": "https://localhost:8080/",
          "height": 51
        }
      },
      "source": [
        "x = train.drop(['SalePrice', 'Id'], axis=1)\n",
        "# Apply transformation *** SEGUNDA VEZ , SOMENTE PARA TESTES ***\n",
        "#y = np.log(train[\"SalePrice\"])\n",
        "y = train[\"SalePrice\"]\n",
        "\n",
        "Envio_x = test.drop(['SalePrice', 'Id'], axis=1)\n",
        "Envio_y = np.log(test[\"SalePrice\"])\n",
        "\n",
        "X_train, X_test, y_train, y_test = train_test_split(x, y, test_size=0.25, random_state=seed)\n",
        "print(X_train.shape)\n",
        "print(X_test.shape)"
      ],
      "execution_count": 47,
      "outputs": [
        {
          "output_type": "stream",
          "text": [
            "(1004, 259)\n",
            "(335, 259)\n"
          ],
          "name": "stdout"
        }
      ]
    },
    {
      "cell_type": "markdown",
      "metadata": {
        "id": "VrNCe7rKP4pq",
        "colab_type": "text"
      },
      "source": [
        "#Modelos"
      ]
    },
    {
      "cell_type": "code",
      "metadata": {
        "id": "kIYgJuiNPyrO",
        "colab_type": "code",
        "colab": {}
      },
      "source": [
        "xgbmodel = xgb.XGBRegressor(colsample_bytree=0.4603, gamma=0.0468,\n",
        "                            learning_rate=0.05, max_depth=3,\n",
        "                            min_child_weight=1.7817, n_estimators=2200,\n",
        "                            reg_alpha=0.4640, reg_lambda=0.8571,\n",
        "                            subsample=0.5213, silent=1,\n",
        "                            random_state=7, nthread=-1)"
      ],
      "execution_count": 0,
      "outputs": []
    },
    {
      "cell_type": "code",
      "metadata": {
        "id": "YdId4JMJP8Nf",
        "colab_type": "code",
        "colab": {}
      },
      "source": [
        "from sklearn.linear_model import LinearRegression, Lasso, Ridge, ElasticNet, BayesianRidge\n",
        "from sklearn.kernel_ridge import KernelRidge\n",
        "from sklearn.svm import SVR\n",
        "from sklearn.ensemble import GradientBoostingRegressor, RandomForestRegressor, AdaBoostRegressor\n",
        "from sklearn.neighbors import KNeighborsRegressor\n",
        "\n",
        "LRmodel = LinearRegression()\n",
        "Ridgemodel = Ridge(alpha=0.2, max_iter=1000)\n",
        "Lassomodel = Lasso(alpha=0.0005, max_iter=1000)\n",
        "KRidgemodel = KernelRidge(alpha=0.2, degree=1)\n",
        "SVRmodel = SVR()\n",
        "GBmodel = GradientBoostingRegressor(n_estimators=150, learning_rate=0.1, max_depth=2)\n",
        "KNNmodel = KNeighborsRegressor(n_neighbors=3)\n",
        "Adamodel = AdaBoostRegressor(n_estimators=100, learning_rate=0.1)\n",
        "ENETmodel = ElasticNet(alpha=0.0005, l1_ratio=.9, random_state=3)\n",
        "BRmodel = BayesianRidge()\n",
        "RFmodel = RandomForestRegressor()\n",
        "models = [LRmodel, Ridgemodel, Lassomodel, KRidgemodel, SVRmodel, GBmodel, KNNmodel, Adamodel, ENETmodel, BRmodel, RFmodel, xgbmodel]\n",
        "\n",
        "modelnames = ['LRmodel', 'Ridgemodel', 'Lassomodel', 'KRidgemodel', 'SVRmodel', 'GBmodel', 'KNNmodel', 'Adamodel',\n",
        "              'ENETmodel',\n",
        "              'BRmodel', 'RFmodel', 'xgbmodel']\n"
      ],
      "execution_count": 0,
      "outputs": []
    },
    {
      "cell_type": "code",
      "metadata": {
        "id": "KypdRCWEP8a-",
        "colab_type": "code",
        "colab": {}
      },
      "source": [
        "resultado = pd.DataFrame(columns=['Modelo', 'RMSE'])\n",
        "for i in range(len(models)):\n",
        "    score = np.sqrt(-cross_val_score(models[i], X_train, y_train, scoring='neg_mean_squared_error', cv=5))\n",
        "    resultado = resultado.append({'Modelo': modelnames[i], 'RMSE': score.mean()}, ignore_index=True)"
      ],
      "execution_count": 0,
      "outputs": []
    },
    {
      "cell_type": "markdown",
      "metadata": {
        "id": "TUhTjlLeQHgC",
        "colab_type": "text"
      },
      "source": [
        "###Verificando qual modelo performa melhor com a base"
      ]
    },
    {
      "cell_type": "code",
      "metadata": {
        "id": "LWyhjcz9QDBh",
        "colab_type": "code",
        "outputId": "c4a8e1e4-9c92-4eb7-b04b-17820d6eb84a",
        "colab": {
          "base_uri": "https://localhost:8080/",
          "height": 286
        }
      },
      "source": [
        "resultado.sort_values(by='RMSE', ascending=True)[:-2].plot.barh(x='Modelo', y='RMSE', rot=0)"
      ],
      "execution_count": 49,
      "outputs": [
        {
          "output_type": "execute_result",
          "data": {
            "text/plain": [
              "<matplotlib.axes._subplots.AxesSubplot at 0x1c494b01208>"
            ]
          },
          "metadata": {
            "tags": []
          },
          "execution_count": 49
        },
        {
          "output_type": "display_data",
          "data": {
            "text/plain": [
              "<Figure size 432x288 with 1 Axes>"
            ],
            "image/png": "[encoded data removed]"
          },
          "metadata": {
            "tags": [],
            "needs_background": "light"
          }
        }
      ]
    },
    {
      "cell_type": "code",
      "metadata": {
        "id": "QbcQjPNkNxEP",
        "colab_type": "code",
        "colab": {
          "base_uri": "https://localhost:8080/",
          "height": 238
        },
        "outputId": "fffd6a3e-2a81-4fbf-a874-174f163e842a"
      },
      "source": [
        "resultado.sort_values\n",
        "#0       LRmodel 591.7211\n",
        "#1    Ridgemodel   0.1155\n",
        "#2    Lassomodel   0.1119\n",
        "#3   KRidgemodel   0.1157\n",
        "#4      SVRmodel   0.3541\n",
        "#5       GBmodel   0.1185\n",
        "#6      KNNmodel   0.1712\n",
        "#7      Adamodel   0.1551\n",
        "#8     ENETmodel   0.1115\n",
        "#9       BRmodel   0.1122\n",
        "#10      RFmodel   0.1376\n",
        "#11     xgbmodel   0.1123>\n",
        "\n",
        "## ** 2 VEZES **\n",
        "#0       LRmodel 45.1396\n",
        "#1    Ridgemodel  0.0099\n",
        "#2    Lassomodel  0.0105\n",
        "#3   KRidgemodel  0.0100\n",
        "#4      SVRmodel  0.0394\n",
        "#5       GBmodel  0.0101\n",
        "#6      KNNmodel  0.0145\n",
        "#7      Adamodel  0.0132\n",
        "#8     ENETmodel  0.0105\n",
        "#9       BRmodel  0.0096\n",
        "#10      RFmodel  0.0117\n",
        "#11     xgbmodel  0.0202>"
      ],
      "execution_count": 50,
      "outputs": [
        {
          "output_type": "execute_result",
          "data": {
            "text/plain": [
              "<bound method DataFrame.sort_values of          Modelo      RMSE\n",
              "0       LRmodel 1229.5683\n",
              "1    Ridgemodel    0.0099\n",
              "2    Lassomodel    0.0105\n",
              "3   KRidgemodel    0.0100\n",
              "4      SVRmodel    0.0394\n",
              "5       GBmodel    0.0101\n",
              "6      KNNmodel    0.0145\n",
              "7      Adamodel    0.0133\n",
              "8     ENETmodel    0.0105\n",
              "9       BRmodel    0.0096\n",
              "10      RFmodel    0.0113\n",
              "11     xgbmodel    0.0202>"
            ]
          },
          "metadata": {
            "tags": []
          },
          "execution_count": 50
        }
      ]
    },
    {
      "cell_type": "markdown",
      "metadata": {
        "id": "ZYuDg2fKQLvF",
        "colab_type": "text"
      },
      "source": [
        "##Lasso Tunning"
      ]
    },
    {
      "cell_type": "code",
      "metadata": {
        "id": "3aA39Y8SQJW6",
        "colab_type": "code",
        "outputId": "6166bdd0-52a8-4469-cd27-83fb703e8fb4",
        "colab": {
          "base_uri": "https://localhost:8080/",
          "height": 442
        }
      },
      "source": [
        "Lasso_Parm = ({'alpha': np.arange(0.00001, 0.001, 0.000015)})\n",
        "# Lasso_Parm=({'alpha': [0.00026500000000000004]})\n",
        "Lassomodel = Lasso(max_iter=2000)\n",
        "LassoGSV = GridSearchCV(Lassomodel, Lasso_Parm, scoring='neg_mean_squared_error', cv=10, verbose=1, n_jobs=4)\n",
        "LassoGSV.fit(X_train, y_train)\n",
        "print(LassoGSV.best_params_)\n",
        "print('-' * 25)\n",
        "print(np.sqrt(-LassoGSV.best_score_))\n",
        "# {'alpha': 0.00026500000000000004}\n",
        "#0.11076470854962701"
      ],
      "execution_count": 70,
      "outputs": [
        {
          "output_type": "stream",
          "text": [
            "Fitting 10 folds for each of 66 candidates, totalling 660 fits\n"
          ],
          "name": "stdout"
        },
        {
          "output_type": "stream",
          "text": [
            "[Parallel(n_jobs=4)]: Using backend LokyBackend with 4 concurrent workers.\n",
            "[Parallel(n_jobs=4)]: Done  42 tasks      | elapsed:   25.2s\n",
            "[Parallel(n_jobs=4)]: Done 192 tasks      | elapsed:  1.5min\n"
          ],
          "name": "stderr"
        },
        {
          "output_type": "error",
          "ename": "KeyboardInterrupt",
          "evalue": "ignored",
          "traceback": [
            "\u001b[0;31m---------------------------------------------------------------------------\u001b[0m",
            "\u001b[0;31mKeyboardInterrupt\u001b[0m                         Traceback (most recent call last)",
            "\u001b[0;32m<ipython-input-70-5c3ae16616d6>\u001b[0m in \u001b[0;36m<module>\u001b[0;34m()\u001b[0m\n\u001b[1;32m      3\u001b[0m \u001b[0mLassomodel\u001b[0m \u001b[0;34m=\u001b[0m \u001b[0mLasso\u001b[0m\u001b[0;34m(\u001b[0m\u001b[0mmax_iter\u001b[0m\u001b[0;34m=\u001b[0m\u001b[0;36m2000\u001b[0m\u001b[0;34m)\u001b[0m\u001b[0;34m\u001b[0m\u001b[0;34m\u001b[0m\u001b[0m\n\u001b[1;32m      4\u001b[0m \u001b[0mLassoGSV\u001b[0m \u001b[0;34m=\u001b[0m \u001b[0mGridSearchCV\u001b[0m\u001b[0;34m(\u001b[0m\u001b[0mLassomodel\u001b[0m\u001b[0;34m,\u001b[0m \u001b[0mLasso_Parm\u001b[0m\u001b[0;34m,\u001b[0m \u001b[0mscoring\u001b[0m\u001b[0;34m=\u001b[0m\u001b[0;34m'neg_mean_squared_error'\u001b[0m\u001b[0;34m,\u001b[0m \u001b[0mcv\u001b[0m\u001b[0;34m=\u001b[0m\u001b[0;36m10\u001b[0m\u001b[0;34m,\u001b[0m \u001b[0mverbose\u001b[0m\u001b[0;34m=\u001b[0m\u001b[0;36m1\u001b[0m\u001b[0;34m,\u001b[0m \u001b[0mn_jobs\u001b[0m\u001b[0;34m=\u001b[0m\u001b[0;36m4\u001b[0m\u001b[0;34m)\u001b[0m\u001b[0;34m\u001b[0m\u001b[0;34m\u001b[0m\u001b[0m\n\u001b[0;32m----> 5\u001b[0;31m \u001b[0mLassoGSV\u001b[0m\u001b[0;34m.\u001b[0m\u001b[0mfit\u001b[0m\u001b[0;34m(\u001b[0m\u001b[0mX_train\u001b[0m\u001b[0;34m,\u001b[0m \u001b[0my_train\u001b[0m\u001b[0;34m)\u001b[0m\u001b[0;34m\u001b[0m\u001b[0;34m\u001b[0m\u001b[0m\n\u001b[0m\u001b[1;32m      6\u001b[0m \u001b[0mprint\u001b[0m\u001b[0;34m(\u001b[0m\u001b[0mLassoGSV\u001b[0m\u001b[0;34m.\u001b[0m\u001b[0mbest_params_\u001b[0m\u001b[0;34m)\u001b[0m\u001b[0;34m\u001b[0m\u001b[0;34m\u001b[0m\u001b[0m\n\u001b[1;32m      7\u001b[0m \u001b[0mprint\u001b[0m\u001b[0;34m(\u001b[0m\u001b[0;34m'-'\u001b[0m \u001b[0;34m*\u001b[0m \u001b[0;36m25\u001b[0m\u001b[0;34m)\u001b[0m\u001b[0;34m\u001b[0m\u001b[0;34m\u001b[0m\u001b[0m\n",
            "\u001b[0;32m/usr/local/lib/python3.6/dist-packages/sklearn/model_selection/_search.py\u001b[0m in \u001b[0;36mfit\u001b[0;34m(self, X, y, groups, **fit_params)\u001b[0m\n\u001b[1;32m    686\u001b[0m                 \u001b[0;32mreturn\u001b[0m \u001b[0mresults\u001b[0m\u001b[0;34m\u001b[0m\u001b[0;34m\u001b[0m\u001b[0m\n\u001b[1;32m    687\u001b[0m \u001b[0;34m\u001b[0m\u001b[0m\n\u001b[0;32m--> 688\u001b[0;31m             \u001b[0mself\u001b[0m\u001b[0;34m.\u001b[0m\u001b[0m_run_search\u001b[0m\u001b[0;34m(\u001b[0m\u001b[0mevaluate_candidates\u001b[0m\u001b[0;34m)\u001b[0m\u001b[0;34m\u001b[0m\u001b[0;34m\u001b[0m\u001b[0m\n\u001b[0m\u001b[1;32m    689\u001b[0m \u001b[0;34m\u001b[0m\u001b[0m\n\u001b[1;32m    690\u001b[0m         \u001b[0;31m# For multi-metric evaluation, store the best_index_, best_params_ and\u001b[0m\u001b[0;34m\u001b[0m\u001b[0;34m\u001b[0m\u001b[0;34m\u001b[0m\u001b[0m\n",
            "\u001b[0;32m/usr/local/lib/python3.6/dist-packages/sklearn/model_selection/_search.py\u001b[0m in \u001b[0;36m_run_search\u001b[0;34m(self, evaluate_candidates)\u001b[0m\n\u001b[1;32m   1147\u001b[0m     \u001b[0;32mdef\u001b[0m \u001b[0m_run_search\u001b[0m\u001b[0;34m(\u001b[0m\u001b[0mself\u001b[0m\u001b[0;34m,\u001b[0m \u001b[0mevaluate_candidates\u001b[0m\u001b[0;34m)\u001b[0m\u001b[0;34m:\u001b[0m\u001b[0;34m\u001b[0m\u001b[0;34m\u001b[0m\u001b[0m\n\u001b[1;32m   1148\u001b[0m         \u001b[0;34m\"\"\"Search all candidates in param_grid\"\"\"\u001b[0m\u001b[0;34m\u001b[0m\u001b[0;34m\u001b[0m\u001b[0m\n\u001b[0;32m-> 1149\u001b[0;31m         \u001b[0mevaluate_candidates\u001b[0m\u001b[0;34m(\u001b[0m\u001b[0mParameterGrid\u001b[0m\u001b[0;34m(\u001b[0m\u001b[0mself\u001b[0m\u001b[0;34m.\u001b[0m\u001b[0mparam_grid\u001b[0m\u001b[0;34m)\u001b[0m\u001b[0;34m)\u001b[0m\u001b[0;34m\u001b[0m\u001b[0;34m\u001b[0m\u001b[0m\n\u001b[0m\u001b[1;32m   1150\u001b[0m \u001b[0;34m\u001b[0m\u001b[0m\n\u001b[1;32m   1151\u001b[0m \u001b[0;34m\u001b[0m\u001b[0m\n",
            "\u001b[0;32m/usr/local/lib/python3.6/dist-packages/sklearn/model_selection/_search.py\u001b[0m in \u001b[0;36mevaluate_candidates\u001b[0;34m(candidate_params)\u001b[0m\n\u001b[1;32m    665\u001b[0m                                \u001b[0;32mfor\u001b[0m \u001b[0mparameters\u001b[0m\u001b[0;34m,\u001b[0m \u001b[0;34m(\u001b[0m\u001b[0mtrain\u001b[0m\u001b[0;34m,\u001b[0m \u001b[0mtest\u001b[0m\u001b[0;34m)\u001b[0m\u001b[0;34m\u001b[0m\u001b[0;34m\u001b[0m\u001b[0m\n\u001b[1;32m    666\u001b[0m                                in product(candidate_params,\n\u001b[0;32m--> 667\u001b[0;31m                                           cv.split(X, y, groups)))\n\u001b[0m\u001b[1;32m    668\u001b[0m \u001b[0;34m\u001b[0m\u001b[0m\n\u001b[1;32m    669\u001b[0m                 \u001b[0;32mif\u001b[0m \u001b[0mlen\u001b[0m\u001b[0;34m(\u001b[0m\u001b[0mout\u001b[0m\u001b[0;34m)\u001b[0m \u001b[0;34m<\u001b[0m \u001b[0;36m1\u001b[0m\u001b[0;34m:\u001b[0m\u001b[0;34m\u001b[0m\u001b[0;34m\u001b[0m\u001b[0m\n",
            "\u001b[0;32m/usr/local/lib/python3.6/dist-packages/joblib/parallel.py\u001b[0m in \u001b[0;36m__call__\u001b[0;34m(self, iterable)\u001b[0m\n\u001b[1;32m    932\u001b[0m \u001b[0;34m\u001b[0m\u001b[0m\n\u001b[1;32m    933\u001b[0m             \u001b[0;32mwith\u001b[0m \u001b[0mself\u001b[0m\u001b[0;34m.\u001b[0m\u001b[0m_backend\u001b[0m\u001b[0;34m.\u001b[0m\u001b[0mretrieval_context\u001b[0m\u001b[0;34m(\u001b[0m\u001b[0;34m)\u001b[0m\u001b[0;34m:\u001b[0m\u001b[0;34m\u001b[0m\u001b[0;34m\u001b[0m\u001b[0m\n\u001b[0;32m--> 934\u001b[0;31m                 \u001b[0mself\u001b[0m\u001b[0;34m.\u001b[0m\u001b[0mretrieve\u001b[0m\u001b[0;34m(\u001b[0m\u001b[0;34m)\u001b[0m\u001b[0;34m\u001b[0m\u001b[0;34m\u001b[0m\u001b[0m\n\u001b[0m\u001b[1;32m    935\u001b[0m             \u001b[0;31m# Make sure that we get a last message telling us we are done\u001b[0m\u001b[0;34m\u001b[0m\u001b[0;34m\u001b[0m\u001b[0;34m\u001b[0m\u001b[0m\n\u001b[1;32m    936\u001b[0m             \u001b[0melapsed_time\u001b[0m \u001b[0;34m=\u001b[0m \u001b[0mtime\u001b[0m\u001b[0;34m.\u001b[0m\u001b[0mtime\u001b[0m\u001b[0;34m(\u001b[0m\u001b[0;34m)\u001b[0m \u001b[0;34m-\u001b[0m \u001b[0mself\u001b[0m\u001b[0;34m.\u001b[0m\u001b[0m_start_time\u001b[0m\u001b[0;34m\u001b[0m\u001b[0;34m\u001b[0m\u001b[0m\n",
            "\u001b[0;32m/usr/local/lib/python3.6/dist-packages/joblib/parallel.py\u001b[0m in \u001b[0;36mretrieve\u001b[0;34m(self)\u001b[0m\n\u001b[1;32m    831\u001b[0m             \u001b[0;32mtry\u001b[0m\u001b[0;34m:\u001b[0m\u001b[0;34m\u001b[0m\u001b[0;34m\u001b[0m\u001b[0m\n\u001b[1;32m    832\u001b[0m                 \u001b[0;32mif\u001b[0m \u001b[0mgetattr\u001b[0m\u001b[0;34m(\u001b[0m\u001b[0mself\u001b[0m\u001b[0;34m.\u001b[0m\u001b[0m_backend\u001b[0m\u001b[0;34m,\u001b[0m \u001b[0;34m'supports_timeout'\u001b[0m\u001b[0;34m,\u001b[0m \u001b[0;32mFalse\u001b[0m\u001b[0;34m)\u001b[0m\u001b[0;34m:\u001b[0m\u001b[0;34m\u001b[0m\u001b[0;34m\u001b[0m\u001b[0m\n\u001b[0;32m--> 833\u001b[0;31m                     \u001b[0mself\u001b[0m\u001b[0;34m.\u001b[0m\u001b[0m_output\u001b[0m\u001b[0;34m.\u001b[0m\u001b[0mextend\u001b[0m\u001b[0;34m(\u001b[0m\u001b[0mjob\u001b[0m\u001b[0;34m.\u001b[0m\u001b[0mget\u001b[0m\u001b[0;34m(\u001b[0m\u001b[0mtimeout\u001b[0m\u001b[0;34m=\u001b[0m\u001b[0mself\u001b[0m\u001b[0;34m.\u001b[0m\u001b[0mtimeout\u001b[0m\u001b[0;34m)\u001b[0m\u001b[0;34m)\u001b[0m\u001b[0;34m\u001b[0m\u001b[0;34m\u001b[0m\u001b[0m\n\u001b[0m\u001b[1;32m    834\u001b[0m                 \u001b[0;32melse\u001b[0m\u001b[0;34m:\u001b[0m\u001b[0;34m\u001b[0m\u001b[0;34m\u001b[0m\u001b[0m\n\u001b[1;32m    835\u001b[0m                     \u001b[0mself\u001b[0m\u001b[0;34m.\u001b[0m\u001b[0m_output\u001b[0m\u001b[0;34m.\u001b[0m\u001b[0mextend\u001b[0m\u001b[0;34m(\u001b[0m\u001b[0mjob\u001b[0m\u001b[0;34m.\u001b[0m\u001b[0mget\u001b[0m\u001b[0;34m(\u001b[0m\u001b[0;34m)\u001b[0m\u001b[0;34m)\u001b[0m\u001b[0;34m\u001b[0m\u001b[0;34m\u001b[0m\u001b[0m\n",
            "\u001b[0;32m/usr/local/lib/python3.6/dist-packages/joblib/_parallel_backends.py\u001b[0m in \u001b[0;36mwrap_future_result\u001b[0;34m(future, timeout)\u001b[0m\n\u001b[1;32m    519\u001b[0m         AsyncResults.get from multiprocessing.\"\"\"\n\u001b[1;32m    520\u001b[0m         \u001b[0;32mtry\u001b[0m\u001b[0;34m:\u001b[0m\u001b[0;34m\u001b[0m\u001b[0;34m\u001b[0m\u001b[0m\n\u001b[0;32m--> 521\u001b[0;31m             \u001b[0;32mreturn\u001b[0m \u001b[0mfuture\u001b[0m\u001b[0;34m.\u001b[0m\u001b[0mresult\u001b[0m\u001b[0;34m(\u001b[0m\u001b[0mtimeout\u001b[0m\u001b[0;34m=\u001b[0m\u001b[0mtimeout\u001b[0m\u001b[0;34m)\u001b[0m\u001b[0;34m\u001b[0m\u001b[0;34m\u001b[0m\u001b[0m\n\u001b[0m\u001b[1;32m    522\u001b[0m         \u001b[0;32mexcept\u001b[0m \u001b[0mLokyTimeoutError\u001b[0m\u001b[0;34m:\u001b[0m\u001b[0;34m\u001b[0m\u001b[0;34m\u001b[0m\u001b[0m\n\u001b[1;32m    523\u001b[0m             \u001b[0;32mraise\u001b[0m \u001b[0mTimeoutError\u001b[0m\u001b[0;34m(\u001b[0m\u001b[0;34m)\u001b[0m\u001b[0;34m\u001b[0m\u001b[0;34m\u001b[0m\u001b[0m\n",
            "\u001b[0;32m/usr/lib/python3.6/concurrent/futures/_base.py\u001b[0m in \u001b[0;36mresult\u001b[0;34m(self, timeout)\u001b[0m\n\u001b[1;32m    425\u001b[0m                 \u001b[0;32mreturn\u001b[0m \u001b[0mself\u001b[0m\u001b[0;34m.\u001b[0m\u001b[0m__get_result\u001b[0m\u001b[0;34m(\u001b[0m\u001b[0;34m)\u001b[0m\u001b[0;34m\u001b[0m\u001b[0;34m\u001b[0m\u001b[0m\n\u001b[1;32m    426\u001b[0m \u001b[0;34m\u001b[0m\u001b[0m\n\u001b[0;32m--> 427\u001b[0;31m             \u001b[0mself\u001b[0m\u001b[0;34m.\u001b[0m\u001b[0m_condition\u001b[0m\u001b[0;34m.\u001b[0m\u001b[0mwait\u001b[0m\u001b[0;34m(\u001b[0m\u001b[0mtimeout\u001b[0m\u001b[0;34m)\u001b[0m\u001b[0;34m\u001b[0m\u001b[0;34m\u001b[0m\u001b[0m\n\u001b[0m\u001b[1;32m    428\u001b[0m \u001b[0;34m\u001b[0m\u001b[0m\n\u001b[1;32m    429\u001b[0m             \u001b[0;32mif\u001b[0m \u001b[0mself\u001b[0m\u001b[0;34m.\u001b[0m\u001b[0m_state\u001b[0m \u001b[0;32min\u001b[0m \u001b[0;34m[\u001b[0m\u001b[0mCANCELLED\u001b[0m\u001b[0;34m,\u001b[0m \u001b[0mCANCELLED_AND_NOTIFIED\u001b[0m\u001b[0;34m]\u001b[0m\u001b[0;34m:\u001b[0m\u001b[0;34m\u001b[0m\u001b[0;34m\u001b[0m\u001b[0m\n",
            "\u001b[0;32m/usr/lib/python3.6/threading.py\u001b[0m in \u001b[0;36mwait\u001b[0;34m(self, timeout)\u001b[0m\n\u001b[1;32m    293\u001b[0m         \u001b[0;32mtry\u001b[0m\u001b[0;34m:\u001b[0m    \u001b[0;31m# restore state no matter what (e.g., KeyboardInterrupt)\u001b[0m\u001b[0;34m\u001b[0m\u001b[0;34m\u001b[0m\u001b[0m\n\u001b[1;32m    294\u001b[0m             \u001b[0;32mif\u001b[0m \u001b[0mtimeout\u001b[0m \u001b[0;32mis\u001b[0m \u001b[0;32mNone\u001b[0m\u001b[0;34m:\u001b[0m\u001b[0;34m\u001b[0m\u001b[0;34m\u001b[0m\u001b[0m\n\u001b[0;32m--> 295\u001b[0;31m                 \u001b[0mwaiter\u001b[0m\u001b[0;34m.\u001b[0m\u001b[0macquire\u001b[0m\u001b[0;34m(\u001b[0m\u001b[0;34m)\u001b[0m\u001b[0;34m\u001b[0m\u001b[0;34m\u001b[0m\u001b[0m\n\u001b[0m\u001b[1;32m    296\u001b[0m                 \u001b[0mgotit\u001b[0m \u001b[0;34m=\u001b[0m \u001b[0;32mTrue\u001b[0m\u001b[0;34m\u001b[0m\u001b[0;34m\u001b[0m\u001b[0m\n\u001b[1;32m    297\u001b[0m             \u001b[0;32melse\u001b[0m\u001b[0;34m:\u001b[0m\u001b[0;34m\u001b[0m\u001b[0;34m\u001b[0m\u001b[0m\n",
            "\u001b[0;31mKeyboardInterrupt\u001b[0m: "
          ]
        }
      ]
    },
    {
      "cell_type": "markdown",
      "metadata": {
        "id": "r0yW9Mg0ROt5",
        "colab_type": "text"
      },
      "source": [
        "##ElasticNet Tunning"
      ]
    },
    {
      "cell_type": "code",
      "metadata": {
        "id": "VEE0Oi9DROcr",
        "colab_type": "code",
        "colab": {
          "base_uri": "https://localhost:8080/",
          "height": 102
        },
        "outputId": "1cd60516-d661-455e-84ff-0f3142c31275"
      },
      "source": [
        "# Elastic_Parm=({\"alpha\": np.arange(0.001,0.01,0.001),\"l1_ratio\": np.arange(0.0, 1.0, 0.1)})\n",
        "Elastic_Parm = ({'alpha': [0.000985], 'l1_ratio': [0.30000000000000004]})\n",
        "ElasticModel = ElasticNet(max_iter=9000)\n",
        "ElasticGSV = GridSearchCV(ElasticModel, Elastic_Parm, scoring='neg_mean_squared_error', cv=10, verbose=1, n_jobs=4)\n",
        "ElasticGSV.fit(X_train, y_train)\n",
        "print(ElasticGSV.best_params_)\n",
        "print('-' * 25)\n",
        "print(np.sqrt(-ElasticGSV.best_score_))\n",
        "# {'alpha': 0.000985, 'l1_ratio': 0.30000000000000004}\n",
        "# 0.11087715354184403"
      ],
      "execution_count": 52,
      "outputs": [
        {
          "output_type": "stream",
          "text": [
            "Fitting 10 folds for each of 1 candidates, totalling 10 fits\n"
          ],
          "name": "stdout"
        },
        {
          "output_type": "stream",
          "text": [
            "[Parallel(n_jobs=4)]: Done  10 out of  10 | elapsed:   10.3s finished\n"
          ],
          "name": "stderr"
        },
        {
          "output_type": "stream",
          "text": [
            "{'alpha': 0.000985, 'l1_ratio': 0.30000000000000004}\n",
            "-------------------------\n",
            "0.010308205987132977\n"
          ],
          "name": "stdout"
        }
      ]
    },
    {
      "cell_type": "markdown",
      "metadata": {
        "id": "pKoKOLnYRVZs",
        "colab_type": "text"
      },
      "source": [
        "##BayesianRidge Tunning"
      ]
    },
    {
      "cell_type": "code",
      "metadata": {
        "id": "bUIb7djZRU90",
        "colab_type": "code",
        "colab": {
          "base_uri": "https://localhost:8080/",
          "height": 102
        },
        "outputId": "c7b6e389-7379-45f0-a9ec-2649910bc11b"
      },
      "source": [
        "# BR_Parm=({'n_iter':[1000],'alpha_1':np.arange(0.0000001,0.0001,0.00001),'alpha_2':np.arange(0.0000001,0.0001,0.00001)})\n",
        "BR_Parm = ({'alpha_1': [3.0100000000000003e-05], 'alpha_2': [1e-07], 'n_iter': [1000]})\n",
        "BRModel = BayesianRidge()\n",
        "BRGSV = GridSearchCV(BRModel, BR_Parm, scoring='neg_mean_squared_error', cv=5, verbose=1, n_jobs=4)\n",
        "BRGSV.fit(X_train, y_train)\n",
        "print(BRGSV.best_params_)\n",
        "print('-' * 25)\n",
        "print(np.sqrt(-BRGSV.best_score_))\n",
        "# {'alpha_1': 3.0100000000000003e-05, 'alpha_2': 1e-07, 'n_iter': 1000}"
      ],
      "execution_count": 53,
      "outputs": [
        {
          "output_type": "stream",
          "text": [
            "Fitting 5 folds for each of 1 candidates, totalling 5 fits\n",
            "{'alpha_1': 3.0100000000000003e-05, 'alpha_2': 1e-07, 'n_iter': 1000}\n",
            "-------------------------\n",
            "0.009586263370188816\n"
          ],
          "name": "stdout"
        },
        {
          "output_type": "stream",
          "text": [
            "[Parallel(n_jobs=4)]: Done   5 out of   5 | elapsed:    3.1s finished\n"
          ],
          "name": "stderr"
        }
      ]
    },
    {
      "cell_type": "markdown",
      "metadata": {
        "id": "vBSlKlGiRaqC",
        "colab_type": "text"
      },
      "source": [
        "##XBG Tunning"
      ]
    },
    {
      "cell_type": "code",
      "metadata": {
        "id": "kUy8bsFZRW_x",
        "colab_type": "code",
        "colab": {
          "base_uri": "https://localhost:8080/",
          "height": 102
        },
        "outputId": "654b4de4-b585-4afc-b1d1-8f03abdc9429"
      },
      "source": [
        "XBG_Parm = ({'colsample_bytree': [0.4603], 'gamma': [0.0468],\n",
        "             'learning_rate': [0.05], 'max_depth': [3],\n",
        "             'min_child_weight': [1.7817], 'n_estimators': [2200],\n",
        "             'reg_alpha': [0.4640], 'reg_lambda': [0.8571],\n",
        "             'subsample': [0.5213], 'silent': [1],\n",
        "             'random_state': [7], 'nthread': [-1]})\n",
        "XBGmodel = xgb.XGBRegressor()\n",
        "XBGGSV = GridSearchCV(XBGmodel, XBG_Parm, scoring='neg_mean_squared_error', cv=5, verbose=1, n_jobs=4)\n",
        "XBGGSV.fit(X_train, y_train)\n",
        "print(XBGGSV.best_params_)\n",
        "print('-' * 25)\n",
        "print(np.sqrt(-XBGGSV.best_score_))"
      ],
      "execution_count": 56,
      "outputs": [
        {
          "output_type": "stream",
          "text": [
            "Fitting 5 folds for each of 1 candidates, totalling 5 fits\n"
          ],
          "name": "stdout"
        },
        {
          "output_type": "stream",
          "text": [
            "[Parallel(n_jobs=4)]: Done   5 out of   5 | elapsed:   21.9s finished\n"
          ],
          "name": "stderr"
        },
        {
          "output_type": "stream",
          "text": [
            "{'colsample_bytree': 0.4603, 'gamma': 0.0468, 'learning_rate': 0.05, 'max_depth': 3, 'min_child_weight': 1.7817, 'n_estimators': 2200, 'nthread': -1, 'random_state': 7, 'reg_alpha': 0.464, 'reg_lambda': 0.8571, 'silent': 1, 'subsample': 0.5213}\n",
            "-------------------------\n",
            "0.02020973536168626\n"
          ],
          "name": "stdout"
        }
      ]
    },
    {
      "cell_type": "markdown",
      "metadata": {
        "id": "xYQt7_S2RfWS",
        "colab_type": "text"
      },
      "source": [
        "##Ridge Tunning"
      ]
    },
    {
      "cell_type": "code",
      "metadata": {
        "id": "6q5uX7TQRchj",
        "colab_type": "code",
        "colab": {
          "base_uri": "https://localhost:8080/",
          "height": 119
        },
        "outputId": "7e1d74da-1348-4f9f-fee0-4ec3adefa472"
      },
      "source": [
        "Ridge_Parm = ({'alpha': np.arange(1, 10, 0.1)})\n",
        "RidgeModel = Ridge(max_iter=9000)\n",
        "RidgeGSV = GridSearchCV(RidgeModel, Ridge_Parm, scoring='neg_mean_squared_error', cv=10, verbose=1, n_jobs=4)\n",
        "RidgeGSV.fit(X_train, y_train)\n",
        "print(RidgeGSV.best_params_)\n",
        "print('-' * 25)\n",
        "print(np.sqrt(-RidgeGSV.best_score_))\n",
        "# {'alpha': 0.1}\n",
        "# 0.1100989359491473"
      ],
      "execution_count": 57,
      "outputs": [
        {
          "output_type": "stream",
          "text": [
            "Fitting 10 folds for each of 90 candidates, totalling 900 fits\n"
          ],
          "name": "stdout"
        },
        {
          "output_type": "stream",
          "text": [
            "[Parallel(n_jobs=4)]: Done  78 tasks      | elapsed:    3.5s\n"
          ],
          "name": "stderr"
        },
        {
          "output_type": "stream",
          "text": [
            "{'alpha': 4.200000000000003}\n",
            "-------------------------\n",
            "0.009302275247194555\n"
          ],
          "name": "stdout"
        },
        {
          "output_type": "stream",
          "text": [
            "[Parallel(n_jobs=4)]: Done 900 out of 900 | elapsed:    8.5s finished\n"
          ],
          "name": "stderr"
        }
      ]
    },
    {
      "cell_type": "markdown",
      "metadata": {
        "id": "Pq1u09wkRt4j",
        "colab_type": "text"
      },
      "source": [
        "##KernelRidge Tunning"
      ]
    },
    {
      "cell_type": "code",
      "metadata": {
        "id": "tXoJQmmVRtYw",
        "colab_type": "code",
        "colab": {
          "base_uri": "https://localhost:8080/",
          "height": 102
        },
        "outputId": "b8863b85-48cd-416f-d017-19168199aa34"
      },
      "source": [
        "# K_Ridge_Parm=({\"alpha\": np.arange(0.1,3,0.05), 'degree':[1,2,3,4]})\n",
        "K_Ridge_Parm = ({'alpha': [2.950000000000001], 'degree': [1]})\n",
        "K_RidgeModel = KernelRidge()\n",
        "K_RidgeGSV = GridSearchCV(K_RidgeModel, K_Ridge_Parm, scoring='neg_mean_squared_error', cv=5, verbose=1, n_jobs=4)\n",
        "K_RidgeGSV.fit(X_train, y_train)\n",
        "print(K_RidgeGSV.best_params_)\n",
        "print('-' * 25)\n",
        "print(np.sqrt(-K_RidgeGSV.best_score_))\n",
        "# {'alpha': 2.950000000000001, 'degree': 1}"
      ],
      "execution_count": 58,
      "outputs": [
        {
          "output_type": "stream",
          "text": [
            "Fitting 5 folds for each of 1 candidates, totalling 5 fits\n",
            "{'alpha': 2.950000000000001, 'degree': 1}\n",
            "-------------------------\n",
            "0.009606375747860389\n"
          ],
          "name": "stdout"
        },
        {
          "output_type": "stream",
          "text": [
            "[Parallel(n_jobs=4)]: Done   5 out of   5 | elapsed:    3.1s finished\n"
          ],
          "name": "stderr"
        }
      ]
    },
    {
      "cell_type": "code",
      "metadata": {
        "id": "Dyzl_KxnRvBJ",
        "colab_type": "code",
        "colab": {
          "base_uri": "https://localhost:8080/",
          "height": 238
        },
        "outputId": "34b0d659-02af-40fb-de5c-91ea9ec7a888"
      },
      "source": [
        "print(resultado.sort_values(by='RMSE', ascending=True)[:6])\n",
        "print(np.sqrt(-BRGSV.best_score_))\n",
        "print(np.sqrt(-ElasticGSV.best_score_))\n",
        "print(np.sqrt(-LassoGSV.best_score_))\n",
        "print(np.sqrt(-XBGGSV.best_score_))\n",
        "print(np.sqrt(-RidgeGSV.best_score_))\n",
        "print(np.sqrt(-K_RidgeGSV.best_score_))"
      ],
      "execution_count": 59,
      "outputs": [
        {
          "output_type": "stream",
          "text": [
            "        Modelo   RMSE\n",
            "9      BRmodel 0.0096\n",
            "1   Ridgemodel 0.0099\n",
            "3  KRidgemodel 0.0100\n",
            "5      GBmodel 0.0101\n",
            "8    ENETmodel 0.0105\n",
            "2   Lassomodel 0.0105\n",
            "0.009586263370188816\n",
            "0.010308205987132977\n",
            "0.00944220468003841\n",
            "0.02020973536168626\n",
            "0.009302275247194555\n",
            "0.009606375747860389\n"
          ],
          "name": "stdout"
        }
      ]
    },
    {
      "cell_type": "code",
      "metadata": {
        "id": "NHdkzbXdR6Ko",
        "colab_type": "code",
        "colab": {}
      },
      "source": [
        "xgb2 = xgb.XGBRegressor(colsample_bytree=0.4603, gamma=0.0468,\n",
        "                        learning_rate=0.05, max_depth=3,\n",
        "                        min_child_weight=1.7817, n_estimators=2200,\n",
        "                        reg_alpha=0.4640, reg_lambda=0.8571,\n",
        "                        subsample=0.5213, silent=1,\n",
        "                        random_state=7, nthread=-1)"
      ],
      "execution_count": 0,
      "outputs": []
    },
    {
      "cell_type": "code",
      "metadata": {
        "id": "sBUsG5tyRwyF",
        "colab_type": "code",
        "colab": {
          "base_uri": "https://localhost:8080/",
          "height": 204
        },
        "outputId": "3ddf70e3-4b68-4d61-bfa2-124aaae062e8"
      },
      "source": [
        "Lassopredtr = LassoGSV.predict(X_train)\n",
        "ENETpredtr = ElasticGSV.predict(X_train)\n",
        "BRpredtr = BRGSV.predict(X_train)\n",
        "xgbpredtr = XBGGSV.predict(X_train)\n",
        "Ridgepredtr = RidgeGSV.predict(X_train)\n",
        "KRidgepredtr = K_RidgeGSV.predict(X_train)\n",
        "\n",
        "featuresTreino = pd.DataFrame(\n",
        "    {\"ENET\": ENETpredtr, \"KR\": KRidgepredtr, \"Lasso\": Lassopredtr, 'Ridge': Ridgepredtr, \"BR\": BRpredtr,\n",
        "     'XGB': xgbpredtr})\n",
        "featuresTreino.head()"
      ],
      "execution_count": 62,
      "outputs": [
        {
          "output_type": "execute_result",
          "data": {
            "text/plain": [
              "    ENET     KR  Lasso  Ridge     BR    XGB\n",
              "0 2.5071 2.5050 2.5076 2.5076 2.5079 2.4974\n",
              "1 2.4820 2.4853 2.4863 2.4860 2.4862 2.4868\n",
              "2 2.5447 2.5434 2.5456 2.5458 2.5462 2.5020\n",
              "3 2.4318 2.4270 2.4287 2.4284 2.4289 2.4626\n",
              "4 2.5061 2.5067 2.5057 2.5059 2.5058 2.4988"
            ],
            "text/html": [
              "<div>\n",
              "<style scoped>\n",
              "    .dataframe tbody tr th:only-of-type {\n",
              "        vertical-align: middle;\n",
              "    }\n",
              "\n",
              "    .dataframe tbody tr th {\n",
              "        vertical-align: top;\n",
              "    }\n",
              "\n",
              "    .dataframe thead th {\n",
              "        text-align: right;\n",
              "    }\n",
              "</style>\n",
              "<table border=\"1\" class=\"dataframe\">\n",
              "  <thead>\n",
              "    <tr style=\"text-align: right;\">\n",
              "      <th></th>\n",
              "      <th>ENET</th>\n",
              "      <th>KR</th>\n",
              "      <th>Lasso</th>\n",
              "      <th>Ridge</th>\n",
              "      <th>BR</th>\n",
              "      <th>XGB</th>\n",
              "    </tr>\n",
              "  </thead>\n",
              "  <tbody>\n",
              "    <tr>\n",
              "      <th>0</th>\n",
              "      <td>2.5071</td>\n",
              "      <td>2.5050</td>\n",
              "      <td>2.5076</td>\n",
              "      <td>2.5076</td>\n",
              "      <td>2.5079</td>\n",
              "      <td>2.4974</td>\n",
              "    </tr>\n",
              "    <tr>\n",
              "      <th>1</th>\n",
              "      <td>2.4820</td>\n",
              "      <td>2.4853</td>\n",
              "      <td>2.4863</td>\n",
              "      <td>2.4860</td>\n",
              "      <td>2.4862</td>\n",
              "      <td>2.4868</td>\n",
              "    </tr>\n",
              "    <tr>\n",
              "      <th>2</th>\n",
              "      <td>2.5447</td>\n",
              "      <td>2.5434</td>\n",
              "      <td>2.5456</td>\n",
              "      <td>2.5458</td>\n",
              "      <td>2.5462</td>\n",
              "      <td>2.5020</td>\n",
              "    </tr>\n",
              "    <tr>\n",
              "      <th>3</th>\n",
              "      <td>2.4318</td>\n",
              "      <td>2.4270</td>\n",
              "      <td>2.4287</td>\n",
              "      <td>2.4284</td>\n",
              "      <td>2.4289</td>\n",
              "      <td>2.4626</td>\n",
              "    </tr>\n",
              "    <tr>\n",
              "      <th>4</th>\n",
              "      <td>2.5061</td>\n",
              "      <td>2.5067</td>\n",
              "      <td>2.5057</td>\n",
              "      <td>2.5059</td>\n",
              "      <td>2.5058</td>\n",
              "      <td>2.4988</td>\n",
              "    </tr>\n",
              "  </tbody>\n",
              "</table>\n",
              "</div>"
            ]
          },
          "metadata": {
            "tags": []
          },
          "execution_count": 62
        }
      ]
    },
    {
      "cell_type": "code",
      "metadata": {
        "id": "fjErP-kfR1vb",
        "colab_type": "code",
        "colab": {
          "base_uri": "https://localhost:8080/",
          "height": 34
        },
        "outputId": "577b9f40-0d9c-4602-eca4-de0046fb1bb3"
      },
      "source": [
        "# stacking 2nd camada do Gradient boosting\n",
        "score = np.sqrt(-cross_val_score(xgb2, featuresTreino, y_train, scoring='neg_mean_squared_error', cv=5))\n",
        "print(\"Treino\", \"rmse: \", score.mean())"
      ],
      "execution_count": 63,
      "outputs": [
        {
          "output_type": "stream",
          "text": [
            "Treino rmse:  0.017083612974941008\n"
          ],
          "name": "stdout"
        }
      ]
    },
    {
      "cell_type": "code",
      "metadata": {
        "id": "8t8kZ6DKR3Q2",
        "colab_type": "code",
        "colab": {
          "base_uri": "https://localhost:8080/",
          "height": 204
        },
        "outputId": "29e10389-b4c8-4873-8dad-1f1aecadd65a"
      },
      "source": [
        "Lassopredtr = LassoGSV.predict(X_test)\n",
        "ENETpredtr = ElasticGSV.predict(X_test)\n",
        "BRpredtr = BRGSV.predict(X_test)\n",
        "xgbpredtr = XBGGSV.predict(X_test)\n",
        "Ridgepredtr = RidgeGSV.predict(X_test)\n",
        "KRidgepredtr = K_RidgeGSV.predict(X_test)\n",
        "\n",
        "featuresTeste = pd.DataFrame(\n",
        "    {\"ENET\": ENETpredtr, \"KR\": KRidgepredtr, \"Lasso\": Lassopredtr, 'Ridge': Ridgepredtr, \"BR\": BRpredtr,\n",
        "     'XGB': xgbpredtr})\n",
        "featuresTeste.head()"
      ],
      "execution_count": 64,
      "outputs": [
        {
          "output_type": "execute_result",
          "data": {
            "text/plain": [
              "    ENET     KR  Lasso  Ridge     BR    XGB\n",
              "0 2.4526 2.4557 2.4547 2.4550 2.4544 2.4671\n",
              "1 2.4826 2.4777 2.4778 2.4773 2.4775 2.4839\n",
              "2 2.5000 2.4992 2.5004 2.4995 2.4998 2.5003\n",
              "3 2.5029 2.5052 2.5058 2.5047 2.5037 2.4956\n",
              "4 2.5055 2.5105 2.5112 2.5110 2.5089 2.5044"
            ],
            "text/html": [
              "<div>\n",
              "<style scoped>\n",
              "    .dataframe tbody tr th:only-of-type {\n",
              "        vertical-align: middle;\n",
              "    }\n",
              "\n",
              "    .dataframe tbody tr th {\n",
              "        vertical-align: top;\n",
              "    }\n",
              "\n",
              "    .dataframe thead th {\n",
              "        text-align: right;\n",
              "    }\n",
              "</style>\n",
              "<table border=\"1\" class=\"dataframe\">\n",
              "  <thead>\n",
              "    <tr style=\"text-align: right;\">\n",
              "      <th></th>\n",
              "      <th>ENET</th>\n",
              "      <th>KR</th>\n",
              "      <th>Lasso</th>\n",
              "      <th>Ridge</th>\n",
              "      <th>BR</th>\n",
              "      <th>XGB</th>\n",
              "    </tr>\n",
              "  </thead>\n",
              "  <tbody>\n",
              "    <tr>\n",
              "      <th>0</th>\n",
              "      <td>2.4526</td>\n",
              "      <td>2.4557</td>\n",
              "      <td>2.4547</td>\n",
              "      <td>2.4550</td>\n",
              "      <td>2.4544</td>\n",
              "      <td>2.4671</td>\n",
              "    </tr>\n",
              "    <tr>\n",
              "      <th>1</th>\n",
              "      <td>2.4826</td>\n",
              "      <td>2.4777</td>\n",
              "      <td>2.4778</td>\n",
              "      <td>2.4773</td>\n",
              "      <td>2.4775</td>\n",
              "      <td>2.4839</td>\n",
              "    </tr>\n",
              "    <tr>\n",
              "      <th>2</th>\n",
              "      <td>2.5000</td>\n",
              "      <td>2.4992</td>\n",
              "      <td>2.5004</td>\n",
              "      <td>2.4995</td>\n",
              "      <td>2.4998</td>\n",
              "      <td>2.5003</td>\n",
              "    </tr>\n",
              "    <tr>\n",
              "      <th>3</th>\n",
              "      <td>2.5029</td>\n",
              "      <td>2.5052</td>\n",
              "      <td>2.5058</td>\n",
              "      <td>2.5047</td>\n",
              "      <td>2.5037</td>\n",
              "      <td>2.4956</td>\n",
              "    </tr>\n",
              "    <tr>\n",
              "      <th>4</th>\n",
              "      <td>2.5055</td>\n",
              "      <td>2.5105</td>\n",
              "      <td>2.5112</td>\n",
              "      <td>2.5110</td>\n",
              "      <td>2.5089</td>\n",
              "      <td>2.5044</td>\n",
              "    </tr>\n",
              "  </tbody>\n",
              "</table>\n",
              "</div>"
            ]
          },
          "metadata": {
            "tags": []
          },
          "execution_count": 64
        }
      ]
    },
    {
      "cell_type": "code",
      "metadata": {
        "id": "5-ZhqW_tR95k",
        "colab_type": "code",
        "outputId": "bfe821f2-c80e-421c-a2e3-215afe044002",
        "colab": {
          "base_uri": "https://localhost:8080/",
          "height": 34
        }
      },
      "source": [
        "score = np.sqrt(-cross_val_score(xgb2, featuresTeste, y_test, scoring='neg_mean_squared_error', cv=5))\n",
        "print(\"Teste\", \"rmse: \", score.mean())"
      ],
      "execution_count": 65,
      "outputs": [
        {
          "output_type": "stream",
          "text": [
            "Teste rmse:  0.026888698885554896\n"
          ],
          "name": "stdout"
        }
      ]
    },
    {
      "cell_type": "markdown",
      "metadata": {
        "id": "7t6k0RIASBGt",
        "colab_type": "text"
      },
      "source": [
        "#Envio"
      ]
    },
    {
      "cell_type": "markdown",
      "metadata": {
        "id": "Cr0CixqBSCzj",
        "colab_type": "text"
      },
      "source": [
        "##Envio 2 Camadas"
      ]
    },
    {
      "cell_type": "code",
      "metadata": {
        "id": "q0Gwsna2R_Kg",
        "colab_type": "code",
        "colab": {
          "base_uri": "https://localhost:8080/",
          "height": 153
        },
        "outputId": "c430ce1d-b8c2-403d-a269-f269e3bba62b"
      },
      "source": [
        "Lassopredtr = LassoGSV.predict(Envio_x)\n",
        "ENETpredtr = ElasticGSV.predict(Envio_x)\n",
        "BRpredtr = BRGSV.predict(Envio_x)\n",
        "xgbpredtr = XBGGSV.predict(Envio_x)\n",
        "Ridgepredtr = RidgeGSV.predict(Envio_x)\n",
        "KRidgepredtr = K_RidgeGSV.predict(Envio_x)\n",
        "\n",
        "featuresEnvio = pd.DataFrame(\n",
        "    {\"ENET\": ENETpredtr, \"KR\": KRidgepredtr, \"Lasso\": Lassopredtr, 'Ridge': Ridgepredtr, \"BR\": BRpredtr,\n",
        "     'XGB': xgbpredtr})\n",
        "featuresEnvio.head()\n",
        "\n",
        "xgb2.fit(featuresTreino, y_train)"
      ],
      "execution_count": 66,
      "outputs": [
        {
          "output_type": "execute_result",
          "data": {
            "text/plain": [
              "XGBRegressor(base_score=0.5, booster='gbtree', colsample_bylevel=1,\n",
              "       colsample_bynode=1, colsample_bytree=0.4603, gamma=0.0468,\n",
              "       importance_type='gain', learning_rate=0.05, max_delta_step=0,\n",
              "       max_depth=3, min_child_weight=1.7817, missing=None,\n",
              "       n_estimators=2200, n_jobs=1, nthread=-1, objective='reg:linear',\n",
              "       random_state=7, reg_alpha=0.464, reg_lambda=0.8571,\n",
              "       scale_pos_weight=1, seed=None, silent=1, subsample=0.5213,\n",
              "       verbosity=1)"
            ]
          },
          "metadata": {
            "tags": []
          },
          "execution_count": 66
        }
      ]
    },
    {
      "cell_type": "code",
      "metadata": {
        "id": "QJxGFrstSFOx",
        "colab_type": "code",
        "outputId": "eaa3df29-1e53-428e-cda2-3e7826015e0c",
        "colab": {
          "base_uri": "https://localhost:8080/",
          "height": 34
        }
      },
      "source": [
        "predictions = xgb2.predict(featuresEnvio)\n",
        "#predictions = np.exp(predictions)\n",
        "predictions = np.expm1(predictions)\n",
        "print(predictions.shape)"
      ],
      "execution_count": 67,
      "outputs": [
        {
          "output_type": "stream",
          "text": [
            "(1459,)\n"
          ],
          "name": "stdout"
        }
      ]
    },
    {
      "cell_type": "code",
      "metadata": {
        "id": "uFNdUNsESX-o",
        "colab_type": "code",
        "colab": {}
      },
      "source": [
        "results = pd.DataFrame({\"Id\": test[\"Id\"].astype('Int32'), \"SalePrice\": predictions})\n",
        "\n",
        "results.to_csv(\"House_v1.csv\", index=False)"
      ],
      "execution_count": 0,
      "outputs": []
    },
    {
      "cell_type": "markdown",
      "metadata": {
        "id": "Ss6xve3bSbzG",
        "colab_type": "text"
      },
      "source": [
        "##Envio RidgeGSV"
      ]
    },
    {
      "cell_type": "code",
      "metadata": {
        "id": "-Nc_WXThSafg",
        "colab_type": "code",
        "colab": {
          "base_uri": "https://localhost:8080/",
          "height": 34
        },
        "outputId": "f18264bd-0dac-4f53-daf5-8403487d6f66"
      },
      "source": [
        "predictions = RidgeGSV.predict(Envio_x)\n",
        "#predictions = np.exp(predictions)\n",
        "predictions = np.expm1(predictions)\n",
        "print(predictions.shape)"
      ],
      "execution_count": 70,
      "outputs": [
        {
          "output_type": "stream",
          "text": [
            "(1459,)\n"
          ],
          "name": "stdout"
        }
      ]
    },
    {
      "cell_type": "code",
      "metadata": {
        "id": "U7_GfsnsSd1Y",
        "colab_type": "code",
        "colab": {}
      },
      "source": [
        "results = pd.DataFrame({\"Id\": test[\"Id\"].astype('Int32'), \"SalePrice\": predictions})\n",
        "results.to_csv(\"House_v2.csv\", index=False)"
      ],
      "execution_count": 0,
      "outputs": []
    },
    {
      "cell_type": "markdown",
      "metadata": {
        "id": "ba7hXg9ySghJ",
        "colab_type": "text"
      },
      "source": [
        "##Envio ElasticGSV"
      ]
    },
    {
      "cell_type": "code",
      "metadata": {
        "id": "Ow1yo-npSfMG",
        "colab_type": "code",
        "colab": {
          "base_uri": "https://localhost:8080/",
          "height": 68
        },
        "outputId": "eea912a9-db45-43dd-d821-630e9461bec6"
      },
      "source": [
        "ElasticGSV.fit(x, y)\n",
        "predictions = ElasticGSV.predict(Envio_x)\n",
        "#predictions = np.exp(predictions) #### USAR O np.expm1 PARA O Logn1\n",
        "predictions = np.expm1(predictions)\n",
        "print(predictions.shape)"
      ],
      "execution_count": 73,
      "outputs": [
        {
          "output_type": "stream",
          "text": [
            "Fitting 10 folds for each of 1 candidates, totalling 10 fits\n"
          ],
          "name": "stdout"
        },
        {
          "output_type": "stream",
          "text": [
            "[Parallel(n_jobs=4)]: Done  10 out of  10 | elapsed:   20.4s finished\n"
          ],
          "name": "stderr"
        },
        {
          "output_type": "stream",
          "text": [
            "(1459,)\n"
          ],
          "name": "stdout"
        }
      ]
    },
    {
      "cell_type": "code",
      "metadata": {
        "id": "VJTMdxqCSi1N",
        "colab_type": "code",
        "colab": {}
      },
      "source": [
        "results = pd.DataFrame({\"Id\": test[\"Id\"].astype('Int32'), \"SalePrice\": predictions})\n",
        "results.to_csv(\"House_V3.csv\", index=False)"
      ],
      "execution_count": 0,
      "outputs": []
    },
    {
      "cell_type": "code",
      "metadata": {
        "id": "ZW8KSfyQSkuo",
        "colab_type": "code",
        "colab": {}
      },
      "source": [
        ""
      ],
      "execution_count": 0,
      "outputs": []
    }
  ]
}