{
  "nbformat": 4,
  "nbformat_minor": 0,
  "metadata": {
    "colab": {
      "name": "House Prices.ipynb",
      "version": "0.3.2",
      "provenance": [],
      "include_colab_link": true
    },
    "kernelspec": {
      "name": "python3",
      "display_name": "Python 3"
    }
  },
  "cells": [
    {
      "cell_type": "markdown",
      "metadata": {
        "id": "view-in-github",
        "colab_type": "text"
      },
      "source": [
        "<a href=\"https://colab.research.google.com/github/PedroDubas/Kaggle_HousePrices/blob/master/House_Prices.ipynb\" target=\"_parent\"><img src=\"https://colab.research.google.com/assets/colab-badge.svg\" alt=\"Open In Colab\"/></a>"
      ]
    },
    {
      "cell_type": "code",
      "metadata": {
        "id": "FpXPxPzNMnm4",
        "colab_type": "code",
        "colab": {
          "base_uri": "https://localhost:8080/",
          "height": 35
        },
        "outputId": "ee629a18-9214-4793-f58e-7a08599d027c"
      },
      "source": [
        "!mkdir /root/.kaggle\n",
        "meu_json = '{\"username\":\"kleyer\",\"key\":\"b986abecaefe13f01f8073272b3c6f7e\"}'\n",
        "with open('/root/.kaggle/kaggle.json', 'w+') as f:\n",
        "    f.write(meu_json)"
      ],
      "execution_count": 5,
      "outputs": [
        {
          "output_type": "stream",
          "text": [
            "mkdir: cannot create directory ‘/root/.kaggle’: File exists\n"
          ],
          "name": "stdout"
        }
      ]
    },
    {
      "cell_type": "code",
      "metadata": {
        "id": "EyhhXAfoNxSL",
        "colab_type": "code",
        "outputId": "1d0e4526-a45e-4e23-efad-888ce70a0c43",
        "colab": {
          "base_uri": "https://localhost:8080/",
          "height": 254
        }
      },
      "source": [
        "!kaggle competitions download -c house-prices-advanced-regression-techniques"
      ],
      "execution_count": 6,
      "outputs": [
        {
          "output_type": "stream",
          "text": [
            "Warning: Your Kaggle API key is readable by other users on this system! To fix this, you can run 'chmod 600 /root/.kaggle/kaggle.json'\n",
            "Downloading sample_submission.csv to /content\n",
            "\r  0% 0.00/31.2k [00:00<?, ?B/s]\n",
            "\r100% 31.2k/31.2k [00:00<00:00, 11.9MB/s]\n",
            "Downloading test.csv to /content\n",
            "\r  0% 0.00/441k [00:00<?, ?B/s]\n",
            "100% 441k/441k [00:00<00:00, 60.3MB/s]\n",
            "Downloading train.csv to /content\n",
            "  0% 0.00/450k [00:00<?, ?B/s]\n",
            "100% 450k/450k [00:00<00:00, 62.8MB/s]\n",
            "Downloading data_description.txt to /content\n",
            "  0% 0.00/13.1k [00:00<?, ?B/s]\n",
            "100% 13.1k/13.1k [00:00<00:00, 13.7MB/s]\n"
          ],
          "name": "stdout"
        }
      ]
    },
    {
      "cell_type": "code",
      "metadata": {
        "id": "ByAY1AGQN35P",
        "colab_type": "code",
        "colab": {}
      },
      "source": [
        "\n",
        "dic = {\"SalePrice\": \" the property's sale price in dollars. This is the target variable that you're trying to predict.\",\n",
        "       \"MSSubClass\": \" The building class\",\n",
        "       \"MSZoning\": \" The general zoning classification\",\n",
        "       \"LotFrontage\": \" Linear feet of street connected to property\",\n",
        "       \"LotArea\": \" Lot size in square feet\",\n",
        "       \"Street\": \" Type of road access\",\n",
        "       \"Alley\": \" Type of alley access\",\n",
        "       \"LotShape\": \" General shape of property\",\n",
        "       \"LandContour\": \" Flatness of the property\",\n",
        "       \"Utilities\": \" Type of utilities available\",\n",
        "       \"LotConfig\": \" Lot configuration\",\n",
        "       \"LandSlope\": \" Slope of property\",\n",
        "       \"Neighborhood\": \" Physical locations within Ames city limits\",\n",
        "       \"Condition1\": \" Proximity to main road or railroad\",\n",
        "       \"Condition2\": \" Proximity to main road or railroad (if a second is present)\",\n",
        "       \"BldgType\": \" Type of dwelling\",\n",
        "       \"HouseStyle\": \" Style of dwelling\",\n",
        "       \"OverallQual\": \" Overall material and finish quality\",\n",
        "       \"OverallCond\": \" Overall condition rating\",\n",
        "       \"YearBuilt\": \" Original construction date\",\n",
        "       \"YearRemodAdd\": \" Remodel date\",\n",
        "       \"RoofStyle\": \" Type of roof\",\n",
        "       \"RoofMatl\": \" Roof material\",\n",
        "       \"Exterior1st\": \" Exterior covering on house\",\n",
        "       \"Exterior2nd\": \" Exterior covering on house (if more than one material)\",\n",
        "       \"MasVnrType\": \" Masonry veneer type\",\n",
        "       \"MasVnrArea\": \" Masonry veneer area in square feet\",\n",
        "       \"ExterQual\": \" Exterior material quality\",\n",
        "       \"ExterCond\": \" Present condition of the material on the exterior\",\n",
        "       \"Foundation\": \" Type of foundation\",\n",
        "       \"BsmtQual\": \" Height of the basement\",\n",
        "       \"BsmtCond\": \" General condition of the basement\",\n",
        "       \"BsmtExposure\": \" Walkout or garden level basement walls\",\n",
        "       \"BsmtFinType1\": \" Quality of basement finished area\",\n",
        "       \"BsmtFinSF1\": \" Type 1 finished square feet\",\n",
        "       \"BsmtFinType2\": \" Quality of second finished area (if present)\",\n",
        "       \"BsmtFinSF2\": \" Type 2 finished square feet\",\n",
        "       \"BsmtUnfSF\": \" Unfinished square feet of basement area\",\n",
        "       \"TotalBsmtSF\": \" Total square feet of basement area\",\n",
        "       \"Heating\": \" Type of heating\",\n",
        "       \"HeatingQC\": \" Heating quality and condition\",\n",
        "       \"CentralAir\": \" Central air conditioning\",\n",
        "       \"Electrical\": \" Electrical system\",\n",
        "       \"1stFlrSF\": \" First Floor square feet\",\n",
        "       \"2ndFlrSF\": \" Second floor square feet\",\n",
        "       \"LowQualFinSF\": \" Low quality finished square feet (all floors)\",\n",
        "       \"GrLivArea\": \" Above grade (ground) living area square feet\",\n",
        "       \"BsmtFullBath\": \" Basement full bathrooms\",\n",
        "       \"BsmtHalfBath\": \" Basement half bathrooms\",\n",
        "       \"FullBath\": \" Full bathrooms above grade\",\n",
        "       \"HalfBath\": \" Half baths above grade\",\n",
        "       \"Bedroom\": \" Number of bedrooms above basement level\",\n",
        "       \"Kitchen\": \" Number of kitchens\",\n",
        "       \"KitchenQual\": \" Kitchen quality\",\n",
        "       \"TotRmsAbvGrd\": \" Total rooms above grade (does not include bathrooms)\",\n",
        "       \"Functional\": \" Home functionality rating\",\n",
        "       \"Fireplaces\": \" Number of fireplaces\",\n",
        "       \"FireplaceQu\": \" Fireplace quality\",\n",
        "       \"GarageType\": \" Garage location\",\n",
        "       \"GarageYrBlt\": \" Year garage was built\",\n",
        "       \"GarageFinish\": \" Interior finish of the garage\",\n",
        "       \"GarageCars\": \" Size of garage in car capacity\",\n",
        "       \"GarageArea\": \" Size of garage in square feet\",\n",
        "       \"GarageQual\": \" Garage quality\",\n",
        "       \"GarageCond\": \" Garage condition\",\n",
        "       \"PavedDrive\": \" Paved driveway\",\n",
        "       \"WoodDeckSF\": \" Wood deck area in square feet\",\n",
        "       \"OpenPorchSF\": \" Open porch area in square feet\",\n",
        "       \"EnclosedPorch\": \" Enclosed porch area in square feet\",\n",
        "       \"3SsnPorch\": \" Three season porch area in square feet\",\n",
        "       \"ScreenPorch\": \" Screen porch area in square feet\",\n",
        "       \"PoolArea\": \" Pool area in square feet\",\n",
        "       \"PoolQC\": \" Pool quality\",\n",
        "       \"Fence\": \" Fence quality\",\n",
        "       \"MiscFeature\": \" Miscellaneous feature not covered in other categories\",\n",
        "       \"MiscVal\": \" $Value of miscellaneous feature\",\n",
        "       \"MoSold\": \" Month Sold\",\n",
        "       \"YrSold\": \" Year Sold\",\n",
        "       \"SaleType\": \" Type of sale\",\n",
        "       \"SaleCondition\": \" Condition of sale\"\n",
        "       }"
      ],
      "execution_count": 0,
      "outputs": []
    },
    {
      "cell_type": "code",
      "metadata": {
        "id": "elVcK6KMOo_2",
        "colab_type": "code",
        "colab": {}
      },
      "source": [
        "import pandas as pd\n",
        "import IPython\n",
        "from IPython import display\n",
        "from sklearn.ensemble import RandomForestRegressor, RandomForestClassifier, AdaBoostClassifier,GradientBoostingClassifier, ExtraTreesClassifier, VotingClassifier\n",
        "from sklearn.ensemble import IsolationForest\n",
        "from sklearn.discriminant_analysis import LinearDiscriminantAnalysis\n",
        "from sklearn.linear_model import LogisticRegression\n",
        "from sklearn.neighbors import KNeighborsClassifier\n",
        "from sklearn.tree import DecisionTreeClassifier\n",
        "from sklearn.neural_network import MLPClassifier\n",
        "from sklearn.svm import SVC\n",
        "from sklearn.model_selection import GridSearchCV, cross_val_score, StratifiedKFold, learning_curve, train_test_split\n",
        "from sklearn.feature_selection import RFECV\n",
        "from sklearn.pipeline import Pipeline\n",
        "import sklearn\n",
        "import xgboost as xgb\n",
        "from scipy.stats import norm, skew\n",
        "import seaborn as sns\n",
        "import matplotlib.pyplot as plt\n",
        "import numpy as np\n",
        "import random\n",
        "import time\n",
        "\n",
        "import warnings\n",
        "warnings.filterwarnings('ignore')\n",
        "# %matplotlib inline\n",
        "pd.set_option('display.float_format', lambda x: '{:.4f}'.format(x))  # Limiting floats output to 2 decimal points\n",
        "\n",
        "seed = 42"
      ],
      "execution_count": 0,
      "outputs": []
    },
    {
      "cell_type": "code",
      "metadata": {
        "id": "yoWaMfKYOrnz",
        "colab_type": "code",
        "outputId": "a3293b18-1df5-4bef-b6bc-b8d5384bda6d",
        "colab": {
          "base_uri": "https://localhost:8080/",
          "height": 467
        }
      },
      "source": [
        "train = pd.read_csv(\"train.csv\")\n",
        "test = pd.read_csv(\"test.csv\")\n",
        "data = pd.concat([train, test])\n",
        "print(train.shape)\n",
        "print(test.shape)\n",
        "print(data.shape)"
      ],
      "execution_count": 4,
      "outputs": [
        {
          "output_type": "error",
          "ename": "FileNotFoundError",
          "evalue": "ignored",
          "traceback": [
            "\u001b[0;31m---------------------------------------------------------------------------\u001b[0m",
            "\u001b[0;31mFileNotFoundError\u001b[0m                         Traceback (most recent call last)",
            "\u001b[0;32m<ipython-input-4-035e13972059>\u001b[0m in \u001b[0;36m<module>\u001b[0;34m()\u001b[0m\n\u001b[0;32m----> 1\u001b[0;31m \u001b[0mtrain\u001b[0m \u001b[0;34m=\u001b[0m \u001b[0mpd\u001b[0m\u001b[0;34m.\u001b[0m\u001b[0mread_csv\u001b[0m\u001b[0;34m(\u001b[0m\u001b[0;34m\"train.csv\"\u001b[0m\u001b[0;34m)\u001b[0m\u001b[0;34m\u001b[0m\u001b[0;34m\u001b[0m\u001b[0m\n\u001b[0m\u001b[1;32m      2\u001b[0m \u001b[0mtest\u001b[0m \u001b[0;34m=\u001b[0m \u001b[0mpd\u001b[0m\u001b[0;34m.\u001b[0m\u001b[0mread_csv\u001b[0m\u001b[0;34m(\u001b[0m\u001b[0;34m\"test.csv\"\u001b[0m\u001b[0;34m)\u001b[0m\u001b[0;34m\u001b[0m\u001b[0;34m\u001b[0m\u001b[0m\n\u001b[1;32m      3\u001b[0m \u001b[0mdata\u001b[0m \u001b[0;34m=\u001b[0m \u001b[0mpd\u001b[0m\u001b[0;34m.\u001b[0m\u001b[0mconcat\u001b[0m\u001b[0;34m(\u001b[0m\u001b[0;34m[\u001b[0m\u001b[0mtrain\u001b[0m\u001b[0;34m,\u001b[0m \u001b[0mtest\u001b[0m\u001b[0;34m]\u001b[0m\u001b[0;34m)\u001b[0m\u001b[0;34m\u001b[0m\u001b[0;34m\u001b[0m\u001b[0m\n\u001b[1;32m      4\u001b[0m \u001b[0mprint\u001b[0m\u001b[0;34m(\u001b[0m\u001b[0mtrain\u001b[0m\u001b[0;34m.\u001b[0m\u001b[0mshape\u001b[0m\u001b[0;34m)\u001b[0m\u001b[0;34m\u001b[0m\u001b[0;34m\u001b[0m\u001b[0m\n\u001b[1;32m      5\u001b[0m \u001b[0mprint\u001b[0m\u001b[0;34m(\u001b[0m\u001b[0mtest\u001b[0m\u001b[0;34m.\u001b[0m\u001b[0mshape\u001b[0m\u001b[0;34m)\u001b[0m\u001b[0;34m\u001b[0m\u001b[0;34m\u001b[0m\u001b[0m\n",
            "\u001b[0;32m/usr/local/lib/python3.6/dist-packages/pandas/io/parsers.py\u001b[0m in \u001b[0;36mparser_f\u001b[0;34m(filepath_or_buffer, sep, delimiter, header, names, index_col, usecols, squeeze, prefix, mangle_dupe_cols, dtype, engine, converters, true_values, false_values, skipinitialspace, skiprows, skipfooter, nrows, na_values, keep_default_na, na_filter, verbose, skip_blank_lines, parse_dates, infer_datetime_format, keep_date_col, date_parser, dayfirst, iterator, chunksize, compression, thousands, decimal, lineterminator, quotechar, quoting, doublequote, escapechar, comment, encoding, dialect, tupleize_cols, error_bad_lines, warn_bad_lines, delim_whitespace, low_memory, memory_map, float_precision)\u001b[0m\n\u001b[1;32m    700\u001b[0m                     skip_blank_lines=skip_blank_lines)\n\u001b[1;32m    701\u001b[0m \u001b[0;34m\u001b[0m\u001b[0m\n\u001b[0;32m--> 702\u001b[0;31m         \u001b[0;32mreturn\u001b[0m \u001b[0m_read\u001b[0m\u001b[0;34m(\u001b[0m\u001b[0mfilepath_or_buffer\u001b[0m\u001b[0;34m,\u001b[0m \u001b[0mkwds\u001b[0m\u001b[0;34m)\u001b[0m\u001b[0;34m\u001b[0m\u001b[0;34m\u001b[0m\u001b[0m\n\u001b[0m\u001b[1;32m    703\u001b[0m \u001b[0;34m\u001b[0m\u001b[0m\n\u001b[1;32m    704\u001b[0m     \u001b[0mparser_f\u001b[0m\u001b[0;34m.\u001b[0m\u001b[0m__name__\u001b[0m \u001b[0;34m=\u001b[0m \u001b[0mname\u001b[0m\u001b[0;34m\u001b[0m\u001b[0;34m\u001b[0m\u001b[0m\n",
            "\u001b[0;32m/usr/local/lib/python3.6/dist-packages/pandas/io/parsers.py\u001b[0m in \u001b[0;36m_read\u001b[0;34m(filepath_or_buffer, kwds)\u001b[0m\n\u001b[1;32m    427\u001b[0m \u001b[0;34m\u001b[0m\u001b[0m\n\u001b[1;32m    428\u001b[0m     \u001b[0;31m# Create the parser.\u001b[0m\u001b[0;34m\u001b[0m\u001b[0;34m\u001b[0m\u001b[0;34m\u001b[0m\u001b[0m\n\u001b[0;32m--> 429\u001b[0;31m     \u001b[0mparser\u001b[0m \u001b[0;34m=\u001b[0m \u001b[0mTextFileReader\u001b[0m\u001b[0;34m(\u001b[0m\u001b[0mfilepath_or_buffer\u001b[0m\u001b[0;34m,\u001b[0m \u001b[0;34m**\u001b[0m\u001b[0mkwds\u001b[0m\u001b[0;34m)\u001b[0m\u001b[0;34m\u001b[0m\u001b[0;34m\u001b[0m\u001b[0m\n\u001b[0m\u001b[1;32m    430\u001b[0m \u001b[0;34m\u001b[0m\u001b[0m\n\u001b[1;32m    431\u001b[0m     \u001b[0;32mif\u001b[0m \u001b[0mchunksize\u001b[0m \u001b[0;32mor\u001b[0m \u001b[0miterator\u001b[0m\u001b[0;34m:\u001b[0m\u001b[0;34m\u001b[0m\u001b[0;34m\u001b[0m\u001b[0m\n",
            "\u001b[0;32m/usr/local/lib/python3.6/dist-packages/pandas/io/parsers.py\u001b[0m in \u001b[0;36m__init__\u001b[0;34m(self, f, engine, **kwds)\u001b[0m\n\u001b[1;32m    893\u001b[0m             \u001b[0mself\u001b[0m\u001b[0;34m.\u001b[0m\u001b[0moptions\u001b[0m\u001b[0;34m[\u001b[0m\u001b[0;34m'has_index_names'\u001b[0m\u001b[0;34m]\u001b[0m \u001b[0;34m=\u001b[0m \u001b[0mkwds\u001b[0m\u001b[0;34m[\u001b[0m\u001b[0;34m'has_index_names'\u001b[0m\u001b[0;34m]\u001b[0m\u001b[0;34m\u001b[0m\u001b[0;34m\u001b[0m\u001b[0m\n\u001b[1;32m    894\u001b[0m \u001b[0;34m\u001b[0m\u001b[0m\n\u001b[0;32m--> 895\u001b[0;31m         \u001b[0mself\u001b[0m\u001b[0;34m.\u001b[0m\u001b[0m_make_engine\u001b[0m\u001b[0;34m(\u001b[0m\u001b[0mself\u001b[0m\u001b[0;34m.\u001b[0m\u001b[0mengine\u001b[0m\u001b[0;34m)\u001b[0m\u001b[0;34m\u001b[0m\u001b[0;34m\u001b[0m\u001b[0m\n\u001b[0m\u001b[1;32m    896\u001b[0m \u001b[0;34m\u001b[0m\u001b[0m\n\u001b[1;32m    897\u001b[0m     \u001b[0;32mdef\u001b[0m \u001b[0mclose\u001b[0m\u001b[0;34m(\u001b[0m\u001b[0mself\u001b[0m\u001b[0;34m)\u001b[0m\u001b[0;34m:\u001b[0m\u001b[0;34m\u001b[0m\u001b[0;34m\u001b[0m\u001b[0m\n",
            "\u001b[0;32m/usr/local/lib/python3.6/dist-packages/pandas/io/parsers.py\u001b[0m in \u001b[0;36m_make_engine\u001b[0;34m(self, engine)\u001b[0m\n\u001b[1;32m   1120\u001b[0m     \u001b[0;32mdef\u001b[0m \u001b[0m_make_engine\u001b[0m\u001b[0;34m(\u001b[0m\u001b[0mself\u001b[0m\u001b[0;34m,\u001b[0m \u001b[0mengine\u001b[0m\u001b[0;34m=\u001b[0m\u001b[0;34m'c'\u001b[0m\u001b[0;34m)\u001b[0m\u001b[0;34m:\u001b[0m\u001b[0;34m\u001b[0m\u001b[0;34m\u001b[0m\u001b[0m\n\u001b[1;32m   1121\u001b[0m         \u001b[0;32mif\u001b[0m \u001b[0mengine\u001b[0m \u001b[0;34m==\u001b[0m \u001b[0;34m'c'\u001b[0m\u001b[0;34m:\u001b[0m\u001b[0;34m\u001b[0m\u001b[0;34m\u001b[0m\u001b[0m\n\u001b[0;32m-> 1122\u001b[0;31m             \u001b[0mself\u001b[0m\u001b[0;34m.\u001b[0m\u001b[0m_engine\u001b[0m \u001b[0;34m=\u001b[0m \u001b[0mCParserWrapper\u001b[0m\u001b[0;34m(\u001b[0m\u001b[0mself\u001b[0m\u001b[0;34m.\u001b[0m\u001b[0mf\u001b[0m\u001b[0;34m,\u001b[0m \u001b[0;34m**\u001b[0m\u001b[0mself\u001b[0m\u001b[0;34m.\u001b[0m\u001b[0moptions\u001b[0m\u001b[0;34m)\u001b[0m\u001b[0;34m\u001b[0m\u001b[0;34m\u001b[0m\u001b[0m\n\u001b[0m\u001b[1;32m   1123\u001b[0m         \u001b[0;32melse\u001b[0m\u001b[0;34m:\u001b[0m\u001b[0;34m\u001b[0m\u001b[0;34m\u001b[0m\u001b[0m\n\u001b[1;32m   1124\u001b[0m             \u001b[0;32mif\u001b[0m \u001b[0mengine\u001b[0m \u001b[0;34m==\u001b[0m \u001b[0;34m'python'\u001b[0m\u001b[0;34m:\u001b[0m\u001b[0;34m\u001b[0m\u001b[0;34m\u001b[0m\u001b[0m\n",
            "\u001b[0;32m/usr/local/lib/python3.6/dist-packages/pandas/io/parsers.py\u001b[0m in \u001b[0;36m__init__\u001b[0;34m(self, src, **kwds)\u001b[0m\n\u001b[1;32m   1851\u001b[0m         \u001b[0mkwds\u001b[0m\u001b[0;34m[\u001b[0m\u001b[0;34m'usecols'\u001b[0m\u001b[0;34m]\u001b[0m \u001b[0;34m=\u001b[0m \u001b[0mself\u001b[0m\u001b[0;34m.\u001b[0m\u001b[0musecols\u001b[0m\u001b[0;34m\u001b[0m\u001b[0;34m\u001b[0m\u001b[0m\n\u001b[1;32m   1852\u001b[0m \u001b[0;34m\u001b[0m\u001b[0m\n\u001b[0;32m-> 1853\u001b[0;31m         \u001b[0mself\u001b[0m\u001b[0;34m.\u001b[0m\u001b[0m_reader\u001b[0m \u001b[0;34m=\u001b[0m \u001b[0mparsers\u001b[0m\u001b[0;34m.\u001b[0m\u001b[0mTextReader\u001b[0m\u001b[0;34m(\u001b[0m\u001b[0msrc\u001b[0m\u001b[0;34m,\u001b[0m \u001b[0;34m**\u001b[0m\u001b[0mkwds\u001b[0m\u001b[0;34m)\u001b[0m\u001b[0;34m\u001b[0m\u001b[0;34m\u001b[0m\u001b[0m\n\u001b[0m\u001b[1;32m   1854\u001b[0m         \u001b[0mself\u001b[0m\u001b[0;34m.\u001b[0m\u001b[0munnamed_cols\u001b[0m \u001b[0;34m=\u001b[0m \u001b[0mself\u001b[0m\u001b[0;34m.\u001b[0m\u001b[0m_reader\u001b[0m\u001b[0;34m.\u001b[0m\u001b[0munnamed_cols\u001b[0m\u001b[0;34m\u001b[0m\u001b[0;34m\u001b[0m\u001b[0m\n\u001b[1;32m   1855\u001b[0m \u001b[0;34m\u001b[0m\u001b[0m\n",
            "\u001b[0;32mpandas/_libs/parsers.pyx\u001b[0m in \u001b[0;36mpandas._libs.parsers.TextReader.__cinit__\u001b[0;34m()\u001b[0m\n",
            "\u001b[0;32mpandas/_libs/parsers.pyx\u001b[0m in \u001b[0;36mpandas._libs.parsers.TextReader._setup_parser_source\u001b[0;34m()\u001b[0m\n",
            "\u001b[0;31mFileNotFoundError\u001b[0m: [Errno 2] File b'train.csv' does not exist: b'train.csv'"
          ]
        }
      ]
    },
    {
      "cell_type": "code",
      "metadata": {
        "id": "nDL4k8mtOwgZ",
        "colab_type": "code",
        "outputId": "697bf19a-8706-4366-f7ba-996d38a7fd04",
        "colab": {
          "base_uri": "https://localhost:8080/",
          "height": 662
        }
      },
      "source": [
        "total = data.isnull().sum().sort_values(ascending=False)\n",
        "percent = (data.isnull().sum() / data.isnull().count()).sort_values(ascending=False)\n",
        "missing_data = pd.concat([total, percent], axis=1, keys=['Total', 'Percent'])\n",
        "missing_data.head(20)"
      ],
      "execution_count": 0,
      "outputs": [
        {
          "output_type": "execute_result",
          "data": {
            "text/html": [
              "<div>\n",
              "<style scoped>\n",
              "    .dataframe tbody tr th:only-of-type {\n",
              "        vertical-align: middle;\n",
              "    }\n",
              "\n",
              "    .dataframe tbody tr th {\n",
              "        vertical-align: top;\n",
              "    }\n",
              "\n",
              "    .dataframe thead th {\n",
              "        text-align: right;\n",
              "    }\n",
              "</style>\n",
              "<table border=\"1\" class=\"dataframe\">\n",
              "  <thead>\n",
              "    <tr style=\"text-align: right;\">\n",
              "      <th></th>\n",
              "      <th>Total</th>\n",
              "      <th>Percent</th>\n",
              "    </tr>\n",
              "  </thead>\n",
              "  <tbody>\n",
              "    <tr>\n",
              "      <th>PoolQC</th>\n",
              "      <td>2909</td>\n",
              "      <td>0.9966</td>\n",
              "    </tr>\n",
              "    <tr>\n",
              "      <th>MiscFeature</th>\n",
              "      <td>2814</td>\n",
              "      <td>0.9640</td>\n",
              "    </tr>\n",
              "    <tr>\n",
              "      <th>Alley</th>\n",
              "      <td>2721</td>\n",
              "      <td>0.9322</td>\n",
              "    </tr>\n",
              "    <tr>\n",
              "      <th>Fence</th>\n",
              "      <td>2348</td>\n",
              "      <td>0.8044</td>\n",
              "    </tr>\n",
              "    <tr>\n",
              "      <th>SalePrice</th>\n",
              "      <td>1459</td>\n",
              "      <td>0.4998</td>\n",
              "    </tr>\n",
              "    <tr>\n",
              "      <th>FireplaceQu</th>\n",
              "      <td>1420</td>\n",
              "      <td>0.4865</td>\n",
              "    </tr>\n",
              "    <tr>\n",
              "      <th>LotFrontage</th>\n",
              "      <td>486</td>\n",
              "      <td>0.1665</td>\n",
              "    </tr>\n",
              "    <tr>\n",
              "      <th>GarageFinish</th>\n",
              "      <td>159</td>\n",
              "      <td>0.0545</td>\n",
              "    </tr>\n",
              "    <tr>\n",
              "      <th>GarageCond</th>\n",
              "      <td>159</td>\n",
              "      <td>0.0545</td>\n",
              "    </tr>\n",
              "    <tr>\n",
              "      <th>GarageQual</th>\n",
              "      <td>159</td>\n",
              "      <td>0.0545</td>\n",
              "    </tr>\n",
              "    <tr>\n",
              "      <th>GarageYrBlt</th>\n",
              "      <td>159</td>\n",
              "      <td>0.0545</td>\n",
              "    </tr>\n",
              "    <tr>\n",
              "      <th>GarageType</th>\n",
              "      <td>157</td>\n",
              "      <td>0.0538</td>\n",
              "    </tr>\n",
              "    <tr>\n",
              "      <th>BsmtCond</th>\n",
              "      <td>82</td>\n",
              "      <td>0.0281</td>\n",
              "    </tr>\n",
              "    <tr>\n",
              "      <th>BsmtExposure</th>\n",
              "      <td>82</td>\n",
              "      <td>0.0281</td>\n",
              "    </tr>\n",
              "    <tr>\n",
              "      <th>BsmtQual</th>\n",
              "      <td>81</td>\n",
              "      <td>0.0277</td>\n",
              "    </tr>\n",
              "    <tr>\n",
              "      <th>BsmtFinType2</th>\n",
              "      <td>80</td>\n",
              "      <td>0.0274</td>\n",
              "    </tr>\n",
              "    <tr>\n",
              "      <th>BsmtFinType1</th>\n",
              "      <td>79</td>\n",
              "      <td>0.0271</td>\n",
              "    </tr>\n",
              "    <tr>\n",
              "      <th>MasVnrType</th>\n",
              "      <td>24</td>\n",
              "      <td>0.0082</td>\n",
              "    </tr>\n",
              "    <tr>\n",
              "      <th>MasVnrArea</th>\n",
              "      <td>23</td>\n",
              "      <td>0.0079</td>\n",
              "    </tr>\n",
              "    <tr>\n",
              "      <th>MSZoning</th>\n",
              "      <td>4</td>\n",
              "      <td>0.0014</td>\n",
              "    </tr>\n",
              "  </tbody>\n",
              "</table>\n",
              "</div>"
            ],
            "text/plain": [
              "              Total  Percent\n",
              "PoolQC         2909   0.9966\n",
              "MiscFeature    2814   0.9640\n",
              "Alley          2721   0.9322\n",
              "Fence          2348   0.8044\n",
              "SalePrice      1459   0.4998\n",
              "FireplaceQu    1420   0.4865\n",
              "LotFrontage     486   0.1665\n",
              "GarageFinish    159   0.0545\n",
              "GarageCond      159   0.0545\n",
              "GarageQual      159   0.0545\n",
              "GarageYrBlt     159   0.0545\n",
              "GarageType      157   0.0538\n",
              "BsmtCond         82   0.0281\n",
              "BsmtExposure     82   0.0281\n",
              "BsmtQual         81   0.0277\n",
              "BsmtFinType2     80   0.0274\n",
              "BsmtFinType1     79   0.0271\n",
              "MasVnrType       24   0.0082\n",
              "MasVnrArea       23   0.0079\n",
              "MSZoning          4   0.0014"
            ]
          },
          "metadata": {
            "tags": []
          },
          "execution_count": 9
        }
      ]
    },
    {
      "cell_type": "code",
      "metadata": {
        "id": "SB8yhvtUOyx3",
        "colab_type": "code",
        "outputId": "c3202f2f-4c91-42eb-fc6f-6a576abdc038",
        "colab": {
          "base_uri": "https://localhost:8080/",
          "height": 35
        }
      },
      "source": [
        "# Both Exterior 1 & 2 have only one missing value. We will just substitute in the most common string\n",
        "common_vars = ['Exterior1st', 'Exterior2nd', 'SaleType', 'Electrical', 'KitchenQual']\n",
        "for var in common_vars:\n",
        "    data[var] = data[var].fillna(data[var].mode()[0])\n",
        "\n",
        "# 'RL' is by far the most common value. So we can fill in missing values with 'RL'\n",
        "data['MSZoning'] = data.groupby('MSSubClass')['MSZoning'].transform(lambda x: x.fillna(x.mode()[0]))\n",
        "\n",
        "# Replacing missing data with None\n",
        "for col in ['GarageType', 'GarageFinish', 'GarageQual', 'GarageCond', 'BsmtQual',\n",
        "            'BsmtCond', 'BsmtExposure', 'BsmtFinType1', 'BsmtFinType2', \"PoolQC\"\n",
        "    , 'Alley', 'Fence', 'MiscFeature', 'FireplaceQu', 'MasVnrType', 'Utilities']:\n",
        "    data[col] = data[col].fillna('None')\n",
        "\n",
        "# Replacing missing data with 0 (Since No garage = no cars in such garage.)\n",
        "for col in ('GarageYrBlt', 'GarageArea', 'GarageCars', 'MasVnrArea', 'BsmtFinSF1', 'BsmtFinSF2'\n",
        "            , 'BsmtFullBath', 'BsmtHalfBath', 'FullBath', 'HalfBath', 'BsmtUnfSF', 'TotalBsmtSF'):\n",
        "    data[col] = data[col].fillna(0)\n",
        "\n",
        "# group by neighborhood and fill in missing value by the median LotFrontage of all the neighborhood\n",
        "data['LotFrontage'] = data.groupby('Neighborhood')['LotFrontage'].transform(lambda x: x.fillna(x.median()))\n",
        "print('Features size:', data.shape)\n",
        "\n",
        "# data description says NA means typical\n",
        "data['Functional'] = data['Functional'].fillna('Typ')"
      ],
      "execution_count": 0,
      "outputs": [
        {
          "output_type": "stream",
          "text": [
            "Features size: (2919, 81)\n"
          ],
          "name": "stdout"
        }
      ]
    },
    {
      "cell_type": "code",
      "metadata": {
        "id": "uDtqBz1tO0wq",
        "colab_type": "code",
        "outputId": "82b094b8-25c0-447a-bf46-119e4e152476",
        "colab": {
          "base_uri": "https://localhost:8080/",
          "height": 355
        }
      },
      "source": [
        "# missing data\n",
        "total = data.isnull().sum().sort_values(ascending=False)\n",
        "percent = (data.isnull().sum() / data.isnull().count()).sort_values(ascending=False)\n",
        "missing_data = pd.concat([total, percent], axis=1, keys=['Total', 'Percent'])\n",
        "missing_data.head(10)"
      ],
      "execution_count": 0,
      "outputs": [
        {
          "output_type": "execute_result",
          "data": {
            "text/html": [
              "<div>\n",
              "<style scoped>\n",
              "    .dataframe tbody tr th:only-of-type {\n",
              "        vertical-align: middle;\n",
              "    }\n",
              "\n",
              "    .dataframe tbody tr th {\n",
              "        vertical-align: top;\n",
              "    }\n",
              "\n",
              "    .dataframe thead th {\n",
              "        text-align: right;\n",
              "    }\n",
              "</style>\n",
              "<table border=\"1\" class=\"dataframe\">\n",
              "  <thead>\n",
              "    <tr style=\"text-align: right;\">\n",
              "      <th></th>\n",
              "      <th>Total</th>\n",
              "      <th>Percent</th>\n",
              "    </tr>\n",
              "  </thead>\n",
              "  <tbody>\n",
              "    <tr>\n",
              "      <th>SalePrice</th>\n",
              "      <td>1459</td>\n",
              "      <td>0.4998</td>\n",
              "    </tr>\n",
              "    <tr>\n",
              "      <th>FullBath</th>\n",
              "      <td>0</td>\n",
              "      <td>0.0000</td>\n",
              "    </tr>\n",
              "    <tr>\n",
              "      <th>ExterCond</th>\n",
              "      <td>0</td>\n",
              "      <td>0.0000</td>\n",
              "    </tr>\n",
              "    <tr>\n",
              "      <th>ExterQual</th>\n",
              "      <td>0</td>\n",
              "      <td>0.0000</td>\n",
              "    </tr>\n",
              "    <tr>\n",
              "      <th>Exterior1st</th>\n",
              "      <td>0</td>\n",
              "      <td>0.0000</td>\n",
              "    </tr>\n",
              "    <tr>\n",
              "      <th>Exterior2nd</th>\n",
              "      <td>0</td>\n",
              "      <td>0.0000</td>\n",
              "    </tr>\n",
              "    <tr>\n",
              "      <th>Fence</th>\n",
              "      <td>0</td>\n",
              "      <td>0.0000</td>\n",
              "    </tr>\n",
              "    <tr>\n",
              "      <th>FireplaceQu</th>\n",
              "      <td>0</td>\n",
              "      <td>0.0000</td>\n",
              "    </tr>\n",
              "    <tr>\n",
              "      <th>Fireplaces</th>\n",
              "      <td>0</td>\n",
              "      <td>0.0000</td>\n",
              "    </tr>\n",
              "    <tr>\n",
              "      <th>Foundation</th>\n",
              "      <td>0</td>\n",
              "      <td>0.0000</td>\n",
              "    </tr>\n",
              "  </tbody>\n",
              "</table>\n",
              "</div>"
            ],
            "text/plain": [
              "             Total  Percent\n",
              "SalePrice     1459   0.4998\n",
              "FullBath         0   0.0000\n",
              "ExterCond        0   0.0000\n",
              "ExterQual        0   0.0000\n",
              "Exterior1st      0   0.0000\n",
              "Exterior2nd      0   0.0000\n",
              "Fence            0   0.0000\n",
              "FireplaceQu      0   0.0000\n",
              "Fireplaces       0   0.0000\n",
              "Foundation       0   0.0000"
            ]
          },
          "metadata": {
            "tags": []
          },
          "execution_count": 13
        }
      ]
    },
    {
      "cell_type": "code",
      "metadata": {
        "id": "L9fcwG6sO7Ws",
        "colab_type": "code",
        "outputId": "3af29154-42ab-4b20-829d-39de18fdcbc7",
        "colab": {
          "base_uri": "https://localhost:8080/",
          "height": 251
        }
      },
      "source": [
        "categories = ['Street', 'Alley', 'LotConfig', 'LandSlope', 'LandContour', 'Utilities', 'LotShape', 'Neighborhood',\n",
        "              'Condition1', 'Condition2', 'BldgType', 'HouseStyle', 'RoofStyle', 'RoofMatl', 'Exterior1st',\n",
        "              'Exterior2nd',\n",
        "              'MasVnrType', 'Foundation', 'BsmtFinType1', 'BsmtFinType2', 'Heating', 'Fence', 'MiscFeature',\n",
        "              'CentralAir', 'Electrical', 'Functional', 'GarageType', 'GarageFinish', 'PavedDrive', 'SaleType',\n",
        "              'SaleCondition']\n",
        "\n",
        "one_hot = pd.get_dummies(data[categories])\n",
        "one_hot.head()"
      ],
      "execution_count": 0,
      "outputs": [
        {
          "output_type": "execute_result",
          "data": {
            "text/html": [
              "<div>\n",
              "<style scoped>\n",
              "    .dataframe tbody tr th:only-of-type {\n",
              "        vertical-align: middle;\n",
              "    }\n",
              "\n",
              "    .dataframe tbody tr th {\n",
              "        vertical-align: top;\n",
              "    }\n",
              "\n",
              "    .dataframe thead th {\n",
              "        text-align: right;\n",
              "    }\n",
              "</style>\n",
              "<table border=\"1\" class=\"dataframe\">\n",
              "  <thead>\n",
              "    <tr style=\"text-align: right;\">\n",
              "      <th></th>\n",
              "      <th>Street_Grvl</th>\n",
              "      <th>Street_Pave</th>\n",
              "      <th>Alley_Grvl</th>\n",
              "      <th>Alley_None</th>\n",
              "      <th>Alley_Pave</th>\n",
              "      <th>LotConfig_Corner</th>\n",
              "      <th>LotConfig_CulDSac</th>\n",
              "      <th>LotConfig_FR2</th>\n",
              "      <th>LotConfig_FR3</th>\n",
              "      <th>LotConfig_Inside</th>\n",
              "      <th>LandSlope_Gtl</th>\n",
              "      <th>LandSlope_Mod</th>\n",
              "      <th>LandSlope_Sev</th>\n",
              "      <th>LandContour_Bnk</th>\n",
              "      <th>LandContour_HLS</th>\n",
              "      <th>LandContour_Low</th>\n",
              "      <th>LandContour_Lvl</th>\n",
              "      <th>Utilities_AllPub</th>\n",
              "      <th>Utilities_NoSeWa</th>\n",
              "      <th>Utilities_None</th>\n",
              "      <th>LotShape_IR1</th>\n",
              "      <th>LotShape_IR2</th>\n",
              "      <th>LotShape_IR3</th>\n",
              "      <th>LotShape_Reg</th>\n",
              "      <th>Neighborhood_Blmngtn</th>\n",
              "      <th>Neighborhood_Blueste</th>\n",
              "      <th>Neighborhood_BrDale</th>\n",
              "      <th>Neighborhood_BrkSide</th>\n",
              "      <th>Neighborhood_ClearCr</th>\n",
              "      <th>Neighborhood_CollgCr</th>\n",
              "      <th>Neighborhood_Crawfor</th>\n",
              "      <th>Neighborhood_Edwards</th>\n",
              "      <th>Neighborhood_Gilbert</th>\n",
              "      <th>Neighborhood_IDOTRR</th>\n",
              "      <th>Neighborhood_MeadowV</th>\n",
              "      <th>Neighborhood_Mitchel</th>\n",
              "      <th>Neighborhood_NAmes</th>\n",
              "      <th>Neighborhood_NPkVill</th>\n",
              "      <th>Neighborhood_NWAmes</th>\n",
              "      <th>Neighborhood_NoRidge</th>\n",
              "      <th>...</th>\n",
              "      <th>Electrical_FuseF</th>\n",
              "      <th>Electrical_FuseP</th>\n",
              "      <th>Electrical_Mix</th>\n",
              "      <th>Electrical_SBrkr</th>\n",
              "      <th>Functional_Maj1</th>\n",
              "      <th>Functional_Maj2</th>\n",
              "      <th>Functional_Min1</th>\n",
              "      <th>Functional_Min2</th>\n",
              "      <th>Functional_Mod</th>\n",
              "      <th>Functional_Sev</th>\n",
              "      <th>Functional_Typ</th>\n",
              "      <th>GarageType_2Types</th>\n",
              "      <th>GarageType_Attchd</th>\n",
              "      <th>GarageType_Basment</th>\n",
              "      <th>GarageType_BuiltIn</th>\n",
              "      <th>GarageType_CarPort</th>\n",
              "      <th>GarageType_Detchd</th>\n",
              "      <th>GarageType_None</th>\n",
              "      <th>GarageFinish_Fin</th>\n",
              "      <th>GarageFinish_None</th>\n",
              "      <th>GarageFinish_RFn</th>\n",
              "      <th>GarageFinish_Unf</th>\n",
              "      <th>PavedDrive_N</th>\n",
              "      <th>PavedDrive_P</th>\n",
              "      <th>PavedDrive_Y</th>\n",
              "      <th>SaleType_COD</th>\n",
              "      <th>SaleType_CWD</th>\n",
              "      <th>SaleType_Con</th>\n",
              "      <th>SaleType_ConLD</th>\n",
              "      <th>SaleType_ConLI</th>\n",
              "      <th>SaleType_ConLw</th>\n",
              "      <th>SaleType_New</th>\n",
              "      <th>SaleType_Oth</th>\n",
              "      <th>SaleType_WD</th>\n",
              "      <th>SaleCondition_Abnorml</th>\n",
              "      <th>SaleCondition_AdjLand</th>\n",
              "      <th>SaleCondition_Alloca</th>\n",
              "      <th>SaleCondition_Family</th>\n",
              "      <th>SaleCondition_Normal</th>\n",
              "      <th>SaleCondition_Partial</th>\n",
              "    </tr>\n",
              "  </thead>\n",
              "  <tbody>\n",
              "    <tr>\n",
              "      <th>0</th>\n",
              "      <td>0</td>\n",
              "      <td>1</td>\n",
              "      <td>0</td>\n",
              "      <td>1</td>\n",
              "      <td>0</td>\n",
              "      <td>0</td>\n",
              "      <td>0</td>\n",
              "      <td>0</td>\n",
              "      <td>0</td>\n",
              "      <td>1</td>\n",
              "      <td>1</td>\n",
              "      <td>0</td>\n",
              "      <td>0</td>\n",
              "      <td>0</td>\n",
              "      <td>0</td>\n",
              "      <td>0</td>\n",
              "      <td>1</td>\n",
              "      <td>1</td>\n",
              "      <td>0</td>\n",
              "      <td>0</td>\n",
              "      <td>0</td>\n",
              "      <td>0</td>\n",
              "      <td>0</td>\n",
              "      <td>1</td>\n",
              "      <td>0</td>\n",
              "      <td>0</td>\n",
              "      <td>0</td>\n",
              "      <td>0</td>\n",
              "      <td>0</td>\n",
              "      <td>1</td>\n",
              "      <td>0</td>\n",
              "      <td>0</td>\n",
              "      <td>0</td>\n",
              "      <td>0</td>\n",
              "      <td>0</td>\n",
              "      <td>0</td>\n",
              "      <td>0</td>\n",
              "      <td>0</td>\n",
              "      <td>0</td>\n",
              "      <td>0</td>\n",
              "      <td>...</td>\n",
              "      <td>0</td>\n",
              "      <td>0</td>\n",
              "      <td>0</td>\n",
              "      <td>1</td>\n",
              "      <td>0</td>\n",
              "      <td>0</td>\n",
              "      <td>0</td>\n",
              "      <td>0</td>\n",
              "      <td>0</td>\n",
              "      <td>0</td>\n",
              "      <td>1</td>\n",
              "      <td>0</td>\n",
              "      <td>1</td>\n",
              "      <td>0</td>\n",
              "      <td>0</td>\n",
              "      <td>0</td>\n",
              "      <td>0</td>\n",
              "      <td>0</td>\n",
              "      <td>0</td>\n",
              "      <td>0</td>\n",
              "      <td>1</td>\n",
              "      <td>0</td>\n",
              "      <td>0</td>\n",
              "      <td>0</td>\n",
              "      <td>1</td>\n",
              "      <td>0</td>\n",
              "      <td>0</td>\n",
              "      <td>0</td>\n",
              "      <td>0</td>\n",
              "      <td>0</td>\n",
              "      <td>0</td>\n",
              "      <td>0</td>\n",
              "      <td>0</td>\n",
              "      <td>1</td>\n",
              "      <td>0</td>\n",
              "      <td>0</td>\n",
              "      <td>0</td>\n",
              "      <td>0</td>\n",
              "      <td>1</td>\n",
              "      <td>0</td>\n",
              "    </tr>\n",
              "    <tr>\n",
              "      <th>1</th>\n",
              "      <td>0</td>\n",
              "      <td>1</td>\n",
              "      <td>0</td>\n",
              "      <td>1</td>\n",
              "      <td>0</td>\n",
              "      <td>0</td>\n",
              "      <td>0</td>\n",
              "      <td>1</td>\n",
              "      <td>0</td>\n",
              "      <td>0</td>\n",
              "      <td>1</td>\n",
              "      <td>0</td>\n",
              "      <td>0</td>\n",
              "      <td>0</td>\n",
              "      <td>0</td>\n",
              "      <td>0</td>\n",
              "      <td>1</td>\n",
              "      <td>1</td>\n",
              "      <td>0</td>\n",
              "      <td>0</td>\n",
              "      <td>0</td>\n",
              "      <td>0</td>\n",
              "      <td>0</td>\n",
              "      <td>1</td>\n",
              "      <td>0</td>\n",
              "      <td>0</td>\n",
              "      <td>0</td>\n",
              "      <td>0</td>\n",
              "      <td>0</td>\n",
              "      <td>0</td>\n",
              "      <td>0</td>\n",
              "      <td>0</td>\n",
              "      <td>0</td>\n",
              "      <td>0</td>\n",
              "      <td>0</td>\n",
              "      <td>0</td>\n",
              "      <td>0</td>\n",
              "      <td>0</td>\n",
              "      <td>0</td>\n",
              "      <td>0</td>\n",
              "      <td>...</td>\n",
              "      <td>0</td>\n",
              "      <td>0</td>\n",
              "      <td>0</td>\n",
              "      <td>1</td>\n",
              "      <td>0</td>\n",
              "      <td>0</td>\n",
              "      <td>0</td>\n",
              "      <td>0</td>\n",
              "      <td>0</td>\n",
              "      <td>0</td>\n",
              "      <td>1</td>\n",
              "      <td>0</td>\n",
              "      <td>1</td>\n",
              "      <td>0</td>\n",
              "      <td>0</td>\n",
              "      <td>0</td>\n",
              "      <td>0</td>\n",
              "      <td>0</td>\n",
              "      <td>0</td>\n",
              "      <td>0</td>\n",
              "      <td>1</td>\n",
              "      <td>0</td>\n",
              "      <td>0</td>\n",
              "      <td>0</td>\n",
              "      <td>1</td>\n",
              "      <td>0</td>\n",
              "      <td>0</td>\n",
              "      <td>0</td>\n",
              "      <td>0</td>\n",
              "      <td>0</td>\n",
              "      <td>0</td>\n",
              "      <td>0</td>\n",
              "      <td>0</td>\n",
              "      <td>1</td>\n",
              "      <td>0</td>\n",
              "      <td>0</td>\n",
              "      <td>0</td>\n",
              "      <td>0</td>\n",
              "      <td>1</td>\n",
              "      <td>0</td>\n",
              "    </tr>\n",
              "    <tr>\n",
              "      <th>2</th>\n",
              "      <td>0</td>\n",
              "      <td>1</td>\n",
              "      <td>0</td>\n",
              "      <td>1</td>\n",
              "      <td>0</td>\n",
              "      <td>0</td>\n",
              "      <td>0</td>\n",
              "      <td>0</td>\n",
              "      <td>0</td>\n",
              "      <td>1</td>\n",
              "      <td>1</td>\n",
              "      <td>0</td>\n",
              "      <td>0</td>\n",
              "      <td>0</td>\n",
              "      <td>0</td>\n",
              "      <td>0</td>\n",
              "      <td>1</td>\n",
              "      <td>1</td>\n",
              "      <td>0</td>\n",
              "      <td>0</td>\n",
              "      <td>1</td>\n",
              "      <td>0</td>\n",
              "      <td>0</td>\n",
              "      <td>0</td>\n",
              "      <td>0</td>\n",
              "      <td>0</td>\n",
              "      <td>0</td>\n",
              "      <td>0</td>\n",
              "      <td>0</td>\n",
              "      <td>1</td>\n",
              "      <td>0</td>\n",
              "      <td>0</td>\n",
              "      <td>0</td>\n",
              "      <td>0</td>\n",
              "      <td>0</td>\n",
              "      <td>0</td>\n",
              "      <td>0</td>\n",
              "      <td>0</td>\n",
              "      <td>0</td>\n",
              "      <td>0</td>\n",
              "      <td>...</td>\n",
              "      <td>0</td>\n",
              "      <td>0</td>\n",
              "      <td>0</td>\n",
              "      <td>1</td>\n",
              "      <td>0</td>\n",
              "      <td>0</td>\n",
              "      <td>0</td>\n",
              "      <td>0</td>\n",
              "      <td>0</td>\n",
              "      <td>0</td>\n",
              "      <td>1</td>\n",
              "      <td>0</td>\n",
              "      <td>1</td>\n",
              "      <td>0</td>\n",
              "      <td>0</td>\n",
              "      <td>0</td>\n",
              "      <td>0</td>\n",
              "      <td>0</td>\n",
              "      <td>0</td>\n",
              "      <td>0</td>\n",
              "      <td>1</td>\n",
              "      <td>0</td>\n",
              "      <td>0</td>\n",
              "      <td>0</td>\n",
              "      <td>1</td>\n",
              "      <td>0</td>\n",
              "      <td>0</td>\n",
              "      <td>0</td>\n",
              "      <td>0</td>\n",
              "      <td>0</td>\n",
              "      <td>0</td>\n",
              "      <td>0</td>\n",
              "      <td>0</td>\n",
              "      <td>1</td>\n",
              "      <td>0</td>\n",
              "      <td>0</td>\n",
              "      <td>0</td>\n",
              "      <td>0</td>\n",
              "      <td>1</td>\n",
              "      <td>0</td>\n",
              "    </tr>\n",
              "    <tr>\n",
              "      <th>3</th>\n",
              "      <td>0</td>\n",
              "      <td>1</td>\n",
              "      <td>0</td>\n",
              "      <td>1</td>\n",
              "      <td>0</td>\n",
              "      <td>1</td>\n",
              "      <td>0</td>\n",
              "      <td>0</td>\n",
              "      <td>0</td>\n",
              "      <td>0</td>\n",
              "      <td>1</td>\n",
              "      <td>0</td>\n",
              "      <td>0</td>\n",
              "      <td>0</td>\n",
              "      <td>0</td>\n",
              "      <td>0</td>\n",
              "      <td>1</td>\n",
              "      <td>1</td>\n",
              "      <td>0</td>\n",
              "      <td>0</td>\n",
              "      <td>1</td>\n",
              "      <td>0</td>\n",
              "      <td>0</td>\n",
              "      <td>0</td>\n",
              "      <td>0</td>\n",
              "      <td>0</td>\n",
              "      <td>0</td>\n",
              "      <td>0</td>\n",
              "      <td>0</td>\n",
              "      <td>0</td>\n",
              "      <td>1</td>\n",
              "      <td>0</td>\n",
              "      <td>0</td>\n",
              "      <td>0</td>\n",
              "      <td>0</td>\n",
              "      <td>0</td>\n",
              "      <td>0</td>\n",
              "      <td>0</td>\n",
              "      <td>0</td>\n",
              "      <td>0</td>\n",
              "      <td>...</td>\n",
              "      <td>0</td>\n",
              "      <td>0</td>\n",
              "      <td>0</td>\n",
              "      <td>1</td>\n",
              "      <td>0</td>\n",
              "      <td>0</td>\n",
              "      <td>0</td>\n",
              "      <td>0</td>\n",
              "      <td>0</td>\n",
              "      <td>0</td>\n",
              "      <td>1</td>\n",
              "      <td>0</td>\n",
              "      <td>0</td>\n",
              "      <td>0</td>\n",
              "      <td>0</td>\n",
              "      <td>0</td>\n",
              "      <td>1</td>\n",
              "      <td>0</td>\n",
              "      <td>0</td>\n",
              "      <td>0</td>\n",
              "      <td>0</td>\n",
              "      <td>1</td>\n",
              "      <td>0</td>\n",
              "      <td>0</td>\n",
              "      <td>1</td>\n",
              "      <td>0</td>\n",
              "      <td>0</td>\n",
              "      <td>0</td>\n",
              "      <td>0</td>\n",
              "      <td>0</td>\n",
              "      <td>0</td>\n",
              "      <td>0</td>\n",
              "      <td>0</td>\n",
              "      <td>1</td>\n",
              "      <td>1</td>\n",
              "      <td>0</td>\n",
              "      <td>0</td>\n",
              "      <td>0</td>\n",
              "      <td>0</td>\n",
              "      <td>0</td>\n",
              "    </tr>\n",
              "    <tr>\n",
              "      <th>4</th>\n",
              "      <td>0</td>\n",
              "      <td>1</td>\n",
              "      <td>0</td>\n",
              "      <td>1</td>\n",
              "      <td>0</td>\n",
              "      <td>0</td>\n",
              "      <td>0</td>\n",
              "      <td>1</td>\n",
              "      <td>0</td>\n",
              "      <td>0</td>\n",
              "      <td>1</td>\n",
              "      <td>0</td>\n",
              "      <td>0</td>\n",
              "      <td>0</td>\n",
              "      <td>0</td>\n",
              "      <td>0</td>\n",
              "      <td>1</td>\n",
              "      <td>1</td>\n",
              "      <td>0</td>\n",
              "      <td>0</td>\n",
              "      <td>1</td>\n",
              "      <td>0</td>\n",
              "      <td>0</td>\n",
              "      <td>0</td>\n",
              "      <td>0</td>\n",
              "      <td>0</td>\n",
              "      <td>0</td>\n",
              "      <td>0</td>\n",
              "      <td>0</td>\n",
              "      <td>0</td>\n",
              "      <td>0</td>\n",
              "      <td>0</td>\n",
              "      <td>0</td>\n",
              "      <td>0</td>\n",
              "      <td>0</td>\n",
              "      <td>0</td>\n",
              "      <td>0</td>\n",
              "      <td>0</td>\n",
              "      <td>0</td>\n",
              "      <td>1</td>\n",
              "      <td>...</td>\n",
              "      <td>0</td>\n",
              "      <td>0</td>\n",
              "      <td>0</td>\n",
              "      <td>1</td>\n",
              "      <td>0</td>\n",
              "      <td>0</td>\n",
              "      <td>0</td>\n",
              "      <td>0</td>\n",
              "      <td>0</td>\n",
              "      <td>0</td>\n",
              "      <td>1</td>\n",
              "      <td>0</td>\n",
              "      <td>1</td>\n",
              "      <td>0</td>\n",
              "      <td>0</td>\n",
              "      <td>0</td>\n",
              "      <td>0</td>\n",
              "      <td>0</td>\n",
              "      <td>0</td>\n",
              "      <td>0</td>\n",
              "      <td>1</td>\n",
              "      <td>0</td>\n",
              "      <td>0</td>\n",
              "      <td>0</td>\n",
              "      <td>1</td>\n",
              "      <td>0</td>\n",
              "      <td>0</td>\n",
              "      <td>0</td>\n",
              "      <td>0</td>\n",
              "      <td>0</td>\n",
              "      <td>0</td>\n",
              "      <td>0</td>\n",
              "      <td>0</td>\n",
              "      <td>1</td>\n",
              "      <td>0</td>\n",
              "      <td>0</td>\n",
              "      <td>0</td>\n",
              "      <td>0</td>\n",
              "      <td>1</td>\n",
              "      <td>0</td>\n",
              "    </tr>\n",
              "  </tbody>\n",
              "</table>\n",
              "<p>5 rows × 207 columns</p>\n",
              "</div>"
            ],
            "text/plain": [
              "   Street_Grvl  Street_Pave  ...  SaleCondition_Normal  SaleCondition_Partial\n",
              "0            0            1  ...                     1                      0\n",
              "1            0            1  ...                     1                      0\n",
              "2            0            1  ...                     1                      0\n",
              "3            0            1  ...                     0                      0\n",
              "4            0            1  ...                     1                      0\n",
              "\n",
              "[5 rows x 207 columns]"
            ]
          },
          "metadata": {
            "tags": []
          },
          "execution_count": 14
        }
      ]
    },
    {
      "cell_type": "code",
      "metadata": {
        "id": "mf3qPcOJO9si",
        "colab_type": "code",
        "outputId": "a29e7250-2a22-4228-e444-20d9271df0e1",
        "colab": {
          "base_uri": "https://localhost:8080/",
          "height": 269
        }
      },
      "source": [
        "data = pd.concat([data, one_hot], axis=1)\n",
        "for i in categories:\n",
        "    data = data.drop(i, axis=1)\n",
        "print(data.shape)\n",
        "data.head()"
      ],
      "execution_count": 0,
      "outputs": [
        {
          "output_type": "stream",
          "text": [
            "(2919, 257)\n"
          ],
          "name": "stdout"
        },
        {
          "output_type": "execute_result",
          "data": {
            "text/html": [
              "<div>\n",
              "<style scoped>\n",
              "    .dataframe tbody tr th:only-of-type {\n",
              "        vertical-align: middle;\n",
              "    }\n",
              "\n",
              "    .dataframe tbody tr th {\n",
              "        vertical-align: top;\n",
              "    }\n",
              "\n",
              "    .dataframe thead th {\n",
              "        text-align: right;\n",
              "    }\n",
              "</style>\n",
              "<table border=\"1\" class=\"dataframe\">\n",
              "  <thead>\n",
              "    <tr style=\"text-align: right;\">\n",
              "      <th></th>\n",
              "      <th>1stFlrSF</th>\n",
              "      <th>2ndFlrSF</th>\n",
              "      <th>3SsnPorch</th>\n",
              "      <th>BedroomAbvGr</th>\n",
              "      <th>BsmtCond</th>\n",
              "      <th>BsmtExposure</th>\n",
              "      <th>BsmtFinSF1</th>\n",
              "      <th>BsmtFinSF2</th>\n",
              "      <th>BsmtFullBath</th>\n",
              "      <th>BsmtHalfBath</th>\n",
              "      <th>BsmtQual</th>\n",
              "      <th>BsmtUnfSF</th>\n",
              "      <th>EnclosedPorch</th>\n",
              "      <th>ExterCond</th>\n",
              "      <th>ExterQual</th>\n",
              "      <th>FireplaceQu</th>\n",
              "      <th>Fireplaces</th>\n",
              "      <th>FullBath</th>\n",
              "      <th>GarageArea</th>\n",
              "      <th>GarageCars</th>\n",
              "      <th>GarageCond</th>\n",
              "      <th>GarageQual</th>\n",
              "      <th>GarageYrBlt</th>\n",
              "      <th>GrLivArea</th>\n",
              "      <th>HalfBath</th>\n",
              "      <th>HeatingQC</th>\n",
              "      <th>Id</th>\n",
              "      <th>KitchenAbvGr</th>\n",
              "      <th>KitchenQual</th>\n",
              "      <th>LotArea</th>\n",
              "      <th>LotFrontage</th>\n",
              "      <th>LowQualFinSF</th>\n",
              "      <th>MSSubClass</th>\n",
              "      <th>MSZoning</th>\n",
              "      <th>MasVnrArea</th>\n",
              "      <th>MiscVal</th>\n",
              "      <th>MoSold</th>\n",
              "      <th>OpenPorchSF</th>\n",
              "      <th>OverallCond</th>\n",
              "      <th>OverallQual</th>\n",
              "      <th>...</th>\n",
              "      <th>Electrical_FuseF</th>\n",
              "      <th>Electrical_FuseP</th>\n",
              "      <th>Electrical_Mix</th>\n",
              "      <th>Electrical_SBrkr</th>\n",
              "      <th>Functional_Maj1</th>\n",
              "      <th>Functional_Maj2</th>\n",
              "      <th>Functional_Min1</th>\n",
              "      <th>Functional_Min2</th>\n",
              "      <th>Functional_Mod</th>\n",
              "      <th>Functional_Sev</th>\n",
              "      <th>Functional_Typ</th>\n",
              "      <th>GarageType_2Types</th>\n",
              "      <th>GarageType_Attchd</th>\n",
              "      <th>GarageType_Basment</th>\n",
              "      <th>GarageType_BuiltIn</th>\n",
              "      <th>GarageType_CarPort</th>\n",
              "      <th>GarageType_Detchd</th>\n",
              "      <th>GarageType_None</th>\n",
              "      <th>GarageFinish_Fin</th>\n",
              "      <th>GarageFinish_None</th>\n",
              "      <th>GarageFinish_RFn</th>\n",
              "      <th>GarageFinish_Unf</th>\n",
              "      <th>PavedDrive_N</th>\n",
              "      <th>PavedDrive_P</th>\n",
              "      <th>PavedDrive_Y</th>\n",
              "      <th>SaleType_COD</th>\n",
              "      <th>SaleType_CWD</th>\n",
              "      <th>SaleType_Con</th>\n",
              "      <th>SaleType_ConLD</th>\n",
              "      <th>SaleType_ConLI</th>\n",
              "      <th>SaleType_ConLw</th>\n",
              "      <th>SaleType_New</th>\n",
              "      <th>SaleType_Oth</th>\n",
              "      <th>SaleType_WD</th>\n",
              "      <th>SaleCondition_Abnorml</th>\n",
              "      <th>SaleCondition_AdjLand</th>\n",
              "      <th>SaleCondition_Alloca</th>\n",
              "      <th>SaleCondition_Family</th>\n",
              "      <th>SaleCondition_Normal</th>\n",
              "      <th>SaleCondition_Partial</th>\n",
              "    </tr>\n",
              "  </thead>\n",
              "  <tbody>\n",
              "    <tr>\n",
              "      <th>0</th>\n",
              "      <td>856</td>\n",
              "      <td>854</td>\n",
              "      <td>0</td>\n",
              "      <td>3</td>\n",
              "      <td>TA</td>\n",
              "      <td>No</td>\n",
              "      <td>706.0000</td>\n",
              "      <td>0.0000</td>\n",
              "      <td>1.0000</td>\n",
              "      <td>0.0000</td>\n",
              "      <td>Gd</td>\n",
              "      <td>150.0000</td>\n",
              "      <td>0</td>\n",
              "      <td>TA</td>\n",
              "      <td>Gd</td>\n",
              "      <td>None</td>\n",
              "      <td>0</td>\n",
              "      <td>2</td>\n",
              "      <td>548.0000</td>\n",
              "      <td>2.0000</td>\n",
              "      <td>TA</td>\n",
              "      <td>TA</td>\n",
              "      <td>2003.0000</td>\n",
              "      <td>1710</td>\n",
              "      <td>1</td>\n",
              "      <td>Ex</td>\n",
              "      <td>1</td>\n",
              "      <td>1</td>\n",
              "      <td>Gd</td>\n",
              "      <td>8450</td>\n",
              "      <td>65.0000</td>\n",
              "      <td>0</td>\n",
              "      <td>60</td>\n",
              "      <td>RL</td>\n",
              "      <td>196.0000</td>\n",
              "      <td>0</td>\n",
              "      <td>2</td>\n",
              "      <td>61</td>\n",
              "      <td>5</td>\n",
              "      <td>7</td>\n",
              "      <td>...</td>\n",
              "      <td>0</td>\n",
              "      <td>0</td>\n",
              "      <td>0</td>\n",
              "      <td>1</td>\n",
              "      <td>0</td>\n",
              "      <td>0</td>\n",
              "      <td>0</td>\n",
              "      <td>0</td>\n",
              "      <td>0</td>\n",
              "      <td>0</td>\n",
              "      <td>1</td>\n",
              "      <td>0</td>\n",
              "      <td>1</td>\n",
              "      <td>0</td>\n",
              "      <td>0</td>\n",
              "      <td>0</td>\n",
              "      <td>0</td>\n",
              "      <td>0</td>\n",
              "      <td>0</td>\n",
              "      <td>0</td>\n",
              "      <td>1</td>\n",
              "      <td>0</td>\n",
              "      <td>0</td>\n",
              "      <td>0</td>\n",
              "      <td>1</td>\n",
              "      <td>0</td>\n",
              "      <td>0</td>\n",
              "      <td>0</td>\n",
              "      <td>0</td>\n",
              "      <td>0</td>\n",
              "      <td>0</td>\n",
              "      <td>0</td>\n",
              "      <td>0</td>\n",
              "      <td>1</td>\n",
              "      <td>0</td>\n",
              "      <td>0</td>\n",
              "      <td>0</td>\n",
              "      <td>0</td>\n",
              "      <td>1</td>\n",
              "      <td>0</td>\n",
              "    </tr>\n",
              "    <tr>\n",
              "      <th>1</th>\n",
              "      <td>1262</td>\n",
              "      <td>0</td>\n",
              "      <td>0</td>\n",
              "      <td>3</td>\n",
              "      <td>TA</td>\n",
              "      <td>Gd</td>\n",
              "      <td>978.0000</td>\n",
              "      <td>0.0000</td>\n",
              "      <td>0.0000</td>\n",
              "      <td>1.0000</td>\n",
              "      <td>Gd</td>\n",
              "      <td>284.0000</td>\n",
              "      <td>0</td>\n",
              "      <td>TA</td>\n",
              "      <td>TA</td>\n",
              "      <td>TA</td>\n",
              "      <td>1</td>\n",
              "      <td>2</td>\n",
              "      <td>460.0000</td>\n",
              "      <td>2.0000</td>\n",
              "      <td>TA</td>\n",
              "      <td>TA</td>\n",
              "      <td>1976.0000</td>\n",
              "      <td>1262</td>\n",
              "      <td>0</td>\n",
              "      <td>Ex</td>\n",
              "      <td>2</td>\n",
              "      <td>1</td>\n",
              "      <td>TA</td>\n",
              "      <td>9600</td>\n",
              "      <td>80.0000</td>\n",
              "      <td>0</td>\n",
              "      <td>20</td>\n",
              "      <td>RL</td>\n",
              "      <td>0.0000</td>\n",
              "      <td>0</td>\n",
              "      <td>5</td>\n",
              "      <td>0</td>\n",
              "      <td>8</td>\n",
              "      <td>6</td>\n",
              "      <td>...</td>\n",
              "      <td>0</td>\n",
              "      <td>0</td>\n",
              "      <td>0</td>\n",
              "      <td>1</td>\n",
              "      <td>0</td>\n",
              "      <td>0</td>\n",
              "      <td>0</td>\n",
              "      <td>0</td>\n",
              "      <td>0</td>\n",
              "      <td>0</td>\n",
              "      <td>1</td>\n",
              "      <td>0</td>\n",
              "      <td>1</td>\n",
              "      <td>0</td>\n",
              "      <td>0</td>\n",
              "      <td>0</td>\n",
              "      <td>0</td>\n",
              "      <td>0</td>\n",
              "      <td>0</td>\n",
              "      <td>0</td>\n",
              "      <td>1</td>\n",
              "      <td>0</td>\n",
              "      <td>0</td>\n",
              "      <td>0</td>\n",
              "      <td>1</td>\n",
              "      <td>0</td>\n",
              "      <td>0</td>\n",
              "      <td>0</td>\n",
              "      <td>0</td>\n",
              "      <td>0</td>\n",
              "      <td>0</td>\n",
              "      <td>0</td>\n",
              "      <td>0</td>\n",
              "      <td>1</td>\n",
              "      <td>0</td>\n",
              "      <td>0</td>\n",
              "      <td>0</td>\n",
              "      <td>0</td>\n",
              "      <td>1</td>\n",
              "      <td>0</td>\n",
              "    </tr>\n",
              "    <tr>\n",
              "      <th>2</th>\n",
              "      <td>920</td>\n",
              "      <td>866</td>\n",
              "      <td>0</td>\n",
              "      <td>3</td>\n",
              "      <td>TA</td>\n",
              "      <td>Mn</td>\n",
              "      <td>486.0000</td>\n",
              "      <td>0.0000</td>\n",
              "      <td>1.0000</td>\n",
              "      <td>0.0000</td>\n",
              "      <td>Gd</td>\n",
              "      <td>434.0000</td>\n",
              "      <td>0</td>\n",
              "      <td>TA</td>\n",
              "      <td>Gd</td>\n",
              "      <td>TA</td>\n",
              "      <td>1</td>\n",
              "      <td>2</td>\n",
              "      <td>608.0000</td>\n",
              "      <td>2.0000</td>\n",
              "      <td>TA</td>\n",
              "      <td>TA</td>\n",
              "      <td>2001.0000</td>\n",
              "      <td>1786</td>\n",
              "      <td>1</td>\n",
              "      <td>Ex</td>\n",
              "      <td>3</td>\n",
              "      <td>1</td>\n",
              "      <td>Gd</td>\n",
              "      <td>11250</td>\n",
              "      <td>68.0000</td>\n",
              "      <td>0</td>\n",
              "      <td>60</td>\n",
              "      <td>RL</td>\n",
              "      <td>162.0000</td>\n",
              "      <td>0</td>\n",
              "      <td>9</td>\n",
              "      <td>42</td>\n",
              "      <td>5</td>\n",
              "      <td>7</td>\n",
              "      <td>...</td>\n",
              "      <td>0</td>\n",
              "      <td>0</td>\n",
              "      <td>0</td>\n",
              "      <td>1</td>\n",
              "      <td>0</td>\n",
              "      <td>0</td>\n",
              "      <td>0</td>\n",
              "      <td>0</td>\n",
              "      <td>0</td>\n",
              "      <td>0</td>\n",
              "      <td>1</td>\n",
              "      <td>0</td>\n",
              "      <td>1</td>\n",
              "      <td>0</td>\n",
              "      <td>0</td>\n",
              "      <td>0</td>\n",
              "      <td>0</td>\n",
              "      <td>0</td>\n",
              "      <td>0</td>\n",
              "      <td>0</td>\n",
              "      <td>1</td>\n",
              "      <td>0</td>\n",
              "      <td>0</td>\n",
              "      <td>0</td>\n",
              "      <td>1</td>\n",
              "      <td>0</td>\n",
              "      <td>0</td>\n",
              "      <td>0</td>\n",
              "      <td>0</td>\n",
              "      <td>0</td>\n",
              "      <td>0</td>\n",
              "      <td>0</td>\n",
              "      <td>0</td>\n",
              "      <td>1</td>\n",
              "      <td>0</td>\n",
              "      <td>0</td>\n",
              "      <td>0</td>\n",
              "      <td>0</td>\n",
              "      <td>1</td>\n",
              "      <td>0</td>\n",
              "    </tr>\n",
              "    <tr>\n",
              "      <th>3</th>\n",
              "      <td>961</td>\n",
              "      <td>756</td>\n",
              "      <td>0</td>\n",
              "      <td>3</td>\n",
              "      <td>Gd</td>\n",
              "      <td>No</td>\n",
              "      <td>216.0000</td>\n",
              "      <td>0.0000</td>\n",
              "      <td>1.0000</td>\n",
              "      <td>0.0000</td>\n",
              "      <td>TA</td>\n",
              "      <td>540.0000</td>\n",
              "      <td>272</td>\n",
              "      <td>TA</td>\n",
              "      <td>TA</td>\n",
              "      <td>Gd</td>\n",
              "      <td>1</td>\n",
              "      <td>1</td>\n",
              "      <td>642.0000</td>\n",
              "      <td>3.0000</td>\n",
              "      <td>TA</td>\n",
              "      <td>TA</td>\n",
              "      <td>1998.0000</td>\n",
              "      <td>1717</td>\n",
              "      <td>0</td>\n",
              "      <td>Gd</td>\n",
              "      <td>4</td>\n",
              "      <td>1</td>\n",
              "      <td>Gd</td>\n",
              "      <td>9550</td>\n",
              "      <td>60.0000</td>\n",
              "      <td>0</td>\n",
              "      <td>70</td>\n",
              "      <td>RL</td>\n",
              "      <td>0.0000</td>\n",
              "      <td>0</td>\n",
              "      <td>2</td>\n",
              "      <td>35</td>\n",
              "      <td>5</td>\n",
              "      <td>7</td>\n",
              "      <td>...</td>\n",
              "      <td>0</td>\n",
              "      <td>0</td>\n",
              "      <td>0</td>\n",
              "      <td>1</td>\n",
              "      <td>0</td>\n",
              "      <td>0</td>\n",
              "      <td>0</td>\n",
              "      <td>0</td>\n",
              "      <td>0</td>\n",
              "      <td>0</td>\n",
              "      <td>1</td>\n",
              "      <td>0</td>\n",
              "      <td>0</td>\n",
              "      <td>0</td>\n",
              "      <td>0</td>\n",
              "      <td>0</td>\n",
              "      <td>1</td>\n",
              "      <td>0</td>\n",
              "      <td>0</td>\n",
              "      <td>0</td>\n",
              "      <td>0</td>\n",
              "      <td>1</td>\n",
              "      <td>0</td>\n",
              "      <td>0</td>\n",
              "      <td>1</td>\n",
              "      <td>0</td>\n",
              "      <td>0</td>\n",
              "      <td>0</td>\n",
              "      <td>0</td>\n",
              "      <td>0</td>\n",
              "      <td>0</td>\n",
              "      <td>0</td>\n",
              "      <td>0</td>\n",
              "      <td>1</td>\n",
              "      <td>1</td>\n",
              "      <td>0</td>\n",
              "      <td>0</td>\n",
              "      <td>0</td>\n",
              "      <td>0</td>\n",
              "      <td>0</td>\n",
              "    </tr>\n",
              "    <tr>\n",
              "      <th>4</th>\n",
              "      <td>1145</td>\n",
              "      <td>1053</td>\n",
              "      <td>0</td>\n",
              "      <td>4</td>\n",
              "      <td>TA</td>\n",
              "      <td>Av</td>\n",
              "      <td>655.0000</td>\n",
              "      <td>0.0000</td>\n",
              "      <td>1.0000</td>\n",
              "      <td>0.0000</td>\n",
              "      <td>Gd</td>\n",
              "      <td>490.0000</td>\n",
              "      <td>0</td>\n",
              "      <td>TA</td>\n",
              "      <td>Gd</td>\n",
              "      <td>TA</td>\n",
              "      <td>1</td>\n",
              "      <td>2</td>\n",
              "      <td>836.0000</td>\n",
              "      <td>3.0000</td>\n",
              "      <td>TA</td>\n",
              "      <td>TA</td>\n",
              "      <td>2000.0000</td>\n",
              "      <td>2198</td>\n",
              "      <td>1</td>\n",
              "      <td>Ex</td>\n",
              "      <td>5</td>\n",
              "      <td>1</td>\n",
              "      <td>Gd</td>\n",
              "      <td>14260</td>\n",
              "      <td>84.0000</td>\n",
              "      <td>0</td>\n",
              "      <td>60</td>\n",
              "      <td>RL</td>\n",
              "      <td>350.0000</td>\n",
              "      <td>0</td>\n",
              "      <td>12</td>\n",
              "      <td>84</td>\n",
              "      <td>5</td>\n",
              "      <td>8</td>\n",
              "      <td>...</td>\n",
              "      <td>0</td>\n",
              "      <td>0</td>\n",
              "      <td>0</td>\n",
              "      <td>1</td>\n",
              "      <td>0</td>\n",
              "      <td>0</td>\n",
              "      <td>0</td>\n",
              "      <td>0</td>\n",
              "      <td>0</td>\n",
              "      <td>0</td>\n",
              "      <td>1</td>\n",
              "      <td>0</td>\n",
              "      <td>1</td>\n",
              "      <td>0</td>\n",
              "      <td>0</td>\n",
              "      <td>0</td>\n",
              "      <td>0</td>\n",
              "      <td>0</td>\n",
              "      <td>0</td>\n",
              "      <td>0</td>\n",
              "      <td>1</td>\n",
              "      <td>0</td>\n",
              "      <td>0</td>\n",
              "      <td>0</td>\n",
              "      <td>1</td>\n",
              "      <td>0</td>\n",
              "      <td>0</td>\n",
              "      <td>0</td>\n",
              "      <td>0</td>\n",
              "      <td>0</td>\n",
              "      <td>0</td>\n",
              "      <td>0</td>\n",
              "      <td>0</td>\n",
              "      <td>1</td>\n",
              "      <td>0</td>\n",
              "      <td>0</td>\n",
              "      <td>0</td>\n",
              "      <td>0</td>\n",
              "      <td>1</td>\n",
              "      <td>0</td>\n",
              "    </tr>\n",
              "  </tbody>\n",
              "</table>\n",
              "<p>5 rows × 257 columns</p>\n",
              "</div>"
            ],
            "text/plain": [
              "   1stFlrSF  2ndFlrSF  ...  SaleCondition_Normal  SaleCondition_Partial\n",
              "0       856       854  ...                     1                      0\n",
              "1      1262         0  ...                     1                      0\n",
              "2       920       866  ...                     1                      0\n",
              "3       961       756  ...                     0                      0\n",
              "4      1145      1053  ...                     1                      0\n",
              "\n",
              "[5 rows x 257 columns]"
            ]
          },
          "metadata": {
            "tags": []
          },
          "execution_count": 15
        }
      ]
    },
    {
      "cell_type": "code",
      "metadata": {
        "id": "GOahPfmVO_on",
        "colab_type": "code",
        "outputId": "fbf03fa0-3524-401c-ff5f-2e13161756d7",
        "colab": {
          "base_uri": "https://localhost:8080/",
          "height": 1000
        }
      },
      "source": [
        "colunas_catg = data.select_dtypes(include='object').columns\n",
        "for coluna in colunas_catg:\n",
        "    print(\"-\" * 5, ' ', coluna, ' ', '-' * 5)\n",
        "    print(dic[coluna])\n",
        "    print(\"Unique: \", data[coluna].unique())\n",
        "    print(\"Na: \", data[coluna].isna().sum())\n",
        "    print('\\n')"
      ],
      "execution_count": 0,
      "outputs": [
        {
          "output_type": "stream",
          "text": [
            "-----   BsmtCond   -----\n",
            " General condition of the basement\n",
            "Unique:  ['TA' 'Gd' 'None' 'Fa' 'Po']\n",
            "Na:  0\n",
            "\n",
            "\n",
            "-----   BsmtExposure   -----\n",
            " Walkout or garden level basement walls\n",
            "Unique:  ['No' 'Gd' 'Mn' 'Av' 'None']\n",
            "Na:  0\n",
            "\n",
            "\n",
            "-----   BsmtQual   -----\n",
            " Height of the basement\n",
            "Unique:  ['Gd' 'TA' 'Ex' 'None' 'Fa']\n",
            "Na:  0\n",
            "\n",
            "\n",
            "-----   ExterCond   -----\n",
            " Present condition of the material on the exterior\n",
            "Unique:  ['TA' 'Gd' 'Fa' 'Po' 'Ex']\n",
            "Na:  0\n",
            "\n",
            "\n",
            "-----   ExterQual   -----\n",
            " Exterior material quality\n",
            "Unique:  ['Gd' 'TA' 'Ex' 'Fa']\n",
            "Na:  0\n",
            "\n",
            "\n",
            "-----   FireplaceQu   -----\n",
            " Fireplace quality\n",
            "Unique:  ['None' 'TA' 'Gd' 'Fa' 'Ex' 'Po']\n",
            "Na:  0\n",
            "\n",
            "\n",
            "-----   GarageCond   -----\n",
            " Garage condition\n",
            "Unique:  ['TA' 'Fa' 'None' 'Gd' 'Po' 'Ex']\n",
            "Na:  0\n",
            "\n",
            "\n",
            "-----   GarageQual   -----\n",
            " Garage quality\n",
            "Unique:  ['TA' 'Fa' 'Gd' 'None' 'Ex' 'Po']\n",
            "Na:  0\n",
            "\n",
            "\n",
            "-----   HeatingQC   -----\n",
            " Heating quality and condition\n",
            "Unique:  ['Ex' 'Gd' 'TA' 'Fa' 'Po']\n",
            "Na:  0\n",
            "\n",
            "\n",
            "-----   KitchenQual   -----\n",
            " Kitchen quality\n",
            "Unique:  ['Gd' 'TA' 'Ex' 'Fa']\n",
            "Na:  0\n",
            "\n",
            "\n",
            "-----   MSZoning   -----\n",
            " The general zoning classification\n",
            "Unique:  ['RL' 'RM' 'C (all)' 'FV' 'RH']\n",
            "Na:  0\n",
            "\n",
            "\n",
            "-----   PoolQC   -----\n",
            " Pool quality\n",
            "Unique:  ['None' 'Ex' 'Fa' 'Gd']\n",
            "Na:  0\n",
            "\n",
            "\n"
          ],
          "name": "stdout"
        }
      ]
    },
    {
      "cell_type": "code",
      "metadata": {
        "id": "CAzUPyhyPCia",
        "colab_type": "code",
        "outputId": "a4dc7bc7-f0b8-4710-a4d1-241b6ad379ee",
        "colab": {
          "base_uri": "https://localhost:8080/",
          "height": 35
        }
      },
      "source": [
        "for coluna in colunas_catg:\n",
        "    data[coluna] = pd.Categorical(data[coluna]).codes\n",
        "data.shape"
      ],
      "execution_count": 0,
      "outputs": [
        {
          "output_type": "execute_result",
          "data": {
            "text/plain": [
              "(2919, 257)"
            ]
          },
          "metadata": {
            "tags": []
          },
          "execution_count": 18
        }
      ]
    },
    {
      "cell_type": "code",
      "metadata": {
        "id": "-CzVJGDhPEbW",
        "colab_type": "code",
        "colab": {}
      },
      "source": [
        "data = data.astype('float64')"
      ],
      "execution_count": 0,
      "outputs": []
    },
    {
      "cell_type": "code",
      "metadata": {
        "id": "pJ-sm2TdPGW9",
        "colab_type": "code",
        "colab": {}
      },
      "source": [
        "# new features\n",
        "data['ToTalSF'] = data['1stFlrSF'] + data['2ndFlrSF'] + data['TotalBsmtSF']\n",
        "data['ToTalOuterSF'] = data['ToTalSF'] + data['GarageArea'] + data['LotArea']\n",
        "data['Year'] = data['YearRemodAdd'] - data['YearBuilt']\n",
        "data['ToTalSFQ'] = data['ToTalSF'] * data['OverallQual']"
      ],
      "execution_count": 0,
      "outputs": []
    },
    {
      "cell_type": "code",
      "metadata": {
        "id": "3ic1m3eAPJsp",
        "colab_type": "code",
        "outputId": "8b1c7292-b028-4492-ccac-bd99f838b2bd",
        "colab": {
          "base_uri": "https://localhost:8080/",
          "height": 52
        }
      },
      "source": [
        "data_na = data.isnull().sum()\n",
        "data_na = data_na[data_na > 0]\n",
        "data_na.sort_values(ascending=False)"
      ],
      "execution_count": 0,
      "outputs": [
        {
          "output_type": "execute_result",
          "data": {
            "text/plain": [
              "SalePrice    1459\n",
              "dtype: int64"
            ]
          },
          "metadata": {
            "tags": []
          },
          "execution_count": 21
        }
      ]
    },
    {
      "cell_type": "code",
      "metadata": {
        "id": "hj3769jFPK9Z",
        "colab_type": "code",
        "outputId": "a4117680-5d77-49cf-8027-b8a9163180ae",
        "colab": {
          "base_uri": "https://localhost:8080/",
          "height": 662
        }
      },
      "source": [
        "continuous = ['LotFrontage', 'LotArea', 'MasVnrArea', 'YearBuilt', 'YearRemodAdd', 'ToTalSF', 'ToTalOuterSF', 'Year',\n",
        "              'ToTalSFQ',\n",
        "              'BsmtFinSF1', 'BsmtFinSF2', 'TotalBsmtSF', '1stFlrSF', '2ndFlrSF', 'GarageYrBlt',\n",
        "              'LowQualFinSF', 'GrLivArea', 'GarageArea', 'MiscVal', 'YrSold']\n",
        "\n",
        "skew_features = data[continuous].apply(lambda x: skew(x.dropna()))\n",
        "skewness = pd.DataFrame({\"Skew\": skew_features})\n",
        "skewness"
      ],
      "execution_count": 0,
      "outputs": [
        {
          "output_type": "execute_result",
          "data": {
            "text/html": [
              "<div>\n",
              "<style scoped>\n",
              "    .dataframe tbody tr th:only-of-type {\n",
              "        vertical-align: middle;\n",
              "    }\n",
              "\n",
              "    .dataframe tbody tr th {\n",
              "        vertical-align: top;\n",
              "    }\n",
              "\n",
              "    .dataframe thead th {\n",
              "        text-align: right;\n",
              "    }\n",
              "</style>\n",
              "<table border=\"1\" class=\"dataframe\">\n",
              "  <thead>\n",
              "    <tr style=\"text-align: right;\">\n",
              "      <th></th>\n",
              "      <th>Skew</th>\n",
              "    </tr>\n",
              "  </thead>\n",
              "  <tbody>\n",
              "    <tr>\n",
              "      <th>LotFrontage</th>\n",
              "      <td>1.5057</td>\n",
              "    </tr>\n",
              "    <tr>\n",
              "      <th>LotArea</th>\n",
              "      <td>12.8224</td>\n",
              "    </tr>\n",
              "    <tr>\n",
              "      <th>MasVnrArea</th>\n",
              "      <td>2.6136</td>\n",
              "    </tr>\n",
              "    <tr>\n",
              "      <th>YearBuilt</th>\n",
              "      <td>-0.5998</td>\n",
              "    </tr>\n",
              "    <tr>\n",
              "      <th>YearRemodAdd</th>\n",
              "      <td>-0.4510</td>\n",
              "    </tr>\n",
              "    <tr>\n",
              "      <th>ToTalSF</th>\n",
              "      <td>1.5115</td>\n",
              "    </tr>\n",
              "    <tr>\n",
              "      <th>ToTalOuterSF</th>\n",
              "      <td>11.6401</td>\n",
              "    </tr>\n",
              "    <tr>\n",
              "      <th>Year</th>\n",
              "      <td>2.0637</td>\n",
              "    </tr>\n",
              "    <tr>\n",
              "      <th>ToTalSFQ</th>\n",
              "      <td>2.1423</td>\n",
              "    </tr>\n",
              "    <tr>\n",
              "      <th>BsmtFinSF1</th>\n",
              "      <td>1.4252</td>\n",
              "    </tr>\n",
              "    <tr>\n",
              "      <th>BsmtFinSF2</th>\n",
              "      <td>4.1461</td>\n",
              "    </tr>\n",
              "    <tr>\n",
              "      <th>TotalBsmtSF</th>\n",
              "      <td>1.1569</td>\n",
              "    </tr>\n",
              "    <tr>\n",
              "      <th>1stFlrSF</th>\n",
              "      <td>1.4696</td>\n",
              "    </tr>\n",
              "    <tr>\n",
              "      <th>2ndFlrSF</th>\n",
              "      <td>0.8617</td>\n",
              "    </tr>\n",
              "    <tr>\n",
              "      <th>GarageYrBlt</th>\n",
              "      <td>-3.9062</td>\n",
              "    </tr>\n",
              "    <tr>\n",
              "      <th>LowQualFinSF</th>\n",
              "      <td>12.0888</td>\n",
              "    </tr>\n",
              "    <tr>\n",
              "      <th>GrLivArea</th>\n",
              "      <td>1.2694</td>\n",
              "    </tr>\n",
              "    <tr>\n",
              "      <th>GarageArea</th>\n",
              "      <td>0.2393</td>\n",
              "    </tr>\n",
              "    <tr>\n",
              "      <th>MiscVal</th>\n",
              "      <td>21.9472</td>\n",
              "    </tr>\n",
              "    <tr>\n",
              "      <th>YrSold</th>\n",
              "      <td>0.1324</td>\n",
              "    </tr>\n",
              "  </tbody>\n",
              "</table>\n",
              "</div>"
            ],
            "text/plain": [
              "                Skew\n",
              "LotFrontage   1.5057\n",
              "LotArea      12.8224\n",
              "MasVnrArea    2.6136\n",
              "YearBuilt    -0.5998\n",
              "YearRemodAdd -0.4510\n",
              "ToTalSF       1.5115\n",
              "ToTalOuterSF 11.6401\n",
              "Year          2.0637\n",
              "ToTalSFQ      2.1423\n",
              "BsmtFinSF1    1.4252\n",
              "BsmtFinSF2    4.1461\n",
              "TotalBsmtSF   1.1569\n",
              "1stFlrSF      1.4696\n",
              "2ndFlrSF      0.8617\n",
              "GarageYrBlt  -3.9062\n",
              "LowQualFinSF 12.0888\n",
              "GrLivArea     1.2694\n",
              "GarageArea    0.2393\n",
              "MiscVal      21.9472\n",
              "YrSold        0.1324"
            ]
          },
          "metadata": {
            "tags": []
          },
          "execution_count": 22
        }
      ]
    },
    {
      "cell_type": "code",
      "metadata": {
        "id": "nSJXiJa5PMOW",
        "colab_type": "code",
        "outputId": "836ff558-be4d-41c3-e411-6072e840d278",
        "colab": {
          "base_uri": "https://localhost:8080/",
          "height": 312
        }
      },
      "source": [
        "print(\"important features to SalePrice\")\n",
        "corr = train.corr()\n",
        "corr.sort_values([\"SalePrice\"], ascending=False, inplace=True)\n",
        "print(corr.SalePrice[:15])\n",
        "MostImportant = corr.SalePrice[:40].index\n",
        "MostImportant = MostImportant.drop(['SalePrice'])"
      ],
      "execution_count": 0,
      "outputs": [
        {
          "output_type": "stream",
          "text": [
            "important features to SalePrice\n",
            "SalePrice      1.0000\n",
            "OverallQual    0.7910\n",
            "GrLivArea      0.7086\n",
            "GarageCars     0.6404\n",
            "GarageArea     0.6234\n",
            "TotalBsmtSF    0.6136\n",
            "1stFlrSF       0.6059\n",
            "FullBath       0.5607\n",
            "TotRmsAbvGrd   0.5337\n",
            "YearBuilt      0.5229\n",
            "YearRemodAdd   0.5071\n",
            "GarageYrBlt    0.4864\n",
            "MasVnrArea     0.4775\n",
            "Fireplaces     0.4669\n",
            "BsmtFinSF1     0.3864\n",
            "Name: SalePrice, dtype: float64\n"
          ],
          "name": "stdout"
        }
      ]
    },
    {
      "cell_type": "code",
      "metadata": {
        "id": "iJ09NkCYPNiE",
        "colab_type": "code",
        "colab": {}
      },
      "source": [
        "train = data.loc[data.SalePrice.notna()]\n",
        "test = data.loc[data.SalePrice.isna()]"
      ],
      "execution_count": 0,
      "outputs": []
    },
    {
      "cell_type": "markdown",
      "metadata": {
        "id": "na5fw3lOPZYS",
        "colab_type": "text"
      },
      "source": [
        "##Tratando Outliers"
      ]
    },
    {
      "cell_type": "code",
      "metadata": {
        "id": "nktCuDe-PXxG",
        "colab_type": "code",
        "outputId": "9f4f16a8-7f66-45d3-a850-ea040fc94708",
        "colab": {
          "base_uri": "https://localhost:8080/",
          "height": 629
        }
      },
      "source": [
        "cols = corr.SalePrice.index[1:7]\n",
        "\n",
        "plt.figure(figsize=(20, 10))\n",
        "index = 231\n",
        "for campo in cols:\n",
        "    plt.subplot(index)\n",
        "    sns.scatterplot(x=campo, y='SalePrice', data=train)\n",
        "    index = index + 1"
      ],
      "execution_count": 0,
      "outputs": [
        {
          "output_type": "display_data",
          "data": {
            "image/png": "[encoded data removed]",
            "text/plain": [
              "<Figure size 1440x720 with 6 Axes>"
            ]
          },
          "metadata": {
            "tags": []
          }
        }
      ]
    },
    {
      "cell_type": "code",
      "metadata": {
        "id": "x37X1oc1PcWV",
        "colab_type": "code",
        "outputId": "f8907099-be5e-4776-fcee-5a45be1c6eec",
        "colab": {
          "base_uri": "https://localhost:8080/",
          "height": 35
        }
      },
      "source": [
        "data_bkp = train.copy()\n",
        "train.shape\n",
        "\n",
        "data_bkp.shape"
      ],
      "execution_count": 0,
      "outputs": [
        {
          "output_type": "execute_result",
          "data": {
            "text/plain": [
              "(1460, 261)"
            ]
          },
          "metadata": {
            "tags": []
          },
          "execution_count": 27
        }
      ]
    },
    {
      "cell_type": "code",
      "metadata": {
        "id": "GjguyyERPd9u",
        "colab_type": "code",
        "outputId": "8f7f480f-956b-4450-d525-61fa2411506b",
        "colab": {
          "base_uri": "https://localhost:8080/",
          "height": 243
        }
      },
      "source": [
        "from scipy import stats\n",
        "import numpy as np\n",
        "\n",
        "for coluna in cols:\n",
        "    z = np.abs(stats.zscore(train[coluna]))\n",
        "    train = train[(z < 2.6)]  # Bom numero para remover outliers\n",
        "    z = np.abs(stats.zscore(train[coluna]))\n",
        "    train = train[(z > -2.6)]  # Bom numero para remover outliers\n",
        "    print(coluna)\n",
        "    print(len(z))\n",
        "\n",
        "train.shape"
      ],
      "execution_count": 0,
      "outputs": [
        {
          "output_type": "stream",
          "text": [
            "OverallQual\n",
            "1437\n",
            "GrLivArea\n",
            "1414\n",
            "GarageCars\n",
            "1409\n",
            "GarageArea\n",
            "1400\n",
            "TotalBsmtSF\n",
            "1352\n",
            "1stFlrSF\n",
            "1339\n"
          ],
          "name": "stdout"
        },
        {
          "output_type": "execute_result",
          "data": {
            "text/plain": [
              "(1339, 261)"
            ]
          },
          "metadata": {
            "tags": []
          },
          "execution_count": 30
        }
      ]
    },
    {
      "cell_type": "code",
      "metadata": {
        "id": "qLL0HEUwPfgs",
        "colab_type": "code",
        "outputId": "dd8b377d-fc4d-4934-d7a3-262f64883690",
        "colab": {
          "base_uri": "https://localhost:8080/",
          "height": 629
        }
      },
      "source": [
        "cols = corr.SalePrice.index[1:7]\n",
        "\n",
        "plt.figure(figsize=(20, 10))\n",
        "index = 231\n",
        "for campo in cols:\n",
        "    plt.subplot(index)\n",
        "    sns.scatterplot(x=campo, y='SalePrice', data=train)\n",
        "    index = index + 1"
      ],
      "execution_count": 0,
      "outputs": [
        {
          "output_type": "display_data",
          "data": {
            "image/png": "[encoded data removed]",
            "text/plain": [
              "<Figure size 1440x720 with 6 Axes>"
            ]
          },
          "metadata": {
            "tags": []
          }
        }
      ]
    },
    {
      "cell_type": "code",
      "metadata": {
        "id": "hefSwIoRPkBu",
        "colab_type": "code",
        "outputId": "ac5db3ef-bc44-4194-ecc7-b6f6106b052c",
        "colab": {
          "base_uri": "https://localhost:8080/",
          "height": 52
        }
      },
      "source": [
        "x = train.drop(['SalePrice', 'Id'], axis=1)\n",
        "y = np.log(train[\"SalePrice\"])\n",
        "\n",
        "Envio_x = test.drop(['SalePrice', 'Id'], axis=1)\n",
        "Envio_y = np.log(test[\"SalePrice\"])\n",
        "\n",
        "X_train, X_test, y_train, y_test = train_test_split(x, y, test_size=0.25, random_state=seed)\n",
        "print(X_train.shape)\n",
        "print(X_test.shape)"
      ],
      "execution_count": 0,
      "outputs": [
        {
          "output_type": "stream",
          "text": [
            "(1004, 259)\n",
            "(335, 259)\n"
          ],
          "name": "stdout"
        }
      ]
    },
    {
      "cell_type": "markdown",
      "metadata": {
        "id": "VrNCe7rKP4pq",
        "colab_type": "text"
      },
      "source": [
        "#Modelos"
      ]
    },
    {
      "cell_type": "code",
      "metadata": {
        "id": "kIYgJuiNPyrO",
        "colab_type": "code",
        "colab": {}
      },
      "source": [
        "xgbmodel = xgb.XGBRegressor(colsample_bytree=0.4603, gamma=0.0468,\n",
        "                            learning_rate=0.05, max_depth=3,\n",
        "                            min_child_weight=1.7817, n_estimators=2200,\n",
        "                            reg_alpha=0.4640, reg_lambda=0.8571,\n",
        "                            subsample=0.5213, silent=1,\n",
        "                            random_state=7, nthread=-1)"
      ],
      "execution_count": 0,
      "outputs": []
    },
    {
      "cell_type": "code",
      "metadata": {
        "id": "YdId4JMJP8Nf",
        "colab_type": "code",
        "colab": {}
      },
      "source": [
        "from sklearn.linear_model import LinearRegression, Lasso, Ridge, ElasticNet, BayesianRidge\n",
        "from sklearn.kernel_ridge import KernelRidge\n",
        "from sklearn.svm import SVR\n",
        "from sklearn.ensemble import GradientBoostingRegressor, RandomForestRegressor, AdaBoostRegressor\n",
        "from sklearn.neighbors import KNeighborsRegressor\n",
        "\n",
        "LRmodel = LinearRegression()\n",
        "Ridgemodel = Ridge(alpha=0.2, max_iter=1000)\n",
        "Lassomodel = Lasso(alpha=0.0005, max_iter=1000)\n",
        "KRidgemodel = KernelRidge(alpha=0.2, degree=1)\n",
        "SVRmodel = SVR()\n",
        "GBmodel = GradientBoostingRegressor(n_estimators=150, learning_rate=0.1, max_depth=2)\n",
        "KNNmodel = KNeighborsRegressor(n_neighbors=3)\n",
        "Adamodel = AdaBoostRegressor(n_estimators=100, learning_rate=0.1)\n",
        "ENETmodel = ElasticNet(alpha=0.0005, l1_ratio=.9, random_state=3)\n",
        "BRmodel = BayesianRidge()\n",
        "RFmodel = RandomForestRegressor()\n",
        "models = [LRmodel, Ridgemodel, Lassomodel, KRidgemodel, SVRmodel, GBmodel, KNNmodel, Adamodel, ENETmodel, BRmodel, RFmodel, xgbmodel]\n",
        "\n",
        "modelnames = ['LRmodel', 'Ridgemodel', 'Lassomodel', 'KRidgemodel', 'SVRmodel', 'GBmodel', 'KNNmodel', 'Adamodel',\n",
        "              'ENETmodel',\n",
        "              'BRmodel', 'RFmodel', 'xgbmodel']\n"
      ],
      "execution_count": 0,
      "outputs": []
    },
    {
      "cell_type": "code",
      "metadata": {
        "id": "KypdRCWEP8a-",
        "colab_type": "code",
        "colab": {}
      },
      "source": [
        "# model score root mean square error(rmse), 5 fold\n",
        "resultado = pd.DataFrame(columns=['Modelo', 'RMSE'])\n",
        "for i in range(len(models)):\n",
        "    score = np.sqrt(-cross_val_score(models[i], X_train, y_train, scoring='neg_mean_squared_error', cv=5))\n",
        "    resultado = resultado.append({'Modelo': modelnames[i], 'RMSE': score.mean()}, ignore_index=True)"
      ],
      "execution_count": 0,
      "outputs": []
    },
    {
      "cell_type": "code",
      "metadata": {
        "id": "OD1E0CtCSKY8",
        "colab_type": "code",
        "colab": {}
      },
      "source": [
        "resultado"
      ],
      "execution_count": 0,
      "outputs": []
    },
    {
      "cell_type": "markdown",
      "metadata": {
        "id": "TUhTjlLeQHgC",
        "colab_type": "text"
      },
      "source": [
        "###Verificando qual modelo performa melhor com a base"
      ]
    },
    {
      "cell_type": "code",
      "metadata": {
        "id": "LWyhjcz9QDBh",
        "colab_type": "code",
        "outputId": "21321f9c-02f2-40c2-8a52-50d648b63c4e",
        "colab": {
          "base_uri": "https://localhost:8080/",
          "height": 287
        }
      },
      "source": [
        "resultado.sort_values(by='RMSE', ascending=True)[:-2].plot.barh(x='Modelo', y='RMSE', rot=0)"
      ],
      "execution_count": 0,
      "outputs": [
        {
          "output_type": "execute_result",
          "data": {
            "text/plain": [
              "<matplotlib.axes._subplots.AxesSubplot at 0x7facd428b278>"
            ]
          },
          "metadata": {
            "tags": []
          },
          "execution_count": 43
        },
        {
          "output_type": "display_data",
          "data": {
            "image/png": "[encoded data removed]",
            "text/plain": [
              "<Figure size 432x288 with 1 Axes>"
            ]
          },
          "metadata": {
            "tags": []
          }
        }
      ]
    },
    {
      "cell_type": "markdown",
      "metadata": {
        "id": "ZYuDg2fKQLvF",
        "colab_type": "text"
      },
      "source": [
        "##Lasso Tunning"
      ]
    },
    {
      "cell_type": "code",
      "metadata": {
        "id": "3aA39Y8SQJW6",
        "colab_type": "code",
        "outputId": "718f2f4e-ce5a-4541-f0c5-1bbedf469cd5",
        "colab": {
          "base_uri": "https://localhost:8080/",
          "height": 173
        }
      },
      "source": [
        "Lasso_Parm = ({'alpha': np.arange(0.00001, 0.001, 0.000015)})\n",
        "# Lasso_Parm=({'alpha': [0.00026500000000000004]})\n",
        "Lassomodel = Lasso(max_iter=2000)\n",
        "LassoGSV = GridSearchCV(Lassomodel, Lasso_Parm, scoring='neg_mean_squared_error', cv=10, verbose=1, n_jobs=4)\n",
        "LassoGSV.fit(X_train, y_train)\n",
        "print(LassoGSV.best_params_)\n",
        "print('-' * 25)\n",
        "print(np.sqrt(-LassoGSV.best_score_))\n",
        "# {'alpha': 0.00026500000000000004}\n",
        "# 0.11286636795940139"
      ],
      "execution_count": 0,
      "outputs": [
        {
          "output_type": "stream",
          "text": [
            "Fitting 10 folds for each of 66 candidates, totalling 660 fits\n"
          ],
          "name": "stdout"
        },
        {
          "output_type": "stream",
          "text": [
            "[Parallel(n_jobs=4)]: Using backend LokyBackend with 4 concurrent workers.\n",
            "[Parallel(n_jobs=4)]: Done  42 tasks      | elapsed:   33.2s\n",
            "[Parallel(n_jobs=4)]: Done 192 tasks      | elapsed:  2.4min\n",
            "[Parallel(n_jobs=4)]: Done 442 tasks      | elapsed:  5.2min\n",
            "[Parallel(n_jobs=4)]: Done 660 out of 660 | elapsed:  7.5min finished\n"
          ],
          "name": "stderr"
        },
        {
          "output_type": "stream",
          "text": [
            "{'alpha': 0.00028000000000000003}\n",
            "-------------------------\n",
            "0.11076470854962701\n"
          ],
          "name": "stdout"
        }
      ]
    },
    {
      "cell_type": "markdown",
      "metadata": {
        "id": "r0yW9Mg0ROt5",
        "colab_type": "text"
      },
      "source": [
        "##ElasticNet Tunning"
      ]
    },
    {
      "cell_type": "code",
      "metadata": {
        "id": "VEE0Oi9DROcr",
        "colab_type": "code",
        "outputId": "3114fb5f-4ec1-4a81-8ee5-20bc47224e73",
        "colab": {
          "base_uri": "https://localhost:8080/",
          "height": 121
        }
      },
      "source": [
        "# Elastic_Parm=({\"alpha\": np.arange(0.001,0.01,0.001),\"l1_ratio\": np.arange(0.0, 1.0, 0.1)})\n",
        "Elastic_Parm = ({'alpha': [0.000985], 'l1_ratio': [0.30000000000000004]})\n",
        "ElasticModel = ElasticNet(max_iter=9000)\n",
        "ElasticGSV = GridSearchCV(ElasticModel, Elastic_Parm, scoring='neg_mean_squared_error', cv=10, verbose=1, n_jobs=4)\n",
        "ElasticGSV.fit(X_train, y_train)\n",
        "print(ElasticGSV.best_params_)\n",
        "print('-' * 25)\n",
        "print(np.sqrt(-ElasticGSV.best_score_))\n",
        "# {'alpha': 0.000985, 'l1_ratio': 0.30000000000000004}\n",
        "# 0.11087715354184403"
      ],
      "execution_count": 0,
      "outputs": [
        {
          "output_type": "stream",
          "text": [
            "Fitting 10 folds for each of 1 candidates, totalling 10 fits\n"
          ],
          "name": "stdout"
        },
        {
          "output_type": "stream",
          "text": [
            "[Parallel(n_jobs=4)]: Using backend LokyBackend with 4 concurrent workers.\n",
            "[Parallel(n_jobs=4)]: Done  10 out of  10 | elapsed:   33.7s finished\n"
          ],
          "name": "stderr"
        },
        {
          "output_type": "stream",
          "text": [
            "{'alpha': 0.000985, 'l1_ratio': 0.30000000000000004}\n",
            "-------------------------\n",
            "0.11061185468320053\n"
          ],
          "name": "stdout"
        }
      ]
    },
    {
      "cell_type": "markdown",
      "metadata": {
        "id": "pKoKOLnYRVZs",
        "colab_type": "text"
      },
      "source": [
        "##BayesianRidge Tunning"
      ]
    },
    {
      "cell_type": "code",
      "metadata": {
        "id": "bUIb7djZRU90",
        "colab_type": "code",
        "outputId": "339d9415-2532-4b40-a138-36c5de407418",
        "colab": {
          "base_uri": "https://localhost:8080/",
          "height": 121
        }
      },
      "source": [
        "# BR_Parm=({'n_iter':[1000],'alpha_1':np.arange(0.0000001,0.0001,0.00001),'alpha_2':np.arange(0.0000001,0.0001,0.00001)})\n",
        "BR_Parm = ({'alpha_1': [3.0100000000000003e-05], 'alpha_2': [1e-07], 'n_iter': [1000]})\n",
        "BRModel = BayesianRidge()\n",
        "BRGSV = GridSearchCV(BRModel, BR_Parm, scoring='neg_mean_squared_error', cv=5, verbose=1, n_jobs=4)\n",
        "BRGSV.fit(X_train, y_train)\n",
        "print(BRGSV.best_params_)\n",
        "print('-' * 25)\n",
        "print(np.sqrt(-BRGSV.best_score_))\n",
        "# {'alpha_1': 3.0100000000000003e-05, 'alpha_2': 1e-07, 'n_iter': 1000}"
      ],
      "execution_count": 0,
      "outputs": [
        {
          "output_type": "stream",
          "text": [
            "Fitting 5 folds for each of 1 candidates, totalling 5 fits\n"
          ],
          "name": "stdout"
        },
        {
          "output_type": "stream",
          "text": [
            "[Parallel(n_jobs=4)]: Using backend LokyBackend with 4 concurrent workers.\n",
            "[Parallel(n_jobs=4)]: Done   5 out of   5 | elapsed:    7.0s finished\n"
          ],
          "name": "stderr"
        },
        {
          "output_type": "stream",
          "text": [
            "{'alpha_1': 3.0100000000000003e-05, 'alpha_2': 1e-07, 'n_iter': 1000}\n",
            "-------------------------\n",
            "0.11253314640265116\n"
          ],
          "name": "stdout"
        }
      ]
    },
    {
      "cell_type": "markdown",
      "metadata": {
        "id": "vBSlKlGiRaqC",
        "colab_type": "text"
      },
      "source": [
        "##XBG Tunning"
      ]
    },
    {
      "cell_type": "code",
      "metadata": {
        "id": "kUy8bsFZRW_x",
        "colab_type": "code",
        "outputId": "84f459cf-7bcf-4156-d255-182677dbbf64",
        "colab": {
          "base_uri": "https://localhost:8080/",
          "height": 141
        }
      },
      "source": [
        "XBG_Parm = ({'colsample_bytree': [0.4603], 'gamma': [0.0468],\n",
        "             'learning_rate': [0.05], 'max_depth': [3],\n",
        "             'min_child_weight': [1.7817], 'n_estimators': [2200],\n",
        "             'reg_alpha': [0.4640], 'reg_lambda': [0.8571],\n",
        "             'subsample': [0.5213], 'silent': [1],\n",
        "             'random_state': [7], 'nthread': [-1]})\n",
        "XBGmodel = xgb.XGBRegressor()\n",
        "XBGGSV = GridSearchCV(XBGmodel, XBG_Parm, scoring='neg_mean_squared_error', cv=5, verbose=1, n_jobs=4)\n",
        "XBGGSV.fit(X_train, y_train)\n",
        "print(XBGGSV.best_params_)\n",
        "print('-' * 25)\n",
        "print(np.sqrt(-XBGGSV.best_score_))"
      ],
      "execution_count": 0,
      "outputs": [
        {
          "output_type": "stream",
          "text": [
            "Fitting 5 folds for each of 1 candidates, totalling 5 fits\n"
          ],
          "name": "stdout"
        },
        {
          "output_type": "stream",
          "text": [
            "[Parallel(n_jobs=4)]: Using backend LokyBackend with 4 concurrent workers.\n",
            "[Parallel(n_jobs=4)]: Done   5 out of   5 | elapsed:   52.8s finished\n"
          ],
          "name": "stderr"
        },
        {
          "output_type": "stream",
          "text": [
            "{'colsample_bytree': 0.4603, 'gamma': 0.0468, 'learning_rate': 0.05, 'max_depth': 3, 'min_child_weight': 1.7817, 'n_estimators': 2200, 'nthread': -1, 'random_state': 7, 'reg_alpha': 0.464, 'reg_lambda': 0.8571, 'silent': 1, 'subsample': 0.5213}\n",
            "-------------------------\n",
            "0.1127565379281356\n"
          ],
          "name": "stdout"
        }
      ]
    },
    {
      "cell_type": "markdown",
      "metadata": {
        "id": "xYQt7_S2RfWS",
        "colab_type": "text"
      },
      "source": [
        "##Ridge Tunning"
      ]
    },
    {
      "cell_type": "code",
      "metadata": {
        "id": "6q5uX7TQRchj",
        "colab_type": "code",
        "outputId": "64a110c2-8599-4b18-b2ac-abece22a3da8",
        "colab": {
          "base_uri": "https://localhost:8080/",
          "height": 173
        }
      },
      "source": [
        "Ridge_Parm = ({'alpha': np.arange(1, 10, 0.1)})\n",
        "RidgeModel = Ridge(max_iter=9000)\n",
        "RidgeGSV = GridSearchCV(RidgeModel, Ridge_Parm, scoring='neg_mean_squared_error', cv=10, verbose=1, n_jobs=4)\n",
        "RidgeGSV.fit(X_train, y_train)\n",
        "print(RidgeGSV.best_params_)\n",
        "print('-' * 25)\n",
        "print(np.sqrt(-RidgeGSV.best_score_))\n",
        "# {'alpha': 0.1}\n",
        "# 0.1100989359491473"
      ],
      "execution_count": 0,
      "outputs": [
        {
          "output_type": "stream",
          "text": [
            "Fitting 10 folds for each of 90 candidates, totalling 900 fits\n"
          ],
          "name": "stdout"
        },
        {
          "output_type": "stream",
          "text": [
            "[Parallel(n_jobs=4)]: Using backend LokyBackend with 4 concurrent workers.\n",
            "[Parallel(n_jobs=4)]: Done  42 tasks      | elapsed:    1.4s\n",
            "[Parallel(n_jobs=4)]: Done 216 tasks      | elapsed:    5.9s\n",
            "[Parallel(n_jobs=4)]: Done 716 tasks      | elapsed:   17.2s\n"
          ],
          "name": "stderr"
        },
        {
          "output_type": "stream",
          "text": [
            "{'alpha': 4.3000000000000025}\n",
            "-------------------------\n",
            "0.10901947397513767\n"
          ],
          "name": "stdout"
        },
        {
          "output_type": "stream",
          "text": [
            "[Parallel(n_jobs=4)]: Done 900 out of 900 | elapsed:   21.3s finished\n"
          ],
          "name": "stderr"
        }
      ]
    },
    {
      "cell_type": "markdown",
      "metadata": {
        "id": "Pq1u09wkRt4j",
        "colab_type": "text"
      },
      "source": [
        "##KernelRidge Tunning"
      ]
    },
    {
      "cell_type": "code",
      "metadata": {
        "id": "tXoJQmmVRtYw",
        "colab_type": "code",
        "outputId": "df4b2490-1405-48dc-d490-be87f857cb60",
        "colab": {
          "base_uri": "https://localhost:8080/",
          "height": 121
        }
      },
      "source": [
        "# K_Ridge_Parm=({\"alpha\": np.arange(0.1,3,0.05), 'degree':[1,2,3,4]})\n",
        "K_Ridge_Parm = ({'alpha': [2.950000000000001], 'degree': [1]})\n",
        "K_RidgeModel = KernelRidge()\n",
        "K_RidgeGSV = GridSearchCV(K_RidgeModel, K_Ridge_Parm, scoring='neg_mean_squared_error', cv=5, verbose=1, n_jobs=4)\n",
        "K_RidgeGSV.fit(X_train, y_train)\n",
        "print(K_RidgeGSV.best_params_)\n",
        "print('-' * 25)\n",
        "print(np.sqrt(-K_RidgeGSV.best_score_))\n",
        "# {'alpha': 2.950000000000001, 'degree': 1}"
      ],
      "execution_count": 0,
      "outputs": [
        {
          "output_type": "stream",
          "text": [
            "[Parallel(n_jobs=4)]: Using backend LokyBackend with 4 concurrent workers.\n"
          ],
          "name": "stderr"
        },
        {
          "output_type": "stream",
          "text": [
            "Fitting 5 folds for each of 1 candidates, totalling 5 fits\n",
            "{'alpha': 2.950000000000001, 'degree': 1}\n",
            "-------------------------\n",
            "0.11113814687697715\n"
          ],
          "name": "stdout"
        },
        {
          "output_type": "stream",
          "text": [
            "[Parallel(n_jobs=4)]: Done   5 out of   5 | elapsed:    0.5s finished\n"
          ],
          "name": "stderr"
        }
      ]
    },
    {
      "cell_type": "code",
      "metadata": {
        "id": "Dyzl_KxnRvBJ",
        "colab_type": "code",
        "outputId": "4f3c71d0-d533-44fc-ae18-af804c50f280",
        "colab": {
          "base_uri": "https://localhost:8080/",
          "height": 243
        }
      },
      "source": [
        "print(resultado.sort_values(by='RMSE', ascending=True)[:6])\n",
        "print(np.sqrt(-BRGSV.best_score_))\n",
        "print(np.sqrt(-ElasticGSV.best_score_))\n",
        "print(np.sqrt(-LassoGSV.best_score_))\n",
        "print(np.sqrt(-XBGGSV.best_score_))\n",
        "print(np.sqrt(-RidgeGSV.best_score_))\n",
        "print(np.sqrt(-K_RidgeGSV.best_score_))"
      ],
      "execution_count": 0,
      "outputs": [
        {
          "output_type": "stream",
          "text": [
            "         Modelo   RMSE\n",
            "8     ENETmodel 0.1115\n",
            "2    Lassomodel 0.1119\n",
            "9       BRmodel 0.1122\n",
            "11     xgbmodel 0.1123\n",
            "1    Ridgemodel 0.1155\n",
            "3   KRidgemodel 0.1157\n",
            "0.11253314640265116\n",
            "0.11061185468320053\n",
            "0.11076470854962701\n",
            "0.1127565379281356\n",
            "0.10901947397513767\n",
            "0.11113814687697715\n"
          ],
          "name": "stdout"
        }
      ]
    },
    {
      "cell_type": "code",
      "metadata": {
        "id": "NHdkzbXdR6Ko",
        "colab_type": "code",
        "colab": {}
      },
      "source": [
        "xgb2 = xgb.XGBRegressor(colsample_bytree=0.4603, gamma=0.0468,\n",
        "                        learning_rate=0.05, max_depth=3,\n",
        "                        min_child_weight=1.7817, n_estimators=2200,\n",
        "                        reg_alpha=0.4640, reg_lambda=0.8571,\n",
        "                        subsample=0.5213, silent=1,\n",
        "                        random_state=7, nthread=-1)"
      ],
      "execution_count": 0,
      "outputs": []
    },
    {
      "cell_type": "code",
      "metadata": {
        "id": "sBUsG5tyRwyF",
        "colab_type": "code",
        "outputId": "732a7289-9f1d-41bc-e81b-ee096897e3c9",
        "colab": {
          "base_uri": "https://localhost:8080/",
          "height": 202
        }
      },
      "source": [
        "Lassopredtr = LassoGSV.predict(X_train)\n",
        "ENETpredtr = ElasticGSV.predict(X_train)\n",
        "BRpredtr = BRGSV.predict(X_train)\n",
        "xgbpredtr = XBGGSV.predict(X_train)\n",
        "Ridgepredtr = RidgeGSV.predict(X_train)\n",
        "KRidgepredtr = K_RidgeGSV.predict(X_train)\n",
        "\n",
        "featuresTreino = pd.DataFrame(\n",
        "    {\"ENET\": ENETpredtr, \"KR\": KRidgepredtr, \"Lasso\": Lassopredtr, 'Ridge': Ridgepredtr, \"BR\": BRpredtr,\n",
        "     'XGB': xgbpredtr})\n",
        "featuresTreino.head()"
      ],
      "execution_count": 0,
      "outputs": [
        {
          "output_type": "execute_result",
          "data": {
            "text/html": [
              "<div>\n",
              "<style scoped>\n",
              "    .dataframe tbody tr th:only-of-type {\n",
              "        vertical-align: middle;\n",
              "    }\n",
              "\n",
              "    .dataframe tbody tr th {\n",
              "        vertical-align: top;\n",
              "    }\n",
              "\n",
              "    .dataframe thead th {\n",
              "        text-align: right;\n",
              "    }\n",
              "</style>\n",
              "<table border=\"1\" class=\"dataframe\">\n",
              "  <thead>\n",
              "    <tr style=\"text-align: right;\">\n",
              "      <th></th>\n",
              "      <th>ENET</th>\n",
              "      <th>KR</th>\n",
              "      <th>Lasso</th>\n",
              "      <th>Ridge</th>\n",
              "      <th>BR</th>\n",
              "      <th>XGB</th>\n",
              "    </tr>\n",
              "  </thead>\n",
              "  <tbody>\n",
              "    <tr>\n",
              "      <th>0</th>\n",
              "      <td>12.2722</td>\n",
              "      <td>12.2596</td>\n",
              "      <td>12.2706</td>\n",
              "      <td>12.2713</td>\n",
              "      <td>12.2758</td>\n",
              "      <td>12.1745</td>\n",
              "    </tr>\n",
              "    <tr>\n",
              "      <th>1</th>\n",
              "      <td>12.0161</td>\n",
              "      <td>12.0062</td>\n",
              "      <td>12.0150</td>\n",
              "      <td>12.0099</td>\n",
              "      <td>12.0127</td>\n",
              "      <td>12.0444</td>\n",
              "    </tr>\n",
              "    <tr>\n",
              "      <th>2</th>\n",
              "      <td>12.7464</td>\n",
              "      <td>12.7322</td>\n",
              "      <td>12.7459</td>\n",
              "      <td>12.7459</td>\n",
              "      <td>12.7498</td>\n",
              "      <td>12.5737</td>\n",
              "    </tr>\n",
              "    <tr>\n",
              "      <th>3</th>\n",
              "      <td>11.3415</td>\n",
              "      <td>11.3345</td>\n",
              "      <td>11.3447</td>\n",
              "      <td>11.3398</td>\n",
              "      <td>11.3449</td>\n",
              "      <td>11.3551</td>\n",
              "    </tr>\n",
              "    <tr>\n",
              "      <th>4</th>\n",
              "      <td>12.2533</td>\n",
              "      <td>12.2583</td>\n",
              "      <td>12.2519</td>\n",
              "      <td>12.2550</td>\n",
              "      <td>12.2552</td>\n",
              "      <td>12.2469</td>\n",
              "    </tr>\n",
              "  </tbody>\n",
              "</table>\n",
              "</div>"
            ],
            "text/plain": [
              "     ENET      KR   Lasso   Ridge      BR     XGB\n",
              "0 12.2722 12.2596 12.2706 12.2713 12.2758 12.1745\n",
              "1 12.0161 12.0062 12.0150 12.0099 12.0127 12.0444\n",
              "2 12.7464 12.7322 12.7459 12.7459 12.7498 12.5737\n",
              "3 11.3415 11.3345 11.3447 11.3398 11.3449 11.3551\n",
              "4 12.2533 12.2583 12.2519 12.2550 12.2552 12.2469"
            ]
          },
          "metadata": {
            "tags": []
          },
          "execution_count": 48
        }
      ]
    },
    {
      "cell_type": "code",
      "metadata": {
        "id": "fjErP-kfR1vb",
        "colab_type": "code",
        "outputId": "0dda0b0e-38cf-4349-ddaa-d9eb285ee5bf",
        "colab": {
          "base_uri": "https://localhost:8080/",
          "height": 35
        }
      },
      "source": [
        "# stacking 2nd layer Gradient boosting\n",
        "score = np.sqrt(-cross_val_score(xgb2, featuresTreino, y_train, scoring='neg_mean_squared_error', cv=5))\n",
        "print(\"Treino\", \"rmse: \", score.mean())"
      ],
      "execution_count": 0,
      "outputs": [
        {
          "output_type": "stream",
          "text": [
            "Treino rmse:  0.08338256596080414\n"
          ],
          "name": "stdout"
        }
      ]
    },
    {
      "cell_type": "code",
      "metadata": {
        "id": "8t8kZ6DKR3Q2",
        "colab_type": "code",
        "outputId": "619bd313-ca7f-4cd0-cb25-0457d93779c3",
        "colab": {
          "base_uri": "https://localhost:8080/",
          "height": 202
        }
      },
      "source": [
        "Lassopredtr = LassoGSV.predict(X_test)\n",
        "ENETpredtr = ElasticGSV.predict(X_test)\n",
        "BRpredtr = BRGSV.predict(X_test)\n",
        "xgbpredtr = XBGGSV.predict(X_test)\n",
        "Ridgepredtr = RidgeGSV.predict(X_test)\n",
        "KRidgepredtr = K_RidgeGSV.predict(X_test)\n",
        "\n",
        "featuresTeste = pd.DataFrame(\n",
        "    {\"ENET\": ENETpredtr, \"KR\": KRidgepredtr, \"Lasso\": Lassopredtr, 'Ridge': Ridgepredtr, \"BR\": BRpredtr,\n",
        "     'XGB': xgbpredtr})\n",
        "featuresTeste.head()"
      ],
      "execution_count": 0,
      "outputs": [
        {
          "output_type": "execute_result",
          "data": {
            "text/html": [
              "<div>\n",
              "<style scoped>\n",
              "    .dataframe tbody tr th:only-of-type {\n",
              "        vertical-align: middle;\n",
              "    }\n",
              "\n",
              "    .dataframe tbody tr th {\n",
              "        vertical-align: top;\n",
              "    }\n",
              "\n",
              "    .dataframe thead th {\n",
              "        text-align: right;\n",
              "    }\n",
              "</style>\n",
              "<table border=\"1\" class=\"dataframe\">\n",
              "  <thead>\n",
              "    <tr style=\"text-align: right;\">\n",
              "      <th></th>\n",
              "      <th>ENET</th>\n",
              "      <th>KR</th>\n",
              "      <th>Lasso</th>\n",
              "      <th>Ridge</th>\n",
              "      <th>BR</th>\n",
              "      <th>XGB</th>\n",
              "    </tr>\n",
              "  </thead>\n",
              "  <tbody>\n",
              "    <tr>\n",
              "      <th>0</th>\n",
              "      <td>11.6413</td>\n",
              "      <td>11.6494</td>\n",
              "      <td>11.6427</td>\n",
              "      <td>11.6446</td>\n",
              "      <td>11.6364</td>\n",
              "      <td>11.6812</td>\n",
              "    </tr>\n",
              "    <tr>\n",
              "      <th>1</th>\n",
              "      <td>11.9169</td>\n",
              "      <td>11.9168</td>\n",
              "      <td>11.9182</td>\n",
              "      <td>11.9133</td>\n",
              "      <td>11.9164</td>\n",
              "      <td>11.9846</td>\n",
              "    </tr>\n",
              "    <tr>\n",
              "      <th>2</th>\n",
              "      <td>12.1874</td>\n",
              "      <td>12.1744</td>\n",
              "      <td>12.1873</td>\n",
              "      <td>12.1766</td>\n",
              "      <td>12.1808</td>\n",
              "      <td>12.1480</td>\n",
              "    </tr>\n",
              "    <tr>\n",
              "      <th>3</th>\n",
              "      <td>12.2582</td>\n",
              "      <td>12.2527</td>\n",
              "      <td>12.2595</td>\n",
              "      <td>12.2480</td>\n",
              "      <td>12.2351</td>\n",
              "      <td>12.2497</td>\n",
              "    </tr>\n",
              "    <tr>\n",
              "      <th>4</th>\n",
              "      <td>12.3171</td>\n",
              "      <td>12.3181</td>\n",
              "      <td>12.3226</td>\n",
              "      <td>12.3174</td>\n",
              "      <td>12.2913</td>\n",
              "      <td>12.3382</td>\n",
              "    </tr>\n",
              "  </tbody>\n",
              "</table>\n",
              "</div>"
            ],
            "text/plain": [
              "     ENET      KR   Lasso   Ridge      BR     XGB\n",
              "0 11.6413 11.6494 11.6427 11.6446 11.6364 11.6812\n",
              "1 11.9169 11.9168 11.9182 11.9133 11.9164 11.9846\n",
              "2 12.1874 12.1744 12.1873 12.1766 12.1808 12.1480\n",
              "3 12.2582 12.2527 12.2595 12.2480 12.2351 12.2497\n",
              "4 12.3171 12.3181 12.3226 12.3174 12.2913 12.3382"
            ]
          },
          "metadata": {
            "tags": []
          },
          "execution_count": 52
        }
      ]
    },
    {
      "cell_type": "code",
      "metadata": {
        "id": "5-ZhqW_tR95k",
        "colab_type": "code",
        "outputId": "d65b8952-09b7-44d7-b20a-ebfb3e09dde7",
        "colab": {
          "base_uri": "https://localhost:8080/",
          "height": 35
        }
      },
      "source": [
        "score = np.sqrt(-cross_val_score(xgb2, featuresTeste, y_test, scoring='neg_mean_squared_error', cv=5))\n",
        "print(\"Teste\", \"rmse: \", score.mean())"
      ],
      "execution_count": 0,
      "outputs": [
        {
          "output_type": "stream",
          "text": [
            "Teste rmse:  0.13073475890507796\n"
          ],
          "name": "stdout"
        }
      ]
    },
    {
      "cell_type": "markdown",
      "metadata": {
        "id": "7t6k0RIASBGt",
        "colab_type": "text"
      },
      "source": [
        "#Envio"
      ]
    },
    {
      "cell_type": "markdown",
      "metadata": {
        "id": "Cr0CixqBSCzj",
        "colab_type": "text"
      },
      "source": [
        "##Envio 2 Camadas"
      ]
    },
    {
      "cell_type": "code",
      "metadata": {
        "id": "q0Gwsna2R_Kg",
        "colab_type": "code",
        "colab": {}
      },
      "source": [
        "Lassopredtr = LassoGSV.predict(Envio_x)\n",
        "ENETpredtr = ElasticGSV.predict(Envio_x)\n",
        "BRpredtr = BRGSV.predict(Envio_x)\n",
        "xgbpredtr = XBGGSV.predict(Envio_x)\n",
        "Ridgepredtr = RidgeGSV.predict(Envio_x)\n",
        "KRidgepredtr = K_RidgeGSV.predict(Envio_x)\n",
        "\n",
        "featuresEnvio = pd.DataFrame(\n",
        "    {\"ENET\": ENETpredtr, \"KR\": KRidgepredtr, \"Lasso\": Lassopredtr, 'Ridge': Ridgepredtr, \"BR\": BRpredtr,\n",
        "     'XGB': xgbpredtr})\n",
        "featuresEnvio.head()\n",
        "\n",
        "xgb2.fit(featuresTreino, y_train)"
      ],
      "execution_count": 0,
      "outputs": []
    },
    {
      "cell_type": "code",
      "metadata": {
        "id": "QJxGFrstSFOx",
        "colab_type": "code",
        "outputId": "b5457c9a-2d58-402b-f19a-897f1f40fdfa",
        "colab": {
          "base_uri": "https://localhost:8080/",
          "height": 201
        }
      },
      "source": [
        "predictions = xgb2.predict(featuresEnvio)\n",
        "predictions = np.exp(predictions)\n",
        "print(predictions.shape)"
      ],
      "execution_count": 0,
      "outputs": [
        {
          "output_type": "error",
          "ename": "NameError",
          "evalue": "ignored",
          "traceback": [
            "\u001b[0;31m---------------------------------------------------------------------------\u001b[0m",
            "\u001b[0;31mNameError\u001b[0m                                 Traceback (most recent call last)",
            "\u001b[0;32m<ipython-input-54-f992277e5e63>\u001b[0m in \u001b[0;36m<module>\u001b[0;34m()\u001b[0m\n\u001b[0;32m----> 1\u001b[0;31m \u001b[0mpredictions\u001b[0m \u001b[0;34m=\u001b[0m \u001b[0mxgb2\u001b[0m\u001b[0;34m.\u001b[0m\u001b[0mpredict\u001b[0m\u001b[0;34m(\u001b[0m\u001b[0mfeaturesEnvio\u001b[0m\u001b[0;34m)\u001b[0m\u001b[0;34m\u001b[0m\u001b[0;34m\u001b[0m\u001b[0m\n\u001b[0m\u001b[1;32m      2\u001b[0m \u001b[0mpredictions\u001b[0m \u001b[0;34m=\u001b[0m \u001b[0mnp\u001b[0m\u001b[0;34m.\u001b[0m\u001b[0mexp\u001b[0m\u001b[0;34m(\u001b[0m\u001b[0mpredictions\u001b[0m\u001b[0;34m)\u001b[0m\u001b[0;34m\u001b[0m\u001b[0;34m\u001b[0m\u001b[0m\n\u001b[1;32m      3\u001b[0m \u001b[0mprint\u001b[0m\u001b[0;34m(\u001b[0m\u001b[0mpredictions\u001b[0m\u001b[0;34m.\u001b[0m\u001b[0mshape\u001b[0m\u001b[0;34m)\u001b[0m\u001b[0;34m\u001b[0m\u001b[0;34m\u001b[0m\u001b[0m\n",
            "\u001b[0;31mNameError\u001b[0m: name 'featuresEnvio' is not defined"
          ]
        }
      ]
    },
    {
      "cell_type": "code",
      "metadata": {
        "id": "uFNdUNsESX-o",
        "colab_type": "code",
        "colab": {}
      },
      "source": [
        "results = pd.DataFrame({\"Id\": test[\"Id\"].astype('Int32'), \"SalePrice\": predictions})\n",
        "\n",
        "results.to_csv(\"House_v3.csv\", index=False)"
      ],
      "execution_count": 0,
      "outputs": []
    },
    {
      "cell_type": "markdown",
      "metadata": {
        "id": "Ss6xve3bSbzG",
        "colab_type": "text"
      },
      "source": [
        "##Envio RidgeGSV"
      ]
    },
    {
      "cell_type": "code",
      "metadata": {
        "id": "-Nc_WXThSafg",
        "colab_type": "code",
        "colab": {}
      },
      "source": [
        "predictions = RidgeGSV.predict(Envio_x)\n",
        "predictions = np.exp(predictions)\n",
        "print(predictions.shape)"
      ],
      "execution_count": 0,
      "outputs": []
    },
    {
      "cell_type": "code",
      "metadata": {
        "id": "U7_GfsnsSd1Y",
        "colab_type": "code",
        "colab": {}
      },
      "source": [
        "results = pd.DataFrame({\"Id\": test[\"Id\"].astype('Int32'), \"SalePrice\": predictions})\n",
        "results.to_csv(\"House_7.csv\", index=False)"
      ],
      "execution_count": 0,
      "outputs": []
    },
    {
      "cell_type": "markdown",
      "metadata": {
        "id": "ba7hXg9ySghJ",
        "colab_type": "text"
      },
      "source": [
        "##Envio ElasticGSV"
      ]
    },
    {
      "cell_type": "code",
      "metadata": {
        "id": "Ow1yo-npSfMG",
        "colab_type": "code",
        "colab": {}
      },
      "source": [
        "ElasticGSV.fit(x, y)\n",
        "predictions = ElasticGSV.predict(Envio_x)\n",
        "predictions = np.exp(predictions)\n",
        "print(predictions.shape)"
      ],
      "execution_count": 0,
      "outputs": []
    },
    {
      "cell_type": "code",
      "metadata": {
        "id": "VJTMdxqCSi1N",
        "colab_type": "code",
        "colab": {}
      },
      "source": [
        "results = pd.DataFrame({\"Id\": test[\"Id\"].astype('Int32'), \"SalePrice\": predictions})\n",
        "results.to_csv(\"House_V8.csv\", index=False)"
      ],
      "execution_count": 0,
      "outputs": []
    },
    {
      "cell_type": "code",
      "metadata": {
        "id": "ZW8KSfyQSkuo",
        "colab_type": "code",
        "colab": {}
      },
      "source": [
        ""
      ],
      "execution_count": 0,
      "outputs": []
    }
  ]
}